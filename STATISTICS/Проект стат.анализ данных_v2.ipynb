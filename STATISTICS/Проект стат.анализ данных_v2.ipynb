{
 "cells": [
  {
   "cell_type": "markdown",
   "id": "7cb9f738",
   "metadata": {},
   "source": [
    "# Проект: Исследование сервиса аренды самокатов GoFast  <a class=\"tocSkip\">\n",
    "Имеются данные от популярного сервиса аренды самокатов GoFast о некоторых пользователях из нескольких городов, а также об их поездках. \n",
    "\n",
    "Цель проекта: проверить гипотезы на основе данных, которые могут помочь бизнесу вырасти.\n",
    "\n",
    "**Детали.**\n",
    "    \n",
    "Чтобы совершать поездки по городу, пользователи сервиса GoFast пользуются мобильным приложением. Сервисом можно пользоваться:\n",
    " - без подписки\n",
    "    - абонентская плата отсутствует;\n",
    "    - стоимость одной минуты поездки —8 рублей;\n",
    "    - стоимость старта (начала поездки) —50 рублей;\n",
    " - с подпиской Ultra\n",
    "    - абонентская плата —199 рублей в месяц;\n",
    "    - стоимость одной минуты поездки —6 рублей;\n",
    "    - стоимость старта — бесплатно.\n"
   ]
  },
  {
   "cell_type": "code",
   "execution_count": 1,
   "id": "456f22d0",
   "metadata": {},
   "outputs": [],
   "source": [
    "# загрузка библиотек\n",
    "import pandas as pd\n",
    "\n",
    "# Математика\n",
    "import numpy as np\n",
    "\n",
    "#графики\n",
    "import matplotlib.pyplot as plt\n",
    "\n",
    "import seaborn as sns\n",
    "\n",
    "# проверка гипотез\n",
    "import scipy.stats as st"
   ]
  },
  {
   "cell_type": "markdown",
   "id": "fe01d00c",
   "metadata": {},
   "source": [
    "## Шаг 1: Загрузка данных"
   ]
  },
  {
   "cell_type": "markdown",
   "id": "ba70ef32",
   "metadata": {},
   "source": [
    "###  Загрузка датасетов в датафреймы\n",
    "Считаем CSV-файлы с данными с помощью библиотеки pandas и сохраним их в датафреймы. \n",
    "Пути к файлам локально: `C:\\Users\\79181\\notebook_notebook\\projects\\go_datasets`:\n",
    " - users_go.csv\n",
    " - rides_go.csv\n",
    " - subscr.csv\n",
    " \n",
    " Пути к файлам по ссылкам : \n",
    " - users_go.csv - 'https://code.s3.yandex.net/datasets/users_go.csv'\n",
    " - rides_go.csv - https://code.s3.yandex.net/datasets/subscriptions_go.csv'\n",
    " - subscr.csv - 'https://code.s3.yandex.net/datasets/subscriptions_go.csv'\n",
    " "
   ]
  },
  {
   "cell_type": "code",
   "execution_count": 2,
   "id": "736c413c",
   "metadata": {},
   "outputs": [],
   "source": [
    "# загрузка датасета users_go.csv в датафрейм для анализа\n",
    "try:\n",
    "    users = pd.read_csv(\n",
    "    r'C:\\Users\\79181\\notebook_notebook\\projects\\go_datasets\\users_go.csv')\n",
    "except:\n",
    "    users = pd.read_csv('https://code.s3.yandex.net/datasets/users_go.csv')"
   ]
  },
  {
   "cell_type": "code",
   "execution_count": 3,
   "id": "1d23daf7",
   "metadata": {},
   "outputs": [],
   "source": [
    "# загрузка датасета rides_go.csv в датафрейм\n",
    "try:\n",
    "    rides = pd.read_csv(\n",
    "    r'C:\\Users\\79181\\notebook_notebook\\projects\\go_datasets\\rides_go.csv')\n",
    "except:\n",
    "    rides = pd.read_csv(\n",
    "        'https://code.s3.yandex.net/datasets/rides_go.csv')"
   ]
  },
  {
   "cell_type": "code",
   "execution_count": 4,
   "id": "6c5080ed",
   "metadata": {},
   "outputs": [],
   "source": [
    "# загрузка датасета rides_go.csv в датафрейм\n",
    "try:\n",
    "    subscr = pd.read_csv(\n",
    "    r'C:\\Users\\79181\\notebook_notebook\\projects\\go_datasets\\subscr_go.csv')\n",
    "except:\n",
    "    subscr = pd.read_csv(\n",
    "        'https://code.s3.yandex.net/datasets/subscriptions_go.csv')"
   ]
  },
  {
   "cell_type": "markdown",
   "id": "d5e1716d",
   "metadata": {},
   "source": [
    "### Описание данных в датасетах\n",
    "В основных данных есть информация о пользователях, их поездках и подписках.\n",
    " - Пользователи — users_go.csv\n",
    "     - user_id\tуникальный идентификатор пользователя\n",
    "     - name\tимя пользователя\n",
    "     - age\tвозраст\n",
    "     - city\tгород\n",
    "     - subscription_type\tтип подписки (free, ultra)\n",
    " - Поездки — rides_go.csv\n",
    "     - user_id\tуникальный идентификатор пользователя\n",
    "     - distance\tрасстояние, которое пользователь проехал в текущей сессии (в метрах)\n",
    "     - duration\tпродолжительность сессии (в минутах) — время с того момента, как пользователь нажал кнопку «Начать поездку» до момента, как он нажал кнопку «Завершить поездку»\n",
    "     - date\tдата совершения поездки\n",
    " - Подписки — subscriptions_go.csv\n",
    "     - subscription_type\tтип подписки\n",
    "     - minute_price\tстоимость одной минуты поездки по данной подписке\n",
    "     - start_ride_price\tстоимость начала поездки\n",
    "     - subscription_fee\tстоимость ежемесячного платежа\n"
   ]
  },
  {
   "cell_type": "markdown",
   "id": "f9ca0bf7",
   "metadata": {},
   "source": [
    "### Знакомство с данными\n",
    "Выведем первые строки каждого набора данных. Изучим общую информацию о каждом датафрейме.\n",
    "### Список датафремов"
   ]
  },
  {
   "cell_type": "code",
   "execution_count": 5,
   "id": "052dac57",
   "metadata": {
    "code_folding": []
   },
   "outputs": [],
   "source": [
    "# список датафреймов\n",
    "df_list = [users,\n",
    "            rides,\n",
    "            subscr]\n",
    "# список датафреймов\n",
    "df_name_list = ['users',\n",
    "            'rides',\n",
    "            'subscr']"
   ]
  },
  {
   "cell_type": "markdown",
   "id": "1afb8c60",
   "metadata": {},
   "source": [
    "### Общая информация по датафрейму"
   ]
  },
  {
   "cell_type": "code",
   "execution_count": 6,
   "id": "40667b47",
   "metadata": {},
   "outputs": [
    {
     "name": "stdout",
     "output_type": "stream",
     "text": [
      "✔️ Общая информация для датафрема users:\n",
      "-----------------------------------------------------\n",
      "<class 'pandas.core.frame.DataFrame'>\n",
      "RangeIndex: 1565 entries, 0 to 1564\n",
      "Data columns (total 5 columns):\n",
      " #   Column             Non-Null Count  Dtype \n",
      "---  ------             --------------  ----- \n",
      " 0   user_id            1565 non-null   int64 \n",
      " 1   name               1565 non-null   object\n",
      " 2   age                1565 non-null   int64 \n",
      " 3   city               1565 non-null   object\n",
      " 4   subscription_type  1565 non-null   object\n",
      "dtypes: int64(2), object(3)\n",
      "memory usage: 61.3+ KB\n",
      "-----------------------------------------------------\n",
      "Пропусков в датафреме users =    0 шт.\n",
      "-----------------------------------------------------\n",
      "Первые строки датафрема users:\n"
     ]
    },
    {
     "data": {
      "text/html": [
       "<div>\n",
       "<style scoped>\n",
       "    .dataframe tbody tr th:only-of-type {\n",
       "        vertical-align: middle;\n",
       "    }\n",
       "\n",
       "    .dataframe tbody tr th {\n",
       "        vertical-align: top;\n",
       "    }\n",
       "\n",
       "    .dataframe thead th {\n",
       "        text-align: right;\n",
       "    }\n",
       "</style>\n",
       "<table border=\"1\" class=\"dataframe\">\n",
       "  <thead>\n",
       "    <tr style=\"text-align: right;\">\n",
       "      <th></th>\n",
       "      <th>user_id</th>\n",
       "      <th>name</th>\n",
       "      <th>age</th>\n",
       "      <th>city</th>\n",
       "      <th>subscription_type</th>\n",
       "    </tr>\n",
       "  </thead>\n",
       "  <tbody>\n",
       "    <tr>\n",
       "      <th>0</th>\n",
       "      <td>1</td>\n",
       "      <td>Кира</td>\n",
       "      <td>22</td>\n",
       "      <td>Тюмень</td>\n",
       "      <td>ultra</td>\n",
       "    </tr>\n",
       "    <tr>\n",
       "      <th>1</th>\n",
       "      <td>2</td>\n",
       "      <td>Станислав</td>\n",
       "      <td>31</td>\n",
       "      <td>Омск</td>\n",
       "      <td>ultra</td>\n",
       "    </tr>\n",
       "  </tbody>\n",
       "</table>\n",
       "</div>"
      ],
      "text/plain": [
       "   user_id       name  age    city subscription_type\n",
       "0        1       Кира   22  Тюмень             ultra\n",
       "1        2  Станислав   31    Омск             ultra"
      ]
     },
     "metadata": {},
     "output_type": "display_data"
    },
    {
     "name": "stdout",
     "output_type": "stream",
     "text": [
      "-----------------------------------------------------\n",
      "✔️ Общая информация для датафрема rides:\n",
      "-----------------------------------------------------\n",
      "<class 'pandas.core.frame.DataFrame'>\n",
      "RangeIndex: 18068 entries, 0 to 18067\n",
      "Data columns (total 4 columns):\n",
      " #   Column    Non-Null Count  Dtype  \n",
      "---  ------    --------------  -----  \n",
      " 0   user_id   18068 non-null  int64  \n",
      " 1   distance  18068 non-null  float64\n",
      " 2   duration  18068 non-null  float64\n",
      " 3   date      18068 non-null  object \n",
      "dtypes: float64(2), int64(1), object(1)\n",
      "memory usage: 564.8+ KB\n",
      "-----------------------------------------------------\n",
      "Пропусков в датафреме rides =    0 шт.\n",
      "-----------------------------------------------------\n",
      "Первые строки датафрема rides:\n"
     ]
    },
    {
     "data": {
      "text/html": [
       "<div>\n",
       "<style scoped>\n",
       "    .dataframe tbody tr th:only-of-type {\n",
       "        vertical-align: middle;\n",
       "    }\n",
       "\n",
       "    .dataframe tbody tr th {\n",
       "        vertical-align: top;\n",
       "    }\n",
       "\n",
       "    .dataframe thead th {\n",
       "        text-align: right;\n",
       "    }\n",
       "</style>\n",
       "<table border=\"1\" class=\"dataframe\">\n",
       "  <thead>\n",
       "    <tr style=\"text-align: right;\">\n",
       "      <th></th>\n",
       "      <th>user_id</th>\n",
       "      <th>distance</th>\n",
       "      <th>duration</th>\n",
       "      <th>date</th>\n",
       "    </tr>\n",
       "  </thead>\n",
       "  <tbody>\n",
       "    <tr>\n",
       "      <th>0</th>\n",
       "      <td>1</td>\n",
       "      <td>4409.919140</td>\n",
       "      <td>25.599769</td>\n",
       "      <td>2021-01-01</td>\n",
       "    </tr>\n",
       "    <tr>\n",
       "      <th>1</th>\n",
       "      <td>1</td>\n",
       "      <td>2617.592153</td>\n",
       "      <td>15.816871</td>\n",
       "      <td>2021-01-18</td>\n",
       "    </tr>\n",
       "  </tbody>\n",
       "</table>\n",
       "</div>"
      ],
      "text/plain": [
       "   user_id     distance   duration        date\n",
       "0        1  4409.919140  25.599769  2021-01-01\n",
       "1        1  2617.592153  15.816871  2021-01-18"
      ]
     },
     "metadata": {},
     "output_type": "display_data"
    },
    {
     "name": "stdout",
     "output_type": "stream",
     "text": [
      "-----------------------------------------------------\n",
      "✔️ Общая информация для датафрема subscr:\n",
      "-----------------------------------------------------\n",
      "<class 'pandas.core.frame.DataFrame'>\n",
      "RangeIndex: 2 entries, 0 to 1\n",
      "Data columns (total 4 columns):\n",
      " #   Column             Non-Null Count  Dtype \n",
      "---  ------             --------------  ----- \n",
      " 0   subscription_type  2 non-null      object\n",
      " 1   minute_price       2 non-null      int64 \n",
      " 2   start_ride_price   2 non-null      int64 \n",
      " 3   subscription_fee   2 non-null      int64 \n",
      "dtypes: int64(3), object(1)\n",
      "memory usage: 196.0+ bytes\n",
      "-----------------------------------------------------\n",
      "Пропусков в датафреме subscr =    0 шт.\n",
      "-----------------------------------------------------\n",
      "Первые строки датафрема subscr:\n"
     ]
    },
    {
     "data": {
      "text/html": [
       "<div>\n",
       "<style scoped>\n",
       "    .dataframe tbody tr th:only-of-type {\n",
       "        vertical-align: middle;\n",
       "    }\n",
       "\n",
       "    .dataframe tbody tr th {\n",
       "        vertical-align: top;\n",
       "    }\n",
       "\n",
       "    .dataframe thead th {\n",
       "        text-align: right;\n",
       "    }\n",
       "</style>\n",
       "<table border=\"1\" class=\"dataframe\">\n",
       "  <thead>\n",
       "    <tr style=\"text-align: right;\">\n",
       "      <th></th>\n",
       "      <th>subscription_type</th>\n",
       "      <th>minute_price</th>\n",
       "      <th>start_ride_price</th>\n",
       "      <th>subscription_fee</th>\n",
       "    </tr>\n",
       "  </thead>\n",
       "  <tbody>\n",
       "    <tr>\n",
       "      <th>0</th>\n",
       "      <td>free</td>\n",
       "      <td>8</td>\n",
       "      <td>50</td>\n",
       "      <td>0</td>\n",
       "    </tr>\n",
       "    <tr>\n",
       "      <th>1</th>\n",
       "      <td>ultra</td>\n",
       "      <td>6</td>\n",
       "      <td>0</td>\n",
       "      <td>199</td>\n",
       "    </tr>\n",
       "  </tbody>\n",
       "</table>\n",
       "</div>"
      ],
      "text/plain": [
       "  subscription_type  minute_price  start_ride_price  subscription_fee\n",
       "0              free             8                50                 0\n",
       "1             ultra             6                 0               199"
      ]
     },
     "metadata": {},
     "output_type": "display_data"
    },
    {
     "name": "stdout",
     "output_type": "stream",
     "text": [
      "-----------------------------------------------------\n"
     ]
    }
   ],
   "source": [
    "for i, df in enumerate(df_list):\n",
    "    print(f'✔️ Общая информация для датафрема {df_name_list[i]}:\\n\\\n",
    "-----------------------------------------------------')\n",
    "    df.info()\n",
    "    print('-----------------------------------------------------')\n",
    "    print(f'Пропусков в датафреме {df_name_list[i]} =\\\n",
    "    {df.isnull().sum().sum()} шт.')\n",
    "    print('-----------------------------------------------------')\n",
    "    print(f'Первые строки датафрема {df_name_list[i]}:')\n",
    "    display(df.head(2))\n",
    "    print(f'-----------------------------------------------------')\n"
   ]
  },
  {
   "cell_type": "markdown",
   "id": "943d2786",
   "metadata": {},
   "source": [
    " ### Итоги шага 1\n",
    " Успешно загружено 3 датасета в датафремы 'users', 'rides', 'subscr'.\n",
    " \n",
    " 1. Количество строк, столбцов:\n",
    " - Датафрем users содержит\n",
    "   - 1565 строк,\n",
    "   - 5 столбцов. \n",
    " - Датафрем rides  содрежит\n",
    "   - 18068 строк\n",
    "   - 4 столбца. \n",
    " \n",
    " - Датафрем subscr   содрежит\n",
    "   - 2 строки\n",
    "   - 4 столбца. \n",
    "  \n",
    "2. Стиль написания.  \n",
    "\n",
    "Названия столбцов в датафреймах 'users', 'rides', 'subscr' соответствуют стилю snake_case.\n",
    "3. Типы данных в датафреймах.\n",
    "\n",
    "Типы данных в столбцах датафреймов 'users', 'rides', 'subscr':\n",
    "     - object\n",
    "     - float64\n",
    "     - int64  \n",
    "     \n",
    "В датафреймах users и  subscr - типы данных во всех столбцах соответствуют содержимому.  \n",
    "В датафрейме rides - тип данных в столбце date не соответствуют содержимому. Требуется привести к типу даты в pandas.\n",
    "\n",
    "4. Пропуски.\n",
    "\n",
    "Данных с содержанием null в датафреймах 'users', 'rides', 'subscr' нет.\n",
    " "
   ]
  },
  {
   "cell_type": "markdown",
   "id": "e39a6f07",
   "metadata": {},
   "source": [
    "## Шаг 2: Предобработка данных\n"
   ]
  },
  {
   "cell_type": "markdown",
   "id": "32fae1c8",
   "metadata": {},
   "source": [
    "###  Замена типа данных\n",
    "Приведем столбец date датафрейма rides к типу даты pandas."
   ]
  },
  {
   "cell_type": "code",
   "execution_count": 7,
   "id": "563f60fe",
   "metadata": {},
   "outputs": [
    {
     "name": "stdout",
     "output_type": "stream",
     "text": [
      "\n",
      "Тип данных в столбце date датафрейма rides после замены: datetime64[ns].\n"
     ]
    }
   ],
   "source": [
    "rides['date'] = pd.to_datetime(rides['date'], format='%Y-%m-%d')\n",
    "print('\\nТип данных в столбце date датафрейма rides после замены: \\\n",
    "{}.'.format(rides['date'].dtypes))"
   ]
  },
  {
   "cell_type": "markdown",
   "id": "52b65411",
   "metadata": {},
   "source": [
    "### Добавление столбца с месяцем\n",
    "Для дальнейшего анализа нам понадобятся обобщенные данные по месяцам. Для этого создадим новый столбец с номером месяца на основе столбца date в датафрейме rides.  \n",
    "Используем метод dt.month() для объекта типа datetime. "
   ]
  },
  {
   "cell_type": "code",
   "execution_count": 8,
   "id": "0f317049",
   "metadata": {},
   "outputs": [
    {
     "data": {
      "text/html": [
       "<div>\n",
       "<style scoped>\n",
       "    .dataframe tbody tr th:only-of-type {\n",
       "        vertical-align: middle;\n",
       "    }\n",
       "\n",
       "    .dataframe tbody tr th {\n",
       "        vertical-align: top;\n",
       "    }\n",
       "\n",
       "    .dataframe thead th {\n",
       "        text-align: right;\n",
       "    }\n",
       "</style>\n",
       "<table border=\"1\" class=\"dataframe\">\n",
       "  <thead>\n",
       "    <tr style=\"text-align: right;\">\n",
       "      <th></th>\n",
       "      <th>user_id</th>\n",
       "      <th>distance</th>\n",
       "      <th>duration</th>\n",
       "      <th>date</th>\n",
       "      <th>month</th>\n",
       "    </tr>\n",
       "  </thead>\n",
       "  <tbody>\n",
       "    <tr>\n",
       "      <th>4019</th>\n",
       "      <td>433</td>\n",
       "      <td>2594.466053</td>\n",
       "      <td>20.783398</td>\n",
       "      <td>2021-07-06</td>\n",
       "      <td>7</td>\n",
       "    </tr>\n",
       "    <tr>\n",
       "      <th>9183</th>\n",
       "      <td>900</td>\n",
       "      <td>2579.925628</td>\n",
       "      <td>16.674721</td>\n",
       "      <td>2021-03-10</td>\n",
       "      <td>3</td>\n",
       "    </tr>\n",
       "  </tbody>\n",
       "</table>\n",
       "</div>"
      ],
      "text/plain": [
       "      user_id     distance   duration       date  month\n",
       "4019      433  2594.466053  20.783398 2021-07-06      7\n",
       "9183      900  2579.925628  16.674721 2021-03-10      3"
      ]
     },
     "execution_count": 8,
     "metadata": {},
     "output_type": "execute_result"
    }
   ],
   "source": [
    "# добавляем столбец с месяцем\n",
    "rides['month'] = rides['date'].dt.month\n",
    "# смотрим что получилось\n",
    "rides.sample(n=2, random_state=1)"
   ]
  },
  {
   "cell_type": "code",
   "execution_count": 9,
   "id": "b0aa1421",
   "metadata": {},
   "outputs": [
    {
     "data": {
      "text/plain": [
       "[1, 2, 3, 4, 5, 6, 7, 8, 9, 10, 11, 12]"
      ]
     },
     "execution_count": 9,
     "metadata": {},
     "output_type": "execute_result"
    }
   ],
   "source": [
    "# какие месяцы выделены\n",
    "sorted(rides['month'].unique())"
   ]
  },
  {
   "cell_type": "markdown",
   "id": "282dc9b8",
   "metadata": {},
   "source": [
    "Успешно добавлен столбец с месяцем, в котором выделены все 12 месяцев с 1 по 12, с января по декабрь соответственно.\n"
   ]
  },
  {
   "cell_type": "markdown",
   "id": "e222ae97",
   "metadata": {},
   "source": [
    "### Пропуски и дубликаты\n",
    "Проверим наличие пропущенных значений и дубликатов в датафреймах. Обработайте их, если такие значения присутствуют."
   ]
  },
  {
   "cell_type": "markdown",
   "id": "903e6299",
   "metadata": {},
   "source": [
    "#### Пропуски\n",
    "Явных пропусков нет, это мы выяснили ранее. Проверим, нет ли в данных значений, которые можно интерпретировать как пропуски, так нащываемые заглушки.\n",
    "Для этого посмотрим на уникальные значения в столбцах, в которых могут быть заглушки."
   ]
  },
  {
   "cell_type": "code",
   "execution_count": 10,
   "id": "9c1f2340",
   "metadata": {},
   "outputs": [
    {
     "name": "stdout",
     "output_type": "stream",
     "text": [
      "В столбце users.city уникальных значений = 8\n",
      "Это: ['Екатеринбург', 'Краснодар', 'Москва', 'Омск', 'Пятигорск', 'Ростов-на-Дону', 'Сочи', 'Тюмень']\n"
     ]
    }
   ],
   "source": [
    "print('В столбце users.city уникальных значений =', users.city.nunique())\n",
    "print('Это:', sorted(list(users.city.unique())))"
   ]
  },
  {
   "cell_type": "code",
   "execution_count": 11,
   "id": "39db4e22",
   "metadata": {},
   "outputs": [
    {
     "name": "stdout",
     "output_type": "stream",
     "text": [
      "В столбце users.subscription_type уникальных значений = 2\n",
      "Это: ['ultra', 'free']\n"
     ]
    }
   ],
   "source": [
    "print('В столбце users.subscription_type уникальных значений =',\n",
    "users.subscription_type.nunique())\n",
    "print('Это:', list(users.subscription_type.unique()))"
   ]
  },
  {
   "cell_type": "code",
   "execution_count": 12,
   "id": "7a446d75",
   "metadata": {},
   "outputs": [
    {
     "name": "stdout",
     "output_type": "stream",
     "text": [
      "В столбце users.name уникальных значений = 194\n",
      "Это: ['Агата', 'Аделина', 'Адель', 'Айдар', 'Александр', 'Александра', 'Алексей', 'Алина', 'Алиса', 'Алия', 'Алла', 'Альберт', 'Альбина', 'Алёна', 'Амалия', 'Амина', 'Амир', 'Анастасия', 'Анатолий', 'Ангелина', 'Андрей', 'Анжелика', 'Анна', 'Антон', 'Антонина', 'Ариана', 'Арина', 'Арсен', 'Арсений', 'Артемий', 'Артур', 'Артём', 'Богдан', 'Борис', 'Вадим', 'Валентина', 'Валерий', 'Валерия', 'Варвара', 'Василий', 'Василина', 'Василиса', 'Вера', 'Вероника', 'Виктор', 'Виктория', 'Виолетта', 'Виталий', 'Виталина', 'Влад', 'Влада', 'Владимир', 'Владислав', 'Владислава', 'Всеволод', 'Вячеслав', 'Галина', 'Георгий', 'Герман', 'Глеб', 'Гордей', 'Григорий', 'Давид', 'Дамир', 'Даниил', 'Данил', 'Данила', 'Даниэль', 'Дарина', 'Дарья', 'Демид', 'Денис', 'Диана', 'Дмитрий', 'Ева', 'Евгений', 'Евгения', 'Егор', 'Екатерина', 'Елена', 'Елизавета', 'Елисей', 'Есения', 'Жанна', 'Зарина', 'Захар', 'Злата', 'Иван', 'Игнат', 'Игорь', 'Ильдар', 'Илья', 'Инна', 'Ирина', 'Камилла', 'Карина', 'Каролина', 'Кира', 'Кирилл', 'Константин', 'Кристина', 'Ксения', 'Лариса', 'Лев', 'Леонид', 'Лиана', 'Лидия', 'Лилия', 'Любовь', 'Людмила', 'Мадина', 'Майя', 'Макар', 'Максим', 'Марат', 'Маргарита', 'Марина', 'Мария', 'Марк', 'Марсель', 'Матвей', 'Мелания', 'Милана', 'Милена', 'Мирон', 'Мирослав', 'Мирослава', 'Михаил', 'Назар', 'Наталия', 'Наталья', 'Наташа', 'Нелли', 'Ника', 'Никита', 'Николай', 'Нина', 'Одиссей', 'Оксана', 'Олег', 'Олеся', 'Ольга', 'Павел', 'Петр', 'Платон', 'Полина', 'Радмир', 'Рамиль', 'Регина', 'Роберт', 'Родион', 'Роман', 'Ростислав', 'Руслан', 'Рустам', 'Савелий', 'Самир', 'Самира', 'Светлана', 'Святогор', 'Святослав', 'Семен', 'Сергей', 'Снежана', 'София', 'Софья', 'Станислав', 'Степан', 'Стефания', 'Таисия', 'Тамара', 'Тамерлан', 'Татьяна', 'Тимофей', 'Тимур', 'Тихон', 'Ульяна', 'Федор', 'Эвелина', 'Эдуард', 'Элина', 'Эльвира', 'Эльмира', 'Эмилия', 'Эмиль', 'Юлиана', 'Юлия', 'Юрий', 'Ян', 'Яна', 'Яромир', 'Ярослав', 'Ярослава', 'Ясмина']\n"
     ]
    }
   ],
   "source": [
    "print('В столбце users.name уникальных значений =', users.name.nunique())\n",
    "print('Это:', sorted(list(users.name.unique())))"
   ]
  },
  {
   "cell_type": "code",
   "execution_count": 13,
   "id": "dcebfe94",
   "metadata": {},
   "outputs": [
    {
     "name": "stdout",
     "output_type": "stream",
     "text": [
      "В столбце subscr.subscription_type уникальных значений = 2\n",
      "Это: ['free', 'ultra']\n"
     ]
    }
   ],
   "source": [
    "print('В столбце subscr.subscription_type уникальных значений =\\\n",
    "', subscr.subscription_type.nunique())\n",
    "print('Это:', sorted(list(subscr.subscription_type.unique())))"
   ]
  },
  {
   "cell_type": "markdown",
   "id": "7f163ce3",
   "metadata": {},
   "source": [
    "Данных, которые могли бы быть заглушками вместо пропусков не обнаружено в столбцах subscr.subscription_type, users.name, users.subscription_type и users.city.\n",
    "\n",
    "Городов, в которых собраны данные 8 шт. Это:\n",
    " - 'Екатеринбург', \n",
    " - 'Краснодар', \n",
    "  - 'Москва', \n",
    "  - 'Омск', \n",
    "  - 'Пятигорск', \n",
    "  - 'Ростов-на-Дону', \n",
    "  - 'Сочи', \n",
    "  - 'Тюмень'."
   ]
  },
  {
   "cell_type": "markdown",
   "id": "5d888547",
   "metadata": {},
   "source": [
    "  \n",
    "#### Дубликаты\n",
    "Проверим данные на явные дубликаты"
   ]
  },
  {
   "cell_type": "code",
   "execution_count": 14,
   "id": "006fe9a8",
   "metadata": {},
   "outputs": [
    {
     "name": "stdout",
     "output_type": "stream",
     "text": [
      "Количество явных дубликатов в датафрейме users: 31 шт.\n",
      "Количество явных дубликатов в датафрейме rides: 0 шт.\n",
      "Количество явных дубликатов в датафрейме subscr: 0 шт.\n"
     ]
    }
   ],
   "source": [
    "# цикл для получения данных о дубликатах в датафреймах\n",
    "for i, df in enumerate(df_list):\n",
    "    print(f'Количество явных дубликатов в датафрейме {df_name_list[i]}: \\\n",
    "{df.duplicated().sum()} шт.')"
   ]
  },
  {
   "cell_type": "markdown",
   "id": "9c8a5de2",
   "metadata": {},
   "source": [
    "Посмотрим на дубликаты в датафрейме users, их там выявлено 31 шт."
   ]
  },
  {
   "cell_type": "code",
   "execution_count": 15,
   "id": "22b08e30",
   "metadata": {},
   "outputs": [
    {
     "data": {
      "text/html": [
       "<div>\n",
       "<style scoped>\n",
       "    .dataframe tbody tr th:only-of-type {\n",
       "        vertical-align: middle;\n",
       "    }\n",
       "\n",
       "    .dataframe tbody tr th {\n",
       "        vertical-align: top;\n",
       "    }\n",
       "\n",
       "    .dataframe thead th {\n",
       "        text-align: right;\n",
       "    }\n",
       "</style>\n",
       "<table border=\"1\" class=\"dataframe\">\n",
       "  <thead>\n",
       "    <tr style=\"text-align: right;\">\n",
       "      <th></th>\n",
       "      <th>user_id</th>\n",
       "      <th>name</th>\n",
       "      <th>age</th>\n",
       "      <th>city</th>\n",
       "      <th>subscription_type</th>\n",
       "    </tr>\n",
       "  </thead>\n",
       "  <tbody>\n",
       "    <tr>\n",
       "      <th>1534</th>\n",
       "      <td>293</td>\n",
       "      <td>Агата</td>\n",
       "      <td>26</td>\n",
       "      <td>Краснодар</td>\n",
       "      <td>ultra</td>\n",
       "    </tr>\n",
       "    <tr>\n",
       "      <th>1535</th>\n",
       "      <td>16</td>\n",
       "      <td>Амалия</td>\n",
       "      <td>27</td>\n",
       "      <td>Краснодар</td>\n",
       "      <td>ultra</td>\n",
       "    </tr>\n",
       "    <tr>\n",
       "      <th>1536</th>\n",
       "      <td>909</td>\n",
       "      <td>Константин</td>\n",
       "      <td>20</td>\n",
       "      <td>Екатеринбург</td>\n",
       "      <td>free</td>\n",
       "    </tr>\n",
       "    <tr>\n",
       "      <th>1537</th>\n",
       "      <td>403</td>\n",
       "      <td>Полина</td>\n",
       "      <td>19</td>\n",
       "      <td>Сочи</td>\n",
       "      <td>ultra</td>\n",
       "    </tr>\n",
       "    <tr>\n",
       "      <th>1538</th>\n",
       "      <td>908</td>\n",
       "      <td>Рустам</td>\n",
       "      <td>30</td>\n",
       "      <td>Тюмень</td>\n",
       "      <td>free</td>\n",
       "    </tr>\n",
       "    <tr>\n",
       "      <th>1539</th>\n",
       "      <td>43</td>\n",
       "      <td>Стефания</td>\n",
       "      <td>22</td>\n",
       "      <td>Омск</td>\n",
       "      <td>ultra</td>\n",
       "    </tr>\n",
       "    <tr>\n",
       "      <th>1540</th>\n",
       "      <td>127</td>\n",
       "      <td>Павел</td>\n",
       "      <td>25</td>\n",
       "      <td>Пятигорск</td>\n",
       "      <td>ultra</td>\n",
       "    </tr>\n",
       "    <tr>\n",
       "      <th>1541</th>\n",
       "      <td>659</td>\n",
       "      <td>Злата</td>\n",
       "      <td>27</td>\n",
       "      <td>Ростов-на-Дону</td>\n",
       "      <td>ultra</td>\n",
       "    </tr>\n",
       "    <tr>\n",
       "      <th>1542</th>\n",
       "      <td>204</td>\n",
       "      <td>Руслан</td>\n",
       "      <td>30</td>\n",
       "      <td>Пятигорск</td>\n",
       "      <td>ultra</td>\n",
       "    </tr>\n",
       "    <tr>\n",
       "      <th>1543</th>\n",
       "      <td>153</td>\n",
       "      <td>Герман</td>\n",
       "      <td>23</td>\n",
       "      <td>Москва</td>\n",
       "      <td>ultra</td>\n",
       "    </tr>\n",
       "    <tr>\n",
       "      <th>1544</th>\n",
       "      <td>1245</td>\n",
       "      <td>Регина</td>\n",
       "      <td>27</td>\n",
       "      <td>Пятигорск</td>\n",
       "      <td>free</td>\n",
       "    </tr>\n",
       "    <tr>\n",
       "      <th>1545</th>\n",
       "      <td>807</td>\n",
       "      <td>Александр</td>\n",
       "      <td>28</td>\n",
       "      <td>Екатеринбург</td>\n",
       "      <td>free</td>\n",
       "    </tr>\n",
       "    <tr>\n",
       "      <th>1546</th>\n",
       "      <td>924</td>\n",
       "      <td>Мария</td>\n",
       "      <td>23</td>\n",
       "      <td>Пятигорск</td>\n",
       "      <td>free</td>\n",
       "    </tr>\n",
       "    <tr>\n",
       "      <th>1547</th>\n",
       "      <td>635</td>\n",
       "      <td>Герман</td>\n",
       "      <td>21</td>\n",
       "      <td>Москва</td>\n",
       "      <td>ultra</td>\n",
       "    </tr>\n",
       "    <tr>\n",
       "      <th>1548</th>\n",
       "      <td>136</td>\n",
       "      <td>Марсель</td>\n",
       "      <td>25</td>\n",
       "      <td>Тюмень</td>\n",
       "      <td>ultra</td>\n",
       "    </tr>\n",
       "    <tr>\n",
       "      <th>1549</th>\n",
       "      <td>108</td>\n",
       "      <td>Влада</td>\n",
       "      <td>29</td>\n",
       "      <td>Тюмень</td>\n",
       "      <td>ultra</td>\n",
       "    </tr>\n",
       "    <tr>\n",
       "      <th>1550</th>\n",
       "      <td>737</td>\n",
       "      <td>Мелания</td>\n",
       "      <td>27</td>\n",
       "      <td>Ростов-на-Дону</td>\n",
       "      <td>free</td>\n",
       "    </tr>\n",
       "    <tr>\n",
       "      <th>1551</th>\n",
       "      <td>666</td>\n",
       "      <td>Зарина</td>\n",
       "      <td>29</td>\n",
       "      <td>Москва</td>\n",
       "      <td>ultra</td>\n",
       "    </tr>\n",
       "    <tr>\n",
       "      <th>1552</th>\n",
       "      <td>297</td>\n",
       "      <td>Егор</td>\n",
       "      <td>33</td>\n",
       "      <td>Пятигорск</td>\n",
       "      <td>ultra</td>\n",
       "    </tr>\n",
       "    <tr>\n",
       "      <th>1553</th>\n",
       "      <td>121</td>\n",
       "      <td>Алина</td>\n",
       "      <td>25</td>\n",
       "      <td>Пятигорск</td>\n",
       "      <td>ultra</td>\n",
       "    </tr>\n",
       "    <tr>\n",
       "      <th>1554</th>\n",
       "      <td>1198</td>\n",
       "      <td>Демид</td>\n",
       "      <td>29</td>\n",
       "      <td>Ростов-на-Дону</td>\n",
       "      <td>free</td>\n",
       "    </tr>\n",
       "    <tr>\n",
       "      <th>1555</th>\n",
       "      <td>72</td>\n",
       "      <td>Никита</td>\n",
       "      <td>25</td>\n",
       "      <td>Москва</td>\n",
       "      <td>ultra</td>\n",
       "    </tr>\n",
       "    <tr>\n",
       "      <th>1556</th>\n",
       "      <td>422</td>\n",
       "      <td>Кирилл</td>\n",
       "      <td>27</td>\n",
       "      <td>Сочи</td>\n",
       "      <td>ultra</td>\n",
       "    </tr>\n",
       "    <tr>\n",
       "      <th>1557</th>\n",
       "      <td>611</td>\n",
       "      <td>Владимир</td>\n",
       "      <td>28</td>\n",
       "      <td>Омск</td>\n",
       "      <td>ultra</td>\n",
       "    </tr>\n",
       "    <tr>\n",
       "      <th>1558</th>\n",
       "      <td>1237</td>\n",
       "      <td>Евгения</td>\n",
       "      <td>23</td>\n",
       "      <td>Тюмень</td>\n",
       "      <td>free</td>\n",
       "    </tr>\n",
       "    <tr>\n",
       "      <th>1559</th>\n",
       "      <td>209</td>\n",
       "      <td>Андрей</td>\n",
       "      <td>23</td>\n",
       "      <td>Омск</td>\n",
       "      <td>ultra</td>\n",
       "    </tr>\n",
       "    <tr>\n",
       "      <th>1560</th>\n",
       "      <td>829</td>\n",
       "      <td>Федор</td>\n",
       "      <td>29</td>\n",
       "      <td>Пятигорск</td>\n",
       "      <td>free</td>\n",
       "    </tr>\n",
       "    <tr>\n",
       "      <th>1561</th>\n",
       "      <td>809</td>\n",
       "      <td>Юрий</td>\n",
       "      <td>26</td>\n",
       "      <td>Сочи</td>\n",
       "      <td>free</td>\n",
       "    </tr>\n",
       "    <tr>\n",
       "      <th>1562</th>\n",
       "      <td>307</td>\n",
       "      <td>Ясмина</td>\n",
       "      <td>19</td>\n",
       "      <td>Краснодар</td>\n",
       "      <td>ultra</td>\n",
       "    </tr>\n",
       "    <tr>\n",
       "      <th>1563</th>\n",
       "      <td>47</td>\n",
       "      <td>Юрий</td>\n",
       "      <td>28</td>\n",
       "      <td>Тюмень</td>\n",
       "      <td>ultra</td>\n",
       "    </tr>\n",
       "    <tr>\n",
       "      <th>1564</th>\n",
       "      <td>1045</td>\n",
       "      <td>Артемий</td>\n",
       "      <td>28</td>\n",
       "      <td>Ростов-на-Дону</td>\n",
       "      <td>free</td>\n",
       "    </tr>\n",
       "  </tbody>\n",
       "</table>\n",
       "</div>"
      ],
      "text/plain": [
       "      user_id        name  age            city subscription_type\n",
       "1534      293       Агата   26       Краснодар             ultra\n",
       "1535       16      Амалия   27       Краснодар             ultra\n",
       "1536      909  Константин   20    Екатеринбург              free\n",
       "1537      403      Полина   19            Сочи             ultra\n",
       "1538      908      Рустам   30          Тюмень              free\n",
       "1539       43    Стефания   22            Омск             ultra\n",
       "1540      127       Павел   25       Пятигорск             ultra\n",
       "1541      659       Злата   27  Ростов-на-Дону             ultra\n",
       "1542      204      Руслан   30       Пятигорск             ultra\n",
       "1543      153      Герман   23          Москва             ultra\n",
       "1544     1245      Регина   27       Пятигорск              free\n",
       "1545      807   Александр   28    Екатеринбург              free\n",
       "1546      924       Мария   23       Пятигорск              free\n",
       "1547      635      Герман   21          Москва             ultra\n",
       "1548      136     Марсель   25          Тюмень             ultra\n",
       "1549      108       Влада   29          Тюмень             ultra\n",
       "1550      737     Мелания   27  Ростов-на-Дону              free\n",
       "1551      666      Зарина   29          Москва             ultra\n",
       "1552      297        Егор   33       Пятигорск             ultra\n",
       "1553      121       Алина   25       Пятигорск             ultra\n",
       "1554     1198       Демид   29  Ростов-на-Дону              free\n",
       "1555       72      Никита   25          Москва             ultra\n",
       "1556      422      Кирилл   27            Сочи             ultra\n",
       "1557      611    Владимир   28            Омск             ultra\n",
       "1558     1237     Евгения   23          Тюмень              free\n",
       "1559      209      Андрей   23            Омск             ultra\n",
       "1560      829       Федор   29       Пятигорск              free\n",
       "1561      809        Юрий   26            Сочи              free\n",
       "1562      307      Ясмина   19       Краснодар             ultra\n",
       "1563       47        Юрий   28          Тюмень             ultra\n",
       "1564     1045     Артемий   28  Ростов-на-Дону              free"
      ]
     },
     "execution_count": 15,
     "metadata": {},
     "output_type": "execute_result"
    }
   ],
   "source": [
    "users[users.duplicated()]"
   ]
  },
  {
   "cell_type": "markdown",
   "id": "7b52aaca",
   "metadata": {},
   "source": [
    "Неявных дубликатов выявить нельзя, так как единственным идтификатором для пользователя сможет быть его user_id. Остальные данные как имя, возраст, город и вид подписки могут совпадать.\n",
    "\n",
    "Удалим выявленные дубликаты и перезапишем датафрейм"
   ]
  },
  {
   "cell_type": "code",
   "execution_count": 16,
   "id": "c97900fd",
   "metadata": {},
   "outputs": [
    {
     "name": "stdout",
     "output_type": "stream",
     "text": [
      "Задублировано 2 % от данных.\n",
      "В датафрейме users 1565 строк до удаления дубликатов.\n",
      "После удаления дубликатов стало 1534 строк.\n"
     ]
    }
   ],
   "source": [
    "print(f'Задублировано \\\n",
    "{round(len(users[users.duplicated()]) *100 / len(users))} % от данных.')\n",
    "#удалим дубликаты\n",
    "print(f'В датафрейме users {users.shape[0]} строк до удаления дубликатов.')\n",
    "users.drop_duplicates(inplace=True)\n",
    "print(f'После удаления дубликатов стало {users.shape[0]} строк.')"
   ]
  },
  {
   "cell_type": "markdown",
   "id": "a679fbda",
   "metadata": {},
   "source": [
    "### Итоги шага 2\n",
    "В столбце date датафрейма rides заменили тип данных на datetime64. Также \n",
    "\n",
    "Успешно добавлен столбец в датафрейм rides с месяцем, в котором выделены все 12 месяцев с 1 по 12, с января по декабрь соответственно.\n",
    "Во всех датафреймах данные даны полные, без пропусков и без заглушек, которые могли заменить пропуски. \n",
    "\n",
    "В датафрейме users с информацией о пользователях удалено 2% (31 шт.) дубликатов строк. Дубликаты скорее всего образовались случайно из-за ошибки выгрузки.\n",
    "\n"
   ]
  },
  {
   "cell_type": "markdown",
   "id": "66622890",
   "metadata": {},
   "source": [
    "## Шаг 3: Исследовательский анализ данных\n",
    "Опишем и визуализируем общую информацию о пользователях и поездках."
   ]
  },
  {
   "cell_type": "markdown",
   "id": "0b263e71",
   "metadata": {},
   "source": [
    "### Частота встречаемости городов.\n",
    "Мы выявили , что у нас пользователи из 8 городов. Это: \n",
    " - 'Екатеринбург', \n",
    " - 'Краснодар', \n",
    " - 'Москва', \n",
    " - 'Омск', \n",
    " - 'Пятигорск', \n",
    " - 'Ростов-на-Дону', \n",
    " - 'Сочи',\n",
    " - 'Тюмень'.\n",
    "\n",
    "Выявим, какой город встречается чаще всего.\n",
    "#### Таблица Частота встречаемости городов"
   ]
  },
  {
   "cell_type": "code",
   "execution_count": 17,
   "id": "f7d23edb",
   "metadata": {},
   "outputs": [
    {
     "data": {
      "text/html": [
       "<style type=\"text/css\">\n",
       "#T_1b8da_row0_col1, #T_1b8da_row0_col2 {\n",
       "  background-color: #00441b;\n",
       "  color: #f1f1f1;\n",
       "}\n",
       "#T_1b8da_row1_col1 {\n",
       "  background-color: #2e964d;\n",
       "  color: #f1f1f1;\n",
       "}\n",
       "#T_1b8da_row1_col2 {\n",
       "  background-color: #2f984f;\n",
       "  color: #f1f1f1;\n",
       "}\n",
       "#T_1b8da_row2_col1 {\n",
       "  background-color: #50b264;\n",
       "  color: #f1f1f1;\n",
       "}\n",
       "#T_1b8da_row2_col2 {\n",
       "  background-color: #55b567;\n",
       "  color: #f1f1f1;\n",
       "}\n",
       "#T_1b8da_row3_col1 {\n",
       "  background-color: #78c679;\n",
       "  color: #000000;\n",
       "}\n",
       "#T_1b8da_row3_col2 {\n",
       "  background-color: #79c67a;\n",
       "  color: #000000;\n",
       "}\n",
       "#T_1b8da_row4_col1 {\n",
       "  background-color: #94d390;\n",
       "  color: #000000;\n",
       "}\n",
       "#T_1b8da_row4_col2 {\n",
       "  background-color: #9bd696;\n",
       "  color: #000000;\n",
       "}\n",
       "#T_1b8da_row5_col1 {\n",
       "  background-color: #bae3b3;\n",
       "  color: #000000;\n",
       "}\n",
       "#T_1b8da_row5_col2 {\n",
       "  background-color: #c1e6ba;\n",
       "  color: #000000;\n",
       "}\n",
       "#T_1b8da_row6_col1 {\n",
       "  background-color: #cbeac4;\n",
       "  color: #000000;\n",
       "}\n",
       "#T_1b8da_row6_col2 {\n",
       "  background-color: #d0edca;\n",
       "  color: #000000;\n",
       "}\n",
       "#T_1b8da_row7_col1, #T_1b8da_row7_col2 {\n",
       "  background-color: #f7fcf5;\n",
       "  color: #000000;\n",
       "}\n",
       "</style>\n",
       "<table id=\"T_1b8da\">\n",
       "  <thead>\n",
       "    <tr>\n",
       "      <th class=\"blank level0\" >&nbsp;</th>\n",
       "      <th id=\"T_1b8da_level0_col0\" class=\"col_heading level0 col0\" >city</th>\n",
       "      <th id=\"T_1b8da_level0_col1\" class=\"col_heading level0 col1\" >count</th>\n",
       "      <th id=\"T_1b8da_level0_col2\" class=\"col_heading level0 col2\" >count_%</th>\n",
       "    </tr>\n",
       "  </thead>\n",
       "  <tbody>\n",
       "    <tr>\n",
       "      <th id=\"T_1b8da_level0_row0\" class=\"row_heading level0 row0\" >0</th>\n",
       "      <td id=\"T_1b8da_row0_col0\" class=\"data row0 col0\" >Пятигорск</td>\n",
       "      <td id=\"T_1b8da_row0_col1\" class=\"data row0 col1\" >219</td>\n",
       "      <td id=\"T_1b8da_row0_col2\" class=\"data row0 col2\" >14.300000</td>\n",
       "    </tr>\n",
       "    <tr>\n",
       "      <th id=\"T_1b8da_level0_row1\" class=\"row_heading level0 row1\" >1</th>\n",
       "      <td id=\"T_1b8da_row1_col0\" class=\"data row1 col0\" >Екатеринбург</td>\n",
       "      <td id=\"T_1b8da_row1_col1\" class=\"data row1 col1\" >204</td>\n",
       "      <td id=\"T_1b8da_row1_col2\" class=\"data row1 col2\" >13.300000</td>\n",
       "    </tr>\n",
       "    <tr>\n",
       "      <th id=\"T_1b8da_level0_row2\" class=\"row_heading level0 row2\" >2</th>\n",
       "      <td id=\"T_1b8da_row2_col0\" class=\"data row2 col0\" >Ростов-на-Дону</td>\n",
       "      <td id=\"T_1b8da_row2_col1\" class=\"data row2 col1\" >198</td>\n",
       "      <td id=\"T_1b8da_row2_col2\" class=\"data row2 col2\" >12.900000</td>\n",
       "    </tr>\n",
       "    <tr>\n",
       "      <th id=\"T_1b8da_level0_row3\" class=\"row_heading level0 row3\" >3</th>\n",
       "      <td id=\"T_1b8da_row3_col0\" class=\"data row3 col0\" >Краснодар</td>\n",
       "      <td id=\"T_1b8da_row3_col1\" class=\"data row3 col1\" >193</td>\n",
       "      <td id=\"T_1b8da_row3_col2\" class=\"data row3 col2\" >12.600000</td>\n",
       "    </tr>\n",
       "    <tr>\n",
       "      <th id=\"T_1b8da_level0_row4\" class=\"row_heading level0 row4\" >4</th>\n",
       "      <td id=\"T_1b8da_row4_col0\" class=\"data row4 col0\" >Сочи</td>\n",
       "      <td id=\"T_1b8da_row4_col1\" class=\"data row4 col1\" >189</td>\n",
       "      <td id=\"T_1b8da_row4_col2\" class=\"data row4 col2\" >12.300000</td>\n",
       "    </tr>\n",
       "    <tr>\n",
       "      <th id=\"T_1b8da_level0_row5\" class=\"row_heading level0 row5\" >5</th>\n",
       "      <td id=\"T_1b8da_row5_col0\" class=\"data row5 col0\" >Омск</td>\n",
       "      <td id=\"T_1b8da_row5_col1\" class=\"data row5 col1\" >183</td>\n",
       "      <td id=\"T_1b8da_row5_col2\" class=\"data row5 col2\" >11.900000</td>\n",
       "    </tr>\n",
       "    <tr>\n",
       "      <th id=\"T_1b8da_level0_row6\" class=\"row_heading level0 row6\" >6</th>\n",
       "      <td id=\"T_1b8da_row6_col0\" class=\"data row6 col0\" >Тюмень</td>\n",
       "      <td id=\"T_1b8da_row6_col1\" class=\"data row6 col1\" >180</td>\n",
       "      <td id=\"T_1b8da_row6_col2\" class=\"data row6 col2\" >11.700000</td>\n",
       "    </tr>\n",
       "    <tr>\n",
       "      <th id=\"T_1b8da_level0_row7\" class=\"row_heading level0 row7\" >7</th>\n",
       "      <td id=\"T_1b8da_row7_col0\" class=\"data row7 col0\" >Москва</td>\n",
       "      <td id=\"T_1b8da_row7_col1\" class=\"data row7 col1\" >168</td>\n",
       "      <td id=\"T_1b8da_row7_col2\" class=\"data row7 col2\" >11.000000</td>\n",
       "    </tr>\n",
       "  </tbody>\n",
       "</table>\n"
      ],
      "text/plain": [
       "<pandas.io.formats.style.Styler at 0x26e7d06d520>"
      ]
     },
     "execution_count": 17,
     "metadata": {},
     "output_type": "execute_result"
    }
   ],
   "source": [
    "# делаем копию датафрейма\n",
    "city = users.copy(deep=True)\n",
    "# считаем города и записываем в датафрейм\n",
    "city = city.city.value_counts().reset_index()\n",
    "# добавляем столбец\n",
    "city['count_%'] = round(city['count'] * 100 / city['count'].sum(), 1)\n",
    "# выводим таблицу с заливкой\n",
    "city.style.background_gradient(cmap='Greens') #cubehelix"
   ]
  },
  {
   "cell_type": "markdown",
   "id": "c3591e0b",
   "metadata": {},
   "source": [
    "#### График частота встречаемости городов, %"
   ]
  },
  {
   "cell_type": "code",
   "execution_count": 18,
   "id": "b2922068",
   "metadata": {},
   "outputs": [
    {
     "data": {
      "image/png": "[encoded data removed]",
      "text/plain": [
       "<Figure size 1200x600 with 1 Axes>"
      ]
     },
     "metadata": {},
     "output_type": "display_data"
    }
   ],
   "source": [
    "plt.figure(figsize=(12,6))\n",
    "\n",
    "splot = sns.barplot(\n",
    "            data=city,\n",
    "            x='city', \n",
    "            y='count_%',\n",
    "            color='#0A5EB0',       # цвет столбцов\n",
    "            alpha=0.8\n",
    "           )\n",
    "#добавляем подписи к столбцам со значением   \n",
    "for p in splot.patches: \n",
    "    splot.annotate(format(round(p.get_height(), 3), '.1f'), \n",
    "                   (p.get_x() + p.get_width() / 2., p.get_height()), \n",
    "                   ha='center', va='center', \n",
    "                   size=12, \n",
    "                   xytext=(0, 12), \n",
    "                   textcoords='offset points')\n",
    "#подписываем график\n",
    "plt.title('Частота встречаемости городов, %',\n",
    "         fontsize=16, fontweight=\"bold\")\n",
    "\n",
    "plt.xlabel('Города',\n",
    "          fontsize=14, fontweight=\"bold\")\n",
    "plt.ylabel('%',\n",
    "          fontsize=20, fontweight=\"bold\")\n",
    "plt.grid(False)\n",
    "# цвет подложки one of {darkgrid, whitegrid, dark, white, ticks}\n",
    "sns.set_style(\"whitegrid\")\n",
    "\n",
    "#уберем границы в графике-despine удаляет правую и верхнюю границы \n",
    "sns.despine()\n",
    "#выводим график\n",
    "plt.show()"
   ]
  },
  {
   "cell_type": "markdown",
   "id": "39a96429",
   "metadata": {},
   "source": [
    "8 городов поделили пользователей в пределах 11%-14.3%. Нельзя сказать, что поровну, но и без больших перекосов.\n",
    "\n",
    "Лидер среди городов - Пятигорск на него приходится 14.3% всех пользователей, а меньше всего у Москвы - там 11%."
   ]
  },
  {
   "cell_type": "markdown",
   "id": "8b9d6a4e",
   "metadata": {},
   "source": [
    "### Пользователи с подпиской и без подписки\n",
    "Найдем соотношение пользователей с подпиской и без подписки.\n",
    "\n",
    "Для этого составим сводную таблицу датафрейма users. Тип подписки указан в столбце subscription_type.\n",
    "#### Таблица пользователей в разрезе подписки"
   ]
  },
  {
   "cell_type": "code",
   "execution_count": 19,
   "id": "8ee66a30",
   "metadata": {},
   "outputs": [
    {
     "data": {
      "text/html": [
       "<div>\n",
       "<style scoped>\n",
       "    .dataframe tbody tr th:only-of-type {\n",
       "        vertical-align: middle;\n",
       "    }\n",
       "\n",
       "    .dataframe tbody tr th {\n",
       "        vertical-align: top;\n",
       "    }\n",
       "\n",
       "    .dataframe thead th {\n",
       "        text-align: right;\n",
       "    }\n",
       "</style>\n",
       "<table border=\"1\" class=\"dataframe\">\n",
       "  <thead>\n",
       "    <tr style=\"text-align: right;\">\n",
       "      <th></th>\n",
       "      <th>subscription_type</th>\n",
       "      <th>count</th>\n",
       "      <th>count_%</th>\n",
       "    </tr>\n",
       "  </thead>\n",
       "  <tbody>\n",
       "    <tr>\n",
       "      <th>0</th>\n",
       "      <td>free</td>\n",
       "      <td>835</td>\n",
       "      <td>54.4</td>\n",
       "    </tr>\n",
       "    <tr>\n",
       "      <th>1</th>\n",
       "      <td>ultra</td>\n",
       "      <td>699</td>\n",
       "      <td>45.6</td>\n",
       "    </tr>\n",
       "  </tbody>\n",
       "</table>\n",
       "</div>"
      ],
      "text/plain": [
       "  subscription_type  count  count_%\n",
       "0              free    835     54.4\n",
       "1             ultra    699     45.6"
      ]
     },
     "execution_count": 19,
     "metadata": {},
     "output_type": "execute_result"
    }
   ],
   "source": [
    "subscription_type = users.copy(deep=True) \n",
    "subscription_type = subscription_type.pivot_table(\n",
    "    index='subscription_type',\n",
    "    values = 'user_id',\n",
    "    aggfunc='count'\n",
    ").reset_index()\n",
    "subscription_type.rename(columns={'user_id':'count'}, \n",
    "                      inplace=True)\n",
    "subscription_type['count_%'] = round((subscription_type['count'] * 100 / \n",
    "                                subscription_type['count'].sum()), 1)\n",
    "subscription_type"
   ]
  },
  {
   "cell_type": "markdown",
   "id": "8f145e86",
   "metadata": {},
   "source": [
    "#### График: Пайчат пользователей с подпиской и без"
   ]
  },
  {
   "cell_type": "code",
   "execution_count": 20,
   "id": "6b4617ef",
   "metadata": {},
   "outputs": [
    {
     "data": {
      "image/png": "[encoded data removed]",
      "text/plain": [
       "<Figure size 500x500 with 1 Axes>"
      ]
     },
     "metadata": {},
     "output_type": "display_data"
    }
   ],
   "source": [
    "# зададим размеры фигуры\n",
    "plt.figure(figsize=(5,5))\n",
    "# определим расстояние междучастями пайчарта\n",
    "explode = [0, 0.01] \n",
    "# определим цветовую палитру \n",
    "palette_color = sns.color_palette('Set1') \n",
    "  \n",
    "# задаем параметры для пайчарта\n",
    "plt.pie(subscription_type['count'], \n",
    "        labels=subscription_type['subscription_type'], \n",
    "        colors=palette_color, \n",
    "        explode=explode, \n",
    "        startangle=65, # поворот пайчарта\n",
    "        autopct='%.1f%%') \n",
    " #подписываем график\n",
    "plt.title('Соотношение пользователей\\nс подпиской и без, %',\n",
    "         fontsize=14, fontweight=\"bold\")\n",
    "\n",
    "#выводим график\n",
    "plt.show()  "
   ]
  },
  {
   "cell_type": "code",
   "execution_count": 21,
   "id": "190fa0b9",
   "metadata": {},
   "outputs": [
    {
     "name": "stdout",
     "output_type": "stream",
     "text": [
      "Доля пользователей без подписки больше на 8.9 %.\n",
      "Доля пользователей без подписки равна 54.4 %\n",
      "Доля пользователей с подпиской равна 45.6 %\n"
     ]
    }
   ],
   "source": [
    "# считаем если с подпиской больше\n",
    "if (len(users.query('subscription_type == \"ultra\"')) > \n",
    "    len(users.query('subscription_type == \"free\"'))):\n",
    "    print('Доля пользователей c подпиской больше на  {} %'.format(\n",
    "    round(\n",
    "         ((len(users.query('subscription_type == \"ultra\"')) / len(users)) - \n",
    "    ( 1 - (len(users.query('subscription_type == \"ultra\"')) / len(users)) ) \n",
    "         )\n",
    "    * 100, 1)\n",
    "                                                     )\n",
    "     )\n",
    "    print('Доля пользователей c подпиской равна {} %'.format(\n",
    "    round(\n",
    "         ((len(users.query('subscription_type == \"ultra\"')) / len(users))  \n",
    "         )\n",
    "    * 100, 1)\n",
    "    ))\n",
    "    print('Доля пользователей без подписки равна {} %'.format(\n",
    "    round(\n",
    "         ((len(users.query('subscription_type == \"free\"')) / len(users))  \n",
    "         ) * 100, 1)\n",
    "    ))\n",
    "# считаем если без подписки больше    \n",
    "elif (len(users.query('subscription_type == \"free\"')) > \n",
    "    len(users.query('subscription_type == \"ultra\"'))):\n",
    "    print('Доля пользователей без подписки больше на {} %.'.format(\n",
    "    round(\n",
    "         ((len(users.query('subscription_type == \"free\"')) / len(users)) - \n",
    "    ( 1 - (len(users.query('subscription_type == \"free\"')) / len(users)) ) \n",
    "         )\n",
    "    * 100, 1)\n",
    "                                                     ))\n",
    "    print('Доля пользователей без подписки равна {} %'.format(\n",
    "    round(\n",
    "         ((len(users.query('subscription_type == \"free\"')) / len(users))  \n",
    "         ) * 100, 1)\n",
    "    ))\n",
    "    print('Доля пользователей с подпиской равна {} %'.format(\n",
    "    round(\n",
    "         ((len(users.query('subscription_type != \"free\"')) / len(users))  \n",
    "         ) * 100, 1)\n",
    "    )                \n",
    "         )      "
   ]
  },
  {
   "cell_type": "markdown",
   "id": "abd2e84b",
   "metadata": {},
   "source": [
    "### Возраст пользователей.\n",
    "Сгруппируем данные о возрасте пользователей и сохраним в датафреме ages. Найдем минимальный и максимальный возраст пользователей."
   ]
  },
  {
   "cell_type": "code",
   "execution_count": 22,
   "id": "b687bc24",
   "metadata": {},
   "outputs": [
    {
     "name": "stdout",
     "output_type": "stream",
     "text": [
      "Возраст пользователей от 12 до 43.\n"
     ]
    }
   ],
   "source": [
    "# сделаем копию датафрейма\n",
    "ages = users.copy(deep=True)\n",
    "# сгруппируем данные, сбросим индексы, отсортируем по возрасту\n",
    "ages = ages.age.value_counts().reset_index().sort_values(by='age')\n",
    "# добавим столбец с долей по возрасту\n",
    "ages['count_%'] = ages['count'] * 100 / ages['count'].sum()\n",
    "# найдем мин и макс возраста\n",
    "print('Возраст пользователей от {} до {}\\\n",
    ".'.format(min(ages['age']), max(ages['age'])))"
   ]
  },
  {
   "cell_type": "markdown",
   "id": "e5932e41",
   "metadata": {},
   "source": [
    "#### График: Доля каждого возраста пользователей, %',"
   ]
  },
  {
   "cell_type": "code",
   "execution_count": 23,
   "id": "1cfd2058",
   "metadata": {},
   "outputs": [
    {
     "data": {
      "image/png": "[encoded data removed]",
      "text/plain": [
       "<Figure size 1200x600 with 1 Axes>"
      ]
     },
     "metadata": {},
     "output_type": "display_data"
    }
   ],
   "source": [
    "plt.figure(figsize=(12,6))\n",
    "\n",
    "splot = sns.barplot(\n",
    "            data=ages,\n",
    "            x='age', \n",
    "            y='count_%',\n",
    "            color='#5D8736',       # цвет столбцов\n",
    "            alpha=0.9\n",
    "           )\n",
    "#добавляем подписи к столбцам со значением   \n",
    "for p in splot.patches: \n",
    "    splot.annotate(format(round(p.get_height(), 3), '.1f'), \n",
    "                   (p.get_x() + p.get_width() / 2., p.get_height()), \n",
    "                   ha='center', va='center', \n",
    "                   size=9, \n",
    "                   xytext=(0, 12), \n",
    "                   textcoords='offset points')\n",
    "#подписываем график\n",
    "plt.title('Доля каждого возраста пользователей, %',\n",
    "         fontsize=16, fontweight=\"bold\")\n",
    "\n",
    "plt.xlabel('Возраст',\n",
    "          fontsize=14, fontweight=\"bold\")\n",
    "plt.ylabel('%',\n",
    "          fontsize=20, fontweight=\"bold\")\n",
    "# цвет подложки one of {darkgrid, whitegrid, dark, white, ticks}\n",
    "sns.set_style(\"whitegrid\")\n",
    "\n",
    "#уберем границы в графике-despine удаляет правую и верхнюю границы \n",
    "sns.despine()\n",
    "#выводим график\n",
    "plt.show()"
   ]
  },
  {
   "cell_type": "code",
   "execution_count": 24,
   "id": "ff5c720c",
   "metadata": {},
   "outputs": [
    {
     "name": "stdout",
     "output_type": "stream",
     "text": [
      "Средний возраст пользователя 25 лет.\n",
      "Медианный возраст пользователя 25 лет.\n"
     ]
    },
    {
     "data": {
      "text/plain": [
       "count    1534.000000\n",
       "mean       24.903520\n",
       "std         4.572367\n",
       "min        12.000000\n",
       "25%        22.000000\n",
       "50%        25.000000\n",
       "75%        28.000000\n",
       "max        43.000000\n",
       "Name: age, dtype: float64"
      ]
     },
     "execution_count": 24,
     "metadata": {},
     "output_type": "execute_result"
    }
   ],
   "source": [
    "print('Средний возраст пользователя {} лет.\\\n",
    "'.format(int(users['age'].mean().round(0))))\n",
    "print('Медианный возраст пользователя {} лет.\\\n",
    "'.format(round(users['age'].median())))\n",
    "users['age'].describe()"
   ]
  },
  {
   "cell_type": "markdown",
   "id": "7795aa40",
   "metadata": {},
   "source": [
    "По 25% пользователей находятся в возрасте от 12 до 21 года включительно или от 29 лет до 43 лет включительно в каждой из групп. \n",
    "\n",
    "Больше всего пользователей - это половина от общего числа - это молодые люди в возрасте от 22 до 28 лет включительно.\n"
   ]
  },
  {
   "cell_type": "markdown",
   "id": "d1c80542",
   "metadata": {},
   "source": [
    "### Дальность поездок пользователей\n",
    "Найдем расстояние, которое пользователь преодолел за одну поездку.\n",
    "\n",
    "Посмотрим на описательные статистики по столбцу distance датафрейма rides."
   ]
  },
  {
   "cell_type": "code",
   "execution_count": 25,
   "id": "4584c543",
   "metadata": {},
   "outputs": [
    {
     "data": {
      "text/plain": [
       "count    18068.000000\n",
       "mean      3070.659010\n",
       "std       1116.832209\n",
       "min          1.000000\n",
       "25%       2543.000000\n",
       "50%       3134.000000\n",
       "75%       3776.000000\n",
       "max       7211.000000\n",
       "Name: distance, dtype: float64"
      ]
     },
     "execution_count": 25,
     "metadata": {},
     "output_type": "execute_result"
    }
   ],
   "source": [
    "rides['distance'].round().describe()"
   ]
  },
  {
   "cell_type": "markdown",
   "id": "bd39cd38",
   "metadata": {},
   "source": [
    "Всего датафрейм содержит данных о 18068 поездках.\n",
    "\n",
    "Поездки осуществлялись на расстояние (округленно) от 1 метра до 7211 метров.\n",
    "\n",
    "Половина поездок была на расстоение (округленно) от 2543 до 3776 метров.\n",
    "\n",
    "#### График: Дальность поездок пользователей"
   ]
  },
  {
   "cell_type": "code",
   "execution_count": 26,
   "id": "bd1c5115",
   "metadata": {},
   "outputs": [
    {
     "data": {
      "image/png": "[encoded data removed]",
      "text/plain": [
       "<Figure size 1200x600 with 1 Axes>"
      ]
     },
     "metadata": {},
     "output_type": "display_data"
    }
   ],
   "source": [
    "plt.figure(figsize=(12,6))\n",
    "\n",
    "sns.histplot(\n",
    "            data=rides,\n",
    "            x='distance', \n",
    "            stat='count',\n",
    "            kde=True,\n",
    "            color='#008DDA',       # цвет столбцов\n",
    "            alpha=0.9\n",
    "           )\n",
    "\n",
    "#подписываем график\n",
    "plt.title('Дальность поездок пользователей',\n",
    "         fontsize=16, fontweight=\"bold\")\n",
    "\n",
    "plt.xlabel('Метры',\n",
    "          fontsize=14, fontweight=\"bold\")\n",
    "# цвет подложки one of {darkgrid, whitegrid, dark, white, ticks}\n",
    "sns.set_style(\"whitegrid\")\n",
    "plt.ylabel('Количество пользователей',\n",
    "          fontsize=14, fontweight=\"bold\")\n",
    "plt.grid(axis='x')\n",
    "#уберем границы в графике-despine удаляет правую и верхнюю границы \n",
    "sns.despine()\n",
    "#выводим график\n",
    "plt.show()\n"
   ]
  },
  {
   "cell_type": "markdown",
   "id": "f633583e",
   "metadata": {},
   "source": [
    "На графике можно выделить две группы пользователей. Одни совершают короткие поездки приблизительно  до 1500 метров, вторая - самая многочисленная группа, совершают поездки от 1500 до 7211 метров(макисмальное значение)."
   ]
  },
  {
   "cell_type": "markdown",
   "id": "621f9ee6",
   "metadata": {},
   "source": [
    "### продолжительность поездок.\n",
    "Найдем длительность по времени поездок пользователей..\n",
    "\n",
    "Посмотрим на описательные статистики по столбцу duration датафрейма rides. Данные округлим до целых минут."
   ]
  },
  {
   "cell_type": "code",
   "execution_count": 27,
   "id": "6df308fb",
   "metadata": {},
   "outputs": [
    {
     "data": {
      "text/plain": [
       "count    18068.000000\n",
       "mean        17.803852\n",
       "std          6.104153\n",
       "min          0.000000\n",
       "25%         14.000000\n",
       "50%         18.000000\n",
       "75%         22.000000\n",
       "max         41.000000\n",
       "Name: duration, dtype: float64"
      ]
     },
     "execution_count": 27,
     "metadata": {},
     "output_type": "execute_result"
    }
   ],
   "source": [
    "rides['duration'].round().describe()"
   ]
  },
  {
   "cell_type": "markdown",
   "id": "1b45193d",
   "metadata": {},
   "source": [
    "Есть поездки менее 1 минуты, а максимальное время 41 минута. Половина поездок совершается от 14 до 22 минут. Медианное время поездок 18 минут. Оно приближено к среднему 17.8 минут, значит данные распределены практически нормально, без перекосов.\n",
    "\n",
    "#### График: Длительость поездок  пользователей"
   ]
  },
  {
   "cell_type": "code",
   "execution_count": 28,
   "id": "0f5bb0a4",
   "metadata": {},
   "outputs": [
    {
     "data": {
      "image/png": "[encoded data removed]",
      "text/plain": [
       "<Figure size 1200x600 with 1 Axes>"
      ]
     },
     "metadata": {},
     "output_type": "display_data"
    }
   ],
   "source": [
    "plt.figure(figsize=(12,6))\n",
    "\n",
    "sns.histplot(\n",
    "            data=rides,\n",
    "            x='duration', \n",
    "            stat='count',\n",
    "            kde=True,\n",
    "            color='#87A922',       # цвет столбцов\n",
    "            alpha=0.9\n",
    "           )\n",
    "\n",
    "#подписываем график\n",
    "plt.title('Длительность поездок пользователей, в минутах',\n",
    "         fontsize=16, fontweight=\"bold\")\n",
    "\n",
    "plt.xlabel('Минуты',\n",
    "          fontsize=14, fontweight=\"bold\")\n",
    "# цвет подложки one of {darkgrid, whitegrid, dark, white, ticks}\n",
    "sns.set_style(\"whitegrid\")\n",
    "plt.ylabel('Количество пользователей',\n",
    "          fontsize=14, fontweight=\"bold\")\n",
    "plt.grid(axis='x')\n",
    "#уберем границы в графике-despine удаляет правую и верхнюю границы \n",
    "sns.despine()\n",
    "#выводим график\n",
    "plt.show()"
   ]
  },
  {
   "cell_type": "markdown",
   "id": "85de1a64",
   "metadata": {},
   "source": [
    "За исключением выброса по длительности около 0 минут для примерно 100 пользователей, график распределен нормально.\n",
    "\n",
    "Длительность поездки менее минуты - это скорее всего ситуации. когда пользователь решил отказаться от поездки, а вот причину такого решения неплохо бы поизучать. Поломанный самокат, передумал, трудности с использованием самоката, не прошла оплата и т.д."
   ]
  },
  {
   "cell_type": "markdown",
   "id": "60755544",
   "metadata": {},
   "source": [
    "### Итоги шага 3"
   ]
  },
  {
   "cell_type": "markdown",
   "id": "e434a994",
   "metadata": {},
   "source": [
    "8 городов поделили пользователей в пределах 11%-14.3%. Нельзя сказать, что поровну, но и без больших перекосов.\n",
    "\n",
    "Лидер среди городов - Пятигорск на него приходится 14.3% всех пользователей, а меньше всего у Москвы - там 11%.\n",
    "\n",
    "Доля пользователей без подписки равна 54.4 %, она больше на 8.9 % чем у пользователей с подпиской, которых 45.6 % соответственно.\n",
    "\n",
    "Половина пользователей - молодые люди в возрасте от 22 до 28 лет включительно. Остальная половина это группы по 25% пользователей в каждой из групп в возрасте от 12 до 21 года включительно и от 29 лет до 43 лет включительно соответственно.\n",
    "\n",
    "Стоит обратить внимание на поездки длительностью менее 1 минуты, скорее всего такая длительность в результате отказа пользователя (по какой-то из причин) от сервиса. \n",
    "\n",
    "Максимальное время поездки 41 минута. Половина поездок совершается от 14 до 22 минут. Медианное/среднее время поездок 18 минут (округленно). Половина поездок совершаетя в диапазоне от 14 до 22 минут включительно.\n"
   ]
  },
  {
   "cell_type": "markdown",
   "id": "2913d7e1",
   "metadata": {},
   "source": [
    "## Шаг 4: Объединение данных\n",
    "\n",
    "### Округление чисел"
   ]
  },
  {
   "cell_type": "markdown",
   "id": "10d5b941",
   "metadata": {},
   "source": [
    "Для удобства восприятия данных округлим значения с помощью метода \"потолок\" в колонках датафрейма rides:\n",
    "\n",
    " - distance - дистанция до метров, т.е. до целых чисел,\n",
    " - duration - продолжительность поездки - значения округлим до целых минут.\n",
    " \n",
    "Типы данных в этих колонках после округления преобразуем в целочисленный int."
   ]
  },
  {
   "cell_type": "code",
   "execution_count": 29,
   "id": "78700eab",
   "metadata": {},
   "outputs": [
    {
     "name": "stdout",
     "output_type": "stream",
     "text": [
      "\n",
      "После преобразования тип данных - в столбцe distance:\n",
      "int32\n",
      "\n",
      "После преобразования тип данных - в столбцe duration:\n",
      "int32\n"
     ]
    },
    {
     "data": {
      "text/html": [
       "<div>\n",
       "<style scoped>\n",
       "    .dataframe tbody tr th:only-of-type {\n",
       "        vertical-align: middle;\n",
       "    }\n",
       "\n",
       "    .dataframe tbody tr th {\n",
       "        vertical-align: top;\n",
       "    }\n",
       "\n",
       "    .dataframe thead th {\n",
       "        text-align: right;\n",
       "    }\n",
       "</style>\n",
       "<table border=\"1\" class=\"dataframe\">\n",
       "  <thead>\n",
       "    <tr style=\"text-align: right;\">\n",
       "      <th></th>\n",
       "      <th>user_id</th>\n",
       "      <th>distance</th>\n",
       "      <th>duration</th>\n",
       "      <th>date</th>\n",
       "      <th>month</th>\n",
       "    </tr>\n",
       "  </thead>\n",
       "  <tbody>\n",
       "    <tr>\n",
       "      <th>4019</th>\n",
       "      <td>433</td>\n",
       "      <td>2595</td>\n",
       "      <td>21</td>\n",
       "      <td>2021-07-06</td>\n",
       "      <td>7</td>\n",
       "    </tr>\n",
       "    <tr>\n",
       "      <th>9183</th>\n",
       "      <td>900</td>\n",
       "      <td>2580</td>\n",
       "      <td>17</td>\n",
       "      <td>2021-03-10</td>\n",
       "      <td>3</td>\n",
       "    </tr>\n",
       "  </tbody>\n",
       "</table>\n",
       "</div>"
      ],
      "text/plain": [
       "      user_id  distance  duration       date  month\n",
       "4019      433      2595        21 2021-07-06      7\n",
       "9183      900      2580        17 2021-03-10      3"
      ]
     },
     "execution_count": 29,
     "metadata": {},
     "output_type": "execute_result"
    }
   ],
   "source": [
    "#  поменяем тип данных\n",
    "for column in ['distance', 'duration']:\n",
    "    rides[column] = rides[column].apply(np.ceil).astype(int)\n",
    "    print(f'\\nПосле преобразования тип данных - в столбцe {column}:\\n\\\n",
    "{rides[column].dtypes}')\n",
    "# выведем пару случайных строк    \n",
    "rides.sample(n=2, random_state=1)"
   ]
  },
  {
   "cell_type": "markdown",
   "id": "59fa07a0",
   "metadata": {},
   "source": [
    "### Общий датафрейм  о пользователях, поездках и подписках\n",
    "Объединим данные о пользователях, поездках и подписках в один датафрейм `data`. Для этого воспользуемся методом merge().\n",
    "\n",
    "Датафрейм rides обогатим информацией о пользователях из датафрейма users по столбцу user_id. Затем  добавим информацию о тарифах из датафрейма subscr по столбцу subscription_type.\n",
    "\n"
   ]
  },
  {
   "cell_type": "code",
   "execution_count": 30,
   "id": "db2e7fd9",
   "metadata": {},
   "outputs": [],
   "source": [
    "# добавляем информацию о пользователях\n",
    "data = rides.merge(users, how='left', on='user_id')"
   ]
  },
  {
   "cell_type": "code",
   "execution_count": 31,
   "id": "89270fea",
   "metadata": {},
   "outputs": [],
   "source": [
    "# добавляем информацию о тарифах\n",
    "data = data.merge(subscr, how='left', on='subscription_type')"
   ]
  },
  {
   "cell_type": "code",
   "execution_count": 32,
   "id": "a8b55153",
   "metadata": {},
   "outputs": [
    {
     "data": {
      "text/html": [
       "<div>\n",
       "<style scoped>\n",
       "    .dataframe tbody tr th:only-of-type {\n",
       "        vertical-align: middle;\n",
       "    }\n",
       "\n",
       "    .dataframe tbody tr th {\n",
       "        vertical-align: top;\n",
       "    }\n",
       "\n",
       "    .dataframe thead th {\n",
       "        text-align: right;\n",
       "    }\n",
       "</style>\n",
       "<table border=\"1\" class=\"dataframe\">\n",
       "  <thead>\n",
       "    <tr style=\"text-align: right;\">\n",
       "      <th></th>\n",
       "      <th>0</th>\n",
       "    </tr>\n",
       "  </thead>\n",
       "  <tbody>\n",
       "    <tr>\n",
       "      <th>user_id</th>\n",
       "      <td>1</td>\n",
       "    </tr>\n",
       "    <tr>\n",
       "      <th>distance</th>\n",
       "      <td>4410</td>\n",
       "    </tr>\n",
       "    <tr>\n",
       "      <th>duration</th>\n",
       "      <td>26</td>\n",
       "    </tr>\n",
       "    <tr>\n",
       "      <th>date</th>\n",
       "      <td>2021-01-01 00:00:00</td>\n",
       "    </tr>\n",
       "    <tr>\n",
       "      <th>month</th>\n",
       "      <td>1</td>\n",
       "    </tr>\n",
       "    <tr>\n",
       "      <th>name</th>\n",
       "      <td>Кира</td>\n",
       "    </tr>\n",
       "    <tr>\n",
       "      <th>age</th>\n",
       "      <td>22</td>\n",
       "    </tr>\n",
       "    <tr>\n",
       "      <th>city</th>\n",
       "      <td>Тюмень</td>\n",
       "    </tr>\n",
       "    <tr>\n",
       "      <th>subscription_type</th>\n",
       "      <td>ultra</td>\n",
       "    </tr>\n",
       "    <tr>\n",
       "      <th>minute_price</th>\n",
       "      <td>6</td>\n",
       "    </tr>\n",
       "    <tr>\n",
       "      <th>start_ride_price</th>\n",
       "      <td>0</td>\n",
       "    </tr>\n",
       "    <tr>\n",
       "      <th>subscription_fee</th>\n",
       "      <td>199</td>\n",
       "    </tr>\n",
       "  </tbody>\n",
       "</table>\n",
       "</div>"
      ],
      "text/plain": [
       "                                     0\n",
       "user_id                              1\n",
       "distance                          4410\n",
       "duration                            26\n",
       "date               2021-01-01 00:00:00\n",
       "month                                1\n",
       "name                              Кира\n",
       "age                                 22\n",
       "city                            Тюмень\n",
       "subscription_type                ultra\n",
       "minute_price                         6\n",
       "start_ride_price                     0\n",
       "subscription_fee                   199"
      ]
     },
     "execution_count": 32,
     "metadata": {},
     "output_type": "execute_result"
    }
   ],
   "source": [
    "# выведем одну строку объед.датафрейма, транспонируем для удобства\n",
    "data.head(1).T"
   ]
  },
  {
   "cell_type": "markdown",
   "id": "3156b4ca",
   "metadata": {},
   "source": [
    "### Датафреймы пользователи с подпиской и без\n",
    "Создадим ещё два датафрейма на основе датафрейма data:\n",
    "- c данными о пользователях без подписки - free_type;\n",
    "- с данными о пользователях с подпиской - ultra_type."
   ]
  },
  {
   "cell_type": "code",
   "execution_count": 33,
   "id": "85ee8bd8",
   "metadata": {},
   "outputs": [
    {
     "name": "stdout",
     "output_type": "stream",
     "text": [
      "Датафреймы о пользователях с подпиской и без подписки созданы успешно!\n",
      "Cлучайная строка из датафрейма ultra_type:\n"
     ]
    },
    {
     "data": {
      "text/html": [
       "<div>\n",
       "<style scoped>\n",
       "    .dataframe tbody tr th:only-of-type {\n",
       "        vertical-align: middle;\n",
       "    }\n",
       "\n",
       "    .dataframe tbody tr th {\n",
       "        vertical-align: top;\n",
       "    }\n",
       "\n",
       "    .dataframe thead th {\n",
       "        text-align: right;\n",
       "    }\n",
       "</style>\n",
       "<table border=\"1\" class=\"dataframe\">\n",
       "  <thead>\n",
       "    <tr style=\"text-align: right;\">\n",
       "      <th></th>\n",
       "      <th>3773</th>\n",
       "    </tr>\n",
       "  </thead>\n",
       "  <tbody>\n",
       "    <tr>\n",
       "      <th>user_id</th>\n",
       "      <td>405</td>\n",
       "    </tr>\n",
       "    <tr>\n",
       "      <th>distance</th>\n",
       "      <td>3002</td>\n",
       "    </tr>\n",
       "    <tr>\n",
       "      <th>duration</th>\n",
       "      <td>14</td>\n",
       "    </tr>\n",
       "    <tr>\n",
       "      <th>date</th>\n",
       "      <td>2021-11-11 00:00:00</td>\n",
       "    </tr>\n",
       "    <tr>\n",
       "      <th>month</th>\n",
       "      <td>11</td>\n",
       "    </tr>\n",
       "    <tr>\n",
       "      <th>name</th>\n",
       "      <td>Руслан</td>\n",
       "    </tr>\n",
       "    <tr>\n",
       "      <th>age</th>\n",
       "      <td>22</td>\n",
       "    </tr>\n",
       "    <tr>\n",
       "      <th>city</th>\n",
       "      <td>Екатеринбург</td>\n",
       "    </tr>\n",
       "    <tr>\n",
       "      <th>subscription_type</th>\n",
       "      <td>ultra</td>\n",
       "    </tr>\n",
       "    <tr>\n",
       "      <th>minute_price</th>\n",
       "      <td>6</td>\n",
       "    </tr>\n",
       "    <tr>\n",
       "      <th>start_ride_price</th>\n",
       "      <td>0</td>\n",
       "    </tr>\n",
       "    <tr>\n",
       "      <th>subscription_fee</th>\n",
       "      <td>199</td>\n",
       "    </tr>\n",
       "  </tbody>\n",
       "</table>\n",
       "</div>"
      ],
      "text/plain": [
       "                                  3773\n",
       "user_id                            405\n",
       "distance                          3002\n",
       "duration                            14\n",
       "date               2021-11-11 00:00:00\n",
       "month                               11\n",
       "name                            Руслан\n",
       "age                                 22\n",
       "city                      Екатеринбург\n",
       "subscription_type                ultra\n",
       "minute_price                         6\n",
       "start_ride_price                     0\n",
       "subscription_fee                   199"
      ]
     },
     "metadata": {},
     "output_type": "display_data"
    },
    {
     "name": "stdout",
     "output_type": "stream",
     "text": [
      "Cлучайная строка из датафрейма free_type:\n"
     ]
    },
    {
     "data": {
      "text/html": [
       "<div>\n",
       "<style scoped>\n",
       "    .dataframe tbody tr th:only-of-type {\n",
       "        vertical-align: middle;\n",
       "    }\n",
       "\n",
       "    .dataframe tbody tr th {\n",
       "        vertical-align: top;\n",
       "    }\n",
       "\n",
       "    .dataframe thead th {\n",
       "        text-align: right;\n",
       "    }\n",
       "</style>\n",
       "<table border=\"1\" class=\"dataframe\">\n",
       "  <thead>\n",
       "    <tr style=\"text-align: right;\">\n",
       "      <th></th>\n",
       "      <th>16868</th>\n",
       "    </tr>\n",
       "  </thead>\n",
       "  <tbody>\n",
       "    <tr>\n",
       "      <th>user_id</th>\n",
       "      <td>1449</td>\n",
       "    </tr>\n",
       "    <tr>\n",
       "      <th>distance</th>\n",
       "      <td>3709</td>\n",
       "    </tr>\n",
       "    <tr>\n",
       "      <th>duration</th>\n",
       "      <td>22</td>\n",
       "    </tr>\n",
       "    <tr>\n",
       "      <th>date</th>\n",
       "      <td>2021-02-14 00:00:00</td>\n",
       "    </tr>\n",
       "    <tr>\n",
       "      <th>month</th>\n",
       "      <td>2</td>\n",
       "    </tr>\n",
       "    <tr>\n",
       "      <th>name</th>\n",
       "      <td>Софья</td>\n",
       "    </tr>\n",
       "    <tr>\n",
       "      <th>age</th>\n",
       "      <td>28</td>\n",
       "    </tr>\n",
       "    <tr>\n",
       "      <th>city</th>\n",
       "      <td>Москва</td>\n",
       "    </tr>\n",
       "    <tr>\n",
       "      <th>subscription_type</th>\n",
       "      <td>free</td>\n",
       "    </tr>\n",
       "    <tr>\n",
       "      <th>minute_price</th>\n",
       "      <td>8</td>\n",
       "    </tr>\n",
       "    <tr>\n",
       "      <th>start_ride_price</th>\n",
       "      <td>50</td>\n",
       "    </tr>\n",
       "    <tr>\n",
       "      <th>subscription_fee</th>\n",
       "      <td>0</td>\n",
       "    </tr>\n",
       "  </tbody>\n",
       "</table>\n",
       "</div>"
      ],
      "text/plain": [
       "                                 16868\n",
       "user_id                           1449\n",
       "distance                          3709\n",
       "duration                            22\n",
       "date               2021-02-14 00:00:00\n",
       "month                                2\n",
       "name                             Софья\n",
       "age                                 28\n",
       "city                            Москва\n",
       "subscription_type                 free\n",
       "minute_price                         8\n",
       "start_ride_price                    50\n",
       "subscription_fee                     0"
      ]
     },
     "metadata": {},
     "output_type": "display_data"
    }
   ],
   "source": [
    "# копируем датафрейм\n",
    "ultra_type = data.copy(deep=True)\n",
    "# записываем срез по пользоват. с подпиской в датафрейм\n",
    "ultra_type = ultra_type[ultra_type['subscription_type'] == 'ultra']\n",
    "\n",
    "# копируем датафрейм\n",
    "free_type = data.copy(deep=True)\n",
    "# записываем срез по пользоват. без подписки в датафрейм\n",
    "free_type  = free_type[free_type['subscription_type'] == 'free']\n",
    "\n",
    "if len(data) == (len(ultra_type) + len(free_type)):\n",
    "    print('Датафреймы о пользователях с подпиской и без подписки \\\n",
    "созданы успешно!')\n",
    "    print('Cлучайная строка из датафрейма ultra_type:')\n",
    "    display(ultra_type.sample(n=1, random_state=1).T)\n",
    "    print('Cлучайная строка из датафрейма free_type:')\n",
    "    display(free_type.sample(n=1, random_state=1).T)\n",
    "else:\n",
    "    print('Achtung!!!')"
   ]
  },
  {
   "cell_type": "markdown",
   "id": "59198aa2",
   "metadata": {},
   "source": [
    "Успешно разделили данные по подписке, теперь можно рассмотреть пользователей по категориям с подпиской и без. Есть ли отличия."
   ]
  },
  {
   "cell_type": "markdown",
   "id": "5dc572f9",
   "metadata": {},
   "source": [
    "### График: Расстояние поездок для групп с подпиской и без\n",
    "Визуализируем информацию о расстоянии поездок для пользователей обеих категорий."
   ]
  },
  {
   "cell_type": "code",
   "execution_count": 34,
   "id": "b3e8121f",
   "metadata": {},
   "outputs": [
    {
     "data": {
      "image/png": "[encoded data removed]",
      "text/plain": [
       "<Figure size 1200x600 with 1 Axes>"
      ]
     },
     "metadata": {},
     "output_type": "display_data"
    }
   ],
   "source": [
    "# зададим размеры фигуры\n",
    "plt.figure(figsize=(12,6))\n",
    "# совместим два графика на одном\n",
    "plt.hist([free_type['distance'], \n",
    "          ultra_type['distance']], \n",
    "         bins=36,\n",
    "         alpha=0.9, \n",
    "         color=['green', 'grey'], \n",
    "         label=['free', 'ultra'])\n",
    "# сместим легенду\n",
    "plt.legend(loc='upper right')\n",
    "plt.title('Дальность совершенных поездок в метрах по типу подписки',\n",
    "         fontsize=14, fontweight=\"bold\")\n",
    "plt.xlabel('Дальность поездок, метры',\n",
    "          fontsize=12, fontweight=\"bold\")\n",
    "plt.ylabel('Количество поездок',\n",
    "          fontsize=12, fontweight=\"bold\")\n",
    "plt.grid(axis='x')\n",
    "#уберем границы в графике-despine удаляет правую и верхнюю границы \n",
    "sns.despine()\n",
    "plt.show()"
   ]
  },
  {
   "cell_type": "markdown",
   "id": "c7492160",
   "metadata": {},
   "source": [
    "График разделен условно на две группы пользователей, причем это справедливо как для пользователей с подпиской, так и без. На короткие поездки и на более длительные поездки.\n",
    "\n",
    "Посмотрим на поездки ограниченные 2000 метров. Это интересно посмотреть, так как в этом диапазоне заканчивается и начинается рост количества поездок у пользователей с подпиской, также этот диапазон перекрывает и пользователей без подписки. Такое ограничение даст возможность рассмотреть ближе характеристики расстояний для коротких поездок."
   ]
  },
  {
   "cell_type": "code",
   "execution_count": 35,
   "id": "d4c2341f",
   "metadata": {},
   "outputs": [
    {
     "data": {
      "image/png": "[encoded data removed]",
      "text/plain": [
       "<Figure size 1200x600 with 1 Axes>"
      ]
     },
     "metadata": {},
     "output_type": "display_data"
    }
   ],
   "source": [
    "# зададим размеры фигуры\n",
    "plt.figure(figsize=(12,6))\n",
    "# совместим два графика на одном\n",
    "plt.hist([free_type['distance'], \n",
    "          ultra_type['distance']], \n",
    "         bins=20,\n",
    "         alpha=0.9, \n",
    "         color=['green', 'grey'], \n",
    "         label=['free', 'ultra'],\n",
    "         range=(0, 2000))\n",
    "# сместим легенду\n",
    "plt.legend(loc='upper right')\n",
    "plt.title('Дальность совершенных поездок в метрах по типу подписки\\n\\\n",
    "не превышающие 2000 метров',\n",
    "         fontsize=14, fontweight=\"bold\")\n",
    "plt.xlabel('Дальность поездок, метры',\n",
    "          fontsize=12, fontweight=\"bold\")\n",
    "plt.ylabel('Количество поездок',\n",
    "          fontsize=12, fontweight=\"bold\")\n",
    "plt.grid(axis='x')\n",
    "#уберем границы в графике-despine удаляет правую и верхнюю границы \n",
    "sns.despine()\n",
    "plt.show()"
   ]
  },
  {
   "cell_type": "markdown",
   "id": "7a5ae264",
   "metadata": {},
   "source": [
    "Для пользователи без подписки характерно большее число коротких поездок, а также количество совершаемых самых коротких поездок их диапазон от 0 до примерно 1400 метров с более длинным правым хвостом. Это не удивительно. Если человеку не понравилось ехать на самокате, или он понял, что для него это дискомфортно, то он прекратит поездку и не купит подписку.\n",
    "\n",
    "Для пользователей с подпиской распределение более равномерно, но ткже есть длинный правый хвост. Поездки совершаются на расстояние от 250 до 2000 метров.\n",
    "\n",
    "Посмотрим на промежуток поездок от 2000 метров"
   ]
  },
  {
   "cell_type": "code",
   "execution_count": 36,
   "id": "a5e8e6a1",
   "metadata": {},
   "outputs": [
    {
     "data": {
      "image/png": "[encoded data removed]",
      "text/plain": [
       "<Figure size 1200x600 with 1 Axes>"
      ]
     },
     "metadata": {},
     "output_type": "display_data"
    }
   ],
   "source": [
    "# зададим размеры фигуры\n",
    "plt.figure(figsize=(12,6))\n",
    "# совместим два графика на одном\n",
    "plt.hist([free_type['distance'], \n",
    "          ultra_type['distance']], \n",
    "         bins=25,\n",
    "         alpha=0.7, \n",
    "         color=['green', 'grey'], \n",
    "         label=['free', 'ultra'],\n",
    "         range=(2001, 7300))\n",
    "# сместим легенду\n",
    "plt.legend(loc='upper right')\n",
    "plt.title('Дальность совершенных поездок в метрах по типу подписки\\n\\\n",
    "от 2000 метров',\n",
    "         fontsize=14, fontweight=\"bold\")\n",
    "plt.xlabel('Дальность поездок, метры',\n",
    "          fontsize=12, fontweight=\"bold\")\n",
    "plt.ylabel('Количество поездок',\n",
    "          fontsize=12, fontweight=\"bold\")\n",
    "plt.grid(axis='x')\n",
    "#уберем границы в графике-despine удаляет правую и верхнюю границы \n",
    "sns.despine()\n",
    "plt.show()"
   ]
  },
  {
   "cell_type": "markdown",
   "id": "8193f643",
   "metadata": {},
   "source": [
    "От 2000 метров поездки также совершают чаще пользователи без подписки. Поездки от 3000 до 3250 метров чаще всего совершают подьзователи с подпиской. \n",
    "\n",
    "Существенное увеличение Пользователей с подпиской начинается от дальности поездки примерно 2800 метров до 3500 метров. И далее снижается. При этом пользователей без подписки больше как на коротких дистанциях, та и на длинных, за исключением промежутка от 3000 до 3250, где больше всего пользователей с подпиской."
   ]
  },
  {
   "cell_type": "markdown",
   "id": "a5be7611",
   "metadata": {},
   "source": [
    "### График: Продолжительность поездок для групп с подпиской и без\n",
    "Визуализируем информацию о времени поездок для пользователей обеих категорий."
   ]
  },
  {
   "cell_type": "code",
   "execution_count": 37,
   "id": "bfda7dbe",
   "metadata": {},
   "outputs": [
    {
     "data": {
      "image/png": "[encoded data removed]",
      "text/plain": [
       "<Figure size 1200x600 with 1 Axes>"
      ]
     },
     "metadata": {},
     "output_type": "display_data"
    }
   ],
   "source": [
    "# зададим размеры фигуры\n",
    "plt.figure(figsize=(12,6))\n",
    "# совместим два графика на одном\n",
    "plt.hist([free_type['duration'], \n",
    "          ultra_type['duration']], \n",
    "         bins=36,\n",
    "         alpha=0.9, \n",
    "         color=['#008DDA', '#FFB200'], \n",
    "         label=['free', 'ultra'])\n",
    "# сместим легенду\n",
    "plt.legend(loc='upper right')\n",
    "plt.title('Длительность совершенных поездок в метрах по типу подписки',\n",
    "         fontsize=14, fontweight=\"bold\")\n",
    "plt.xlabel('Минуты',\n",
    "          fontsize=12, fontweight=\"bold\")\n",
    "plt.ylabel('Количество поездок',\n",
    "          fontsize=12, fontweight=\"bold\")\n",
    "plt.grid(axis='x')\n",
    "#уберем границы в графике-despine удаляет правую и верхнюю границы \n",
    "sns.despine()\n",
    "plt.show()"
   ]
  },
  {
   "cell_type": "markdown",
   "id": "dcaf0d2c",
   "metadata": {},
   "source": [
    "Видим нормальное распределение как для пользователей с подпиской, так и для пользователей без подписки.\n",
    "\n",
    "Виден возможный выброс в промежутке от 0 до 5 минут для пользователей без подписки.\n",
    "\n",
    "### Итоги шага 4\n",
    "\n",
    "Если сравнивать пользователей между собой по количеству поездок и длительности, то по количеству коротких поездок  до 35 минут - лидируют пользователей без подписки. Зато лидерами самых длительных поездок являются пользователи с подпиской от 35 до 41 минуты есть только они.\n",
    "\n",
    "Аудитория, которую можно привлечь для оплаты подписки есть.\n",
    "\n",
    "Посмотрим, кто приносит больше выручкки.\n"
   ]
  },
  {
   "cell_type": "markdown",
   "id": "79a653d0",
   "metadata": {},
   "source": [
    "## Шаг 5: Выручка по разным категориям пользователей.\n",
    "Посчитаем выручку от поездок. Для этого сгруппируем данные о поездках для каждого пользователя за каждый месяц. А затем добавим информацию о помесячной выручке, которую принёс каждый пользователь."
   ]
  },
  {
   "cell_type": "markdown",
   "id": "cc9d4abc",
   "metadata": {},
   "source": [
    "### Датафрейм с данными о поездках\n",
    "\n",
    "Создадим датафрейм с агрегированными данными о поездках на основе датафрейма с объединёнными данными data: найдем суммарное расстояние, количество поездок и суммарное время для каждого пользователя за каждый месяц.Добавим также информацию о стоиомсти минуты, стоиомсти старта и стоиомсти подписки. Это поможет рассчитать выручку."
   ]
  },
  {
   "cell_type": "code",
   "execution_count": 38,
   "id": "072bb019",
   "metadata": {},
   "outputs": [
    {
     "data": {
      "text/html": [
       "<div>\n",
       "<style scoped>\n",
       "    .dataframe tbody tr th:only-of-type {\n",
       "        vertical-align: middle;\n",
       "    }\n",
       "\n",
       "    .dataframe tbody tr th {\n",
       "        vertical-align: top;\n",
       "    }\n",
       "\n",
       "    .dataframe thead th {\n",
       "        text-align: right;\n",
       "    }\n",
       "</style>\n",
       "<table border=\"1\" class=\"dataframe\">\n",
       "  <thead>\n",
       "    <tr style=\"text-align: right;\">\n",
       "      <th></th>\n",
       "      <th></th>\n",
       "      <th>cnt</th>\n",
       "      <th>distance</th>\n",
       "      <th>duration</th>\n",
       "      <th>min_price</th>\n",
       "      <th>start_price</th>\n",
       "      <th>fee</th>\n",
       "    </tr>\n",
       "    <tr>\n",
       "      <th>month</th>\n",
       "      <th>user_id</th>\n",
       "      <th></th>\n",
       "      <th></th>\n",
       "      <th></th>\n",
       "      <th></th>\n",
       "      <th></th>\n",
       "      <th></th>\n",
       "    </tr>\n",
       "  </thead>\n",
       "  <tbody>\n",
       "    <tr>\n",
       "      <th>11</th>\n",
       "      <th>1330</th>\n",
       "      <td>2</td>\n",
       "      <td>6230</td>\n",
       "      <td>33</td>\n",
       "      <td>8.0</td>\n",
       "      <td>50.0</td>\n",
       "      <td>0.0</td>\n",
       "    </tr>\n",
       "    <tr>\n",
       "      <th>5</th>\n",
       "      <th>191</th>\n",
       "      <td>1</td>\n",
       "      <td>2851</td>\n",
       "      <td>15</td>\n",
       "      <td>6.0</td>\n",
       "      <td>0.0</td>\n",
       "      <td>199.0</td>\n",
       "    </tr>\n",
       "    <tr>\n",
       "      <th>12</th>\n",
       "      <th>142</th>\n",
       "      <td>1</td>\n",
       "      <td>4584</td>\n",
       "      <td>26</td>\n",
       "      <td>6.0</td>\n",
       "      <td>0.0</td>\n",
       "      <td>199.0</td>\n",
       "    </tr>\n",
       "    <tr>\n",
       "      <th>2</th>\n",
       "      <th>1138</th>\n",
       "      <td>1</td>\n",
       "      <td>296</td>\n",
       "      <td>3</td>\n",
       "      <td>8.0</td>\n",
       "      <td>50.0</td>\n",
       "      <td>0.0</td>\n",
       "    </tr>\n",
       "    <tr>\n",
       "      <th>3</th>\n",
       "      <th>1008</th>\n",
       "      <td>4</td>\n",
       "      <td>12818</td>\n",
       "      <td>68</td>\n",
       "      <td>8.0</td>\n",
       "      <td>50.0</td>\n",
       "      <td>0.0</td>\n",
       "    </tr>\n",
       "    <tr>\n",
       "      <th>5</th>\n",
       "      <th>1320</th>\n",
       "      <td>1</td>\n",
       "      <td>3084</td>\n",
       "      <td>30</td>\n",
       "      <td>8.0</td>\n",
       "      <td>50.0</td>\n",
       "      <td>0.0</td>\n",
       "    </tr>\n",
       "  </tbody>\n",
       "</table>\n",
       "</div>"
      ],
      "text/plain": [
       "               cnt  distance  duration  min_price  start_price    fee\n",
       "month user_id                                                        \n",
       "11    1330       2      6230        33        8.0         50.0    0.0\n",
       "5     191        1      2851        15        6.0          0.0  199.0\n",
       "12    142        1      4584        26        6.0          0.0  199.0\n",
       "2     1138       1       296         3        8.0         50.0    0.0\n",
       "3     1008       4     12818        68        8.0         50.0    0.0\n",
       "5     1320       1      3084        30        8.0         50.0    0.0"
      ]
     },
     "execution_count": 38,
     "metadata": {},
     "output_type": "execute_result"
    }
   ],
   "source": [
    "# сделаем копию дф\n",
    "users_values = data.copy(deep=True)\n",
    "# сформируем сводную таблицу\n",
    "users_values = users_values.pivot_table(\n",
    "    index=('month', 'user_id'),\n",
    "    values=(\n",
    "    'distance', \n",
    "    'duration', \n",
    "    'minute_price', \n",
    "    'start_ride_price', \n",
    "    'subscription_fee'\n",
    "    ),\n",
    "    aggfunc=({'distance':{'count','sum'},\n",
    "              'duration':'sum',\n",
    "              'minute_price':'mean',\n",
    "              'start_ride_price':'mean',\n",
    "              'subscription_fee':'mean'})\n",
    ")\n",
    "# переименуем столбцы\n",
    "users_values.columns = [\n",
    "    'cnt', 'distance', \n",
    "    'duration', \n",
    "    'min_price',\n",
    "    'start_price', \n",
    "    'fee'\n",
    "]\n",
    "users_values.sample(n=6, random_state=6)"
   ]
  },
  {
   "cell_type": "markdown",
   "id": "3eca90d6",
   "metadata": {},
   "source": [
    "### Выручка по пользователям и месяцам\n",
    "\n",
    "В этот же датафрейм добавим столбец с помесячной выручкой, которую принёс каждый пользователь. \n",
    "```\n",
    "Помесячная выручка считается по формуле: \n",
    "    (стоимость старта поездки ×  количество поездок)\n",
    "      + \n",
    "    (стоимость одной минуты поездки × общая продолж-ть всех поездок в минутах)\n",
    "      + стоимость подписки.\n",
    "```"
   ]
  },
  {
   "cell_type": "code",
   "execution_count": 39,
   "id": "9e805214",
   "metadata": {},
   "outputs": [],
   "source": [
    "# добавляем столбцец с выручкой\n",
    "users_values['amount'] = (\n",
    "    users_values.start_price * users_values.cnt +\n",
    "    users_values.min_price * users_values.duration + \n",
    "    users_values.fee\n",
    "                        )"
   ]
  },
  {
   "cell_type": "code",
   "execution_count": 40,
   "id": "e7bc4033",
   "metadata": {},
   "outputs": [
    {
     "data": {
      "text/html": [
       "<div>\n",
       "<style scoped>\n",
       "    .dataframe tbody tr th:only-of-type {\n",
       "        vertical-align: middle;\n",
       "    }\n",
       "\n",
       "    .dataframe tbody tr th {\n",
       "        vertical-align: top;\n",
       "    }\n",
       "\n",
       "    .dataframe thead th {\n",
       "        text-align: right;\n",
       "    }\n",
       "</style>\n",
       "<table border=\"1\" class=\"dataframe\">\n",
       "  <thead>\n",
       "    <tr style=\"text-align: right;\">\n",
       "      <th></th>\n",
       "      <th></th>\n",
       "      <th>cnt</th>\n",
       "      <th>distance</th>\n",
       "      <th>duration</th>\n",
       "      <th>min_price</th>\n",
       "      <th>start_price</th>\n",
       "      <th>fee</th>\n",
       "      <th>amount</th>\n",
       "    </tr>\n",
       "    <tr>\n",
       "      <th>month</th>\n",
       "      <th>user_id</th>\n",
       "      <th></th>\n",
       "      <th></th>\n",
       "      <th></th>\n",
       "      <th></th>\n",
       "      <th></th>\n",
       "      <th></th>\n",
       "      <th></th>\n",
       "    </tr>\n",
       "  </thead>\n",
       "  <tbody>\n",
       "    <tr>\n",
       "      <th>2</th>\n",
       "      <th>718</th>\n",
       "      <td>1</td>\n",
       "      <td>5198</td>\n",
       "      <td>1</td>\n",
       "      <td>8.0</td>\n",
       "      <td>50.0</td>\n",
       "      <td>0.0</td>\n",
       "      <td>58.0</td>\n",
       "    </tr>\n",
       "    <tr>\n",
       "      <th>3</th>\n",
       "      <th>1219</th>\n",
       "      <td>1</td>\n",
       "      <td>3679</td>\n",
       "      <td>12</td>\n",
       "      <td>8.0</td>\n",
       "      <td>50.0</td>\n",
       "      <td>0.0</td>\n",
       "      <td>146.0</td>\n",
       "    </tr>\n",
       "    <tr>\n",
       "      <th>1</th>\n",
       "      <th>1243</th>\n",
       "      <td>1</td>\n",
       "      <td>542</td>\n",
       "      <td>5</td>\n",
       "      <td>8.0</td>\n",
       "      <td>50.0</td>\n",
       "      <td>0.0</td>\n",
       "      <td>90.0</td>\n",
       "    </tr>\n",
       "  </tbody>\n",
       "</table>\n",
       "</div>"
      ],
      "text/plain": [
       "               cnt  distance  duration  min_price  start_price  fee  amount\n",
       "month user_id                                                              \n",
       "2     718        1      5198         1        8.0         50.0  0.0    58.0\n",
       "3     1219       1      3679        12        8.0         50.0  0.0   146.0\n",
       "1     1243       1       542         5        8.0         50.0  0.0    90.0"
      ]
     },
     "execution_count": 40,
     "metadata": {},
     "output_type": "execute_result"
    }
   ],
   "source": [
    "# выведем несколько случайных строк с результатом\n",
    "users_values.sample(n=3, random_state=1)"
   ]
  },
  {
   "cell_type": "code",
   "execution_count": 41,
   "id": "0bf6922e",
   "metadata": {},
   "outputs": [
    {
     "data": {
      "text/html": [
       "<div>\n",
       "<style scoped>\n",
       "    .dataframe tbody tr th:only-of-type {\n",
       "        vertical-align: middle;\n",
       "    }\n",
       "\n",
       "    .dataframe tbody tr th {\n",
       "        vertical-align: top;\n",
       "    }\n",
       "\n",
       "    .dataframe thead th {\n",
       "        text-align: right;\n",
       "    }\n",
       "</style>\n",
       "<table border=\"1\" class=\"dataframe\">\n",
       "  <thead>\n",
       "    <tr style=\"text-align: right;\">\n",
       "      <th></th>\n",
       "      <th>user_id</th>\n",
       "      <th>distance</th>\n",
       "      <th>duration</th>\n",
       "      <th>date</th>\n",
       "      <th>month</th>\n",
       "      <th>name</th>\n",
       "      <th>age</th>\n",
       "      <th>city</th>\n",
       "      <th>subscription_type</th>\n",
       "      <th>minute_price</th>\n",
       "      <th>start_ride_price</th>\n",
       "      <th>subscription_fee</th>\n",
       "    </tr>\n",
       "  </thead>\n",
       "  <tbody>\n",
       "    <tr>\n",
       "      <th>6768</th>\n",
       "      <td>718</td>\n",
       "      <td>5198</td>\n",
       "      <td>1</td>\n",
       "      <td>2021-02-11</td>\n",
       "      <td>2</td>\n",
       "      <td>Владислава</td>\n",
       "      <td>31</td>\n",
       "      <td>Москва</td>\n",
       "      <td>free</td>\n",
       "      <td>8</td>\n",
       "      <td>50</td>\n",
       "      <td>0</td>\n",
       "    </tr>\n",
       "    <tr>\n",
       "      <th>6769</th>\n",
       "      <td>718</td>\n",
       "      <td>2590</td>\n",
       "      <td>22</td>\n",
       "      <td>2021-04-01</td>\n",
       "      <td>4</td>\n",
       "      <td>Владислава</td>\n",
       "      <td>31</td>\n",
       "      <td>Москва</td>\n",
       "      <td>free</td>\n",
       "      <td>8</td>\n",
       "      <td>50</td>\n",
       "      <td>0</td>\n",
       "    </tr>\n",
       "    <tr>\n",
       "      <th>6770</th>\n",
       "      <td>718</td>\n",
       "      <td>4148</td>\n",
       "      <td>23</td>\n",
       "      <td>2021-04-11</td>\n",
       "      <td>4</td>\n",
       "      <td>Владислава</td>\n",
       "      <td>31</td>\n",
       "      <td>Москва</td>\n",
       "      <td>free</td>\n",
       "      <td>8</td>\n",
       "      <td>50</td>\n",
       "      <td>0</td>\n",
       "    </tr>\n",
       "    <tr>\n",
       "      <th>6771</th>\n",
       "      <td>718</td>\n",
       "      <td>3827</td>\n",
       "      <td>13</td>\n",
       "      <td>2021-05-02</td>\n",
       "      <td>5</td>\n",
       "      <td>Владислава</td>\n",
       "      <td>31</td>\n",
       "      <td>Москва</td>\n",
       "      <td>free</td>\n",
       "      <td>8</td>\n",
       "      <td>50</td>\n",
       "      <td>0</td>\n",
       "    </tr>\n",
       "    <tr>\n",
       "      <th>6772</th>\n",
       "      <td>718</td>\n",
       "      <td>3703</td>\n",
       "      <td>16</td>\n",
       "      <td>2021-05-08</td>\n",
       "      <td>5</td>\n",
       "      <td>Владислава</td>\n",
       "      <td>31</td>\n",
       "      <td>Москва</td>\n",
       "      <td>free</td>\n",
       "      <td>8</td>\n",
       "      <td>50</td>\n",
       "      <td>0</td>\n",
       "    </tr>\n",
       "    <tr>\n",
       "      <th>6773</th>\n",
       "      <td>718</td>\n",
       "      <td>4009</td>\n",
       "      <td>23</td>\n",
       "      <td>2021-05-28</td>\n",
       "      <td>5</td>\n",
       "      <td>Владислава</td>\n",
       "      <td>31</td>\n",
       "      <td>Москва</td>\n",
       "      <td>free</td>\n",
       "      <td>8</td>\n",
       "      <td>50</td>\n",
       "      <td>0</td>\n",
       "    </tr>\n",
       "    <tr>\n",
       "      <th>6774</th>\n",
       "      <td>718</td>\n",
       "      <td>2439</td>\n",
       "      <td>9</td>\n",
       "      <td>2021-06-18</td>\n",
       "      <td>6</td>\n",
       "      <td>Владислава</td>\n",
       "      <td>31</td>\n",
       "      <td>Москва</td>\n",
       "      <td>free</td>\n",
       "      <td>8</td>\n",
       "      <td>50</td>\n",
       "      <td>0</td>\n",
       "    </tr>\n",
       "    <tr>\n",
       "      <th>6775</th>\n",
       "      <td>718</td>\n",
       "      <td>3589</td>\n",
       "      <td>13</td>\n",
       "      <td>2021-08-04</td>\n",
       "      <td>8</td>\n",
       "      <td>Владислава</td>\n",
       "      <td>31</td>\n",
       "      <td>Москва</td>\n",
       "      <td>free</td>\n",
       "      <td>8</td>\n",
       "      <td>50</td>\n",
       "      <td>0</td>\n",
       "    </tr>\n",
       "    <tr>\n",
       "      <th>6776</th>\n",
       "      <td>718</td>\n",
       "      <td>3749</td>\n",
       "      <td>18</td>\n",
       "      <td>2021-09-14</td>\n",
       "      <td>9</td>\n",
       "      <td>Владислава</td>\n",
       "      <td>31</td>\n",
       "      <td>Москва</td>\n",
       "      <td>free</td>\n",
       "      <td>8</td>\n",
       "      <td>50</td>\n",
       "      <td>0</td>\n",
       "    </tr>\n",
       "    <tr>\n",
       "      <th>6777</th>\n",
       "      <td>718</td>\n",
       "      <td>4414</td>\n",
       "      <td>32</td>\n",
       "      <td>2021-10-26</td>\n",
       "      <td>10</td>\n",
       "      <td>Владислава</td>\n",
       "      <td>31</td>\n",
       "      <td>Москва</td>\n",
       "      <td>free</td>\n",
       "      <td>8</td>\n",
       "      <td>50</td>\n",
       "      <td>0</td>\n",
       "    </tr>\n",
       "    <tr>\n",
       "      <th>6778</th>\n",
       "      <td>718</td>\n",
       "      <td>2206</td>\n",
       "      <td>21</td>\n",
       "      <td>2021-11-19</td>\n",
       "      <td>11</td>\n",
       "      <td>Владислава</td>\n",
       "      <td>31</td>\n",
       "      <td>Москва</td>\n",
       "      <td>free</td>\n",
       "      <td>8</td>\n",
       "      <td>50</td>\n",
       "      <td>0</td>\n",
       "    </tr>\n",
       "  </tbody>\n",
       "</table>\n",
       "</div>"
      ],
      "text/plain": [
       "      user_id  distance  duration       date  month        name  age    city  \\\n",
       "6768      718      5198         1 2021-02-11      2  Владислава   31  Москва   \n",
       "6769      718      2590        22 2021-04-01      4  Владислава   31  Москва   \n",
       "6770      718      4148        23 2021-04-11      4  Владислава   31  Москва   \n",
       "6771      718      3827        13 2021-05-02      5  Владислава   31  Москва   \n",
       "6772      718      3703        16 2021-05-08      5  Владислава   31  Москва   \n",
       "6773      718      4009        23 2021-05-28      5  Владислава   31  Москва   \n",
       "6774      718      2439         9 2021-06-18      6  Владислава   31  Москва   \n",
       "6775      718      3589        13 2021-08-04      8  Владислава   31  Москва   \n",
       "6776      718      3749        18 2021-09-14      9  Владислава   31  Москва   \n",
       "6777      718      4414        32 2021-10-26     10  Владислава   31  Москва   \n",
       "6778      718      2206        21 2021-11-19     11  Владислава   31  Москва   \n",
       "\n",
       "     subscription_type  minute_price  start_ride_price  subscription_fee  \n",
       "6768              free             8                50                 0  \n",
       "6769              free             8                50                 0  \n",
       "6770              free             8                50                 0  \n",
       "6771              free             8                50                 0  \n",
       "6772              free             8                50                 0  \n",
       "6773              free             8                50                 0  \n",
       "6774              free             8                50                 0  \n",
       "6775              free             8                50                 0  \n",
       "6776              free             8                50                 0  \n",
       "6777              free             8                50                 0  \n",
       "6778              free             8                50                 0  "
      ]
     },
     "execution_count": 41,
     "metadata": {},
     "output_type": "execute_result"
    }
   ],
   "source": [
    "# посомтрим на пользователя 718 - случайная находка аномалии\n",
    "data.query('user_id == 718')"
   ]
  },
  {
   "cell_type": "markdown",
   "id": "6422d95a",
   "metadata": {},
   "source": [
    "Получили данные по выручке, а также случайную находку - пользователь 718 в феврале за 1 минуту проехал 5198 метров.\n",
    "\n",
    "Так как у нас нет дополнительных данных о таких ситуациях, то просто отметим, что в данных есть возможные аномалии. Они могут объясняться как особенностями какой-то акции, когда пользователь получает поездку стоимостью за 1 минуту, а также это может быть ошибка сервиса, требующая отдельного анализа. В рамках данного проекта эта информация не будет анализироваться."
   ]
  },
  {
   "cell_type": "markdown",
   "id": "678b53c1",
   "metadata": {},
   "source": [
    "#### Выручка за год"
   ]
  },
  {
   "cell_type": "code",
   "execution_count": 42,
   "id": "235de9e0",
   "metadata": {},
   "outputs": [
    {
     "name": "stdout",
     "output_type": "stream",
     "text": [
      "Выручка по всем пользователям: 3878641.0 рублей\n"
     ]
    }
   ],
   "source": [
    "print ('Выручка по всем пользователям: {} рублей\\\n",
    "'.format(users_values['amount'].sum()))\n"
   ]
  },
  {
   "cell_type": "markdown",
   "id": "e94aca01",
   "metadata": {},
   "source": [
    "### Средняя выручка по месяцам"
   ]
  },
  {
   "cell_type": "markdown",
   "id": "1257a5a1",
   "metadata": {},
   "source": [
    "Посчитаем среднюю выручку от поездок за месяц по пользователям с подпиской (в столбце fee будет указана стоимость 199) и без подписке (в столбце fee стоиомсть 0) . Для этого сгруппируем данные о поездках для каждого пользователя за каждый месяц. А затем добавим информацию о помесячной выручке, которую принёс каждый пользователь.\n"
   ]
  },
  {
   "cell_type": "code",
   "execution_count": 43,
   "id": "cea74289",
   "metadata": {},
   "outputs": [
    {
     "name": "stdout",
     "output_type": "stream",
     "text": [
      "Средняя выручка за месяц от одного пользователя с подпиской равна 363.0 рублей\n"
     ]
    }
   ],
   "source": [
    "print('Средняя выручка за месяц от одного пользователя \\\n",
    "с подпиской равна {} рублей'.format(users_values.query('fee == 199')['amount']\n",
    ".mean().round(0))\n",
    "     )"
   ]
  },
  {
   "cell_type": "code",
   "execution_count": 44,
   "id": "a257a09b",
   "metadata": {},
   "outputs": [
    {
     "name": "stdout",
     "output_type": "stream",
     "text": [
      "Средняя выручка за месяц от одного пользователя без подписки равна 329.0 рублей\n"
     ]
    }
   ],
   "source": [
    "print('Средняя выручка за месяц от одного пользователя \\\n",
    "без подписки равна {} рублей'.format(users_values.query('fee == 0')['amount']\n",
    ".mean().round(0))\n",
    "     )"
   ]
  },
  {
   "cell_type": "markdown",
   "id": "8f45730f",
   "metadata": {},
   "source": [
    "### Итоги Шага 5\n",
    "\n",
    "Средняя месячная выручка от пользователя с подпиской больше на 10%, чем от пользователя без подписки, а именно:\n",
    " - с подпиской 363.0 рублей, \n",
    " - без подписки 329.0 рублей.\n"
   ]
  },
  {
   "cell_type": "markdown",
   "id": "a2020eef",
   "metadata": {},
   "source": [
    "## Шаг 6. Проверка гипотез\n",
    "Продакт-менеджеры сервиса хотят увеличить количество пользователей с подпиской. Для этого они будут проводить различные акции. Для этого выясним несколько важных моментов."
   ]
  },
  {
   "cell_type": "markdown",
   "id": "7c48ca4e",
   "metadata": {},
   "source": [
    "### Пользователи с подпиской тратят больше времени на поездки\n",
    "\n",
    "Важно понять, тратят ли пользователи с подпиской больше времени на поездки? Если да, то пользователи с подпиской могут быть «выгоднее» для компании. Проверим эту гипотезу. \n",
    "\n",
    "Для этого используйем исходные данные о продолжительности каждой сессии — отдельно для подписчиков и тех, у кого нет подписки.\n",
    "\n",
    "Будем сравнивать данные двух дата сетов и сравнивать среднее двух генеральных совокупностей: \n",
    "\n",
    "- **ultra_type** -собраны данные с пользователями с типом потдписки ultra, \n",
    "- **free_type** собраны данные с пользователями с типом потдписки free.\n",
    "\n",
    "Сформулируем нулевую и альтернативную гипотезы:\n",
    "\n",
    " - **Нулевая гипотеза:**  Среднее время   поездки пользователя с подпиской ultra и без подписки равны.\n",
    " - **Альтернативная гипотеза:** Среднее время   поездки пользователя с подпиской ultra больше, чем среднее  время   поездки пользователя без подписки.\n",
    " \n",
    "Используем: \n",
    " - метод ttest_ind()\n",
    " - укажем сначала выборку с временем пользователей с подпиской (`ultra_type['duration']`), затем выборку с времнем пользователей без подписки (`free_type['duration']`)\n",
    " \n",
    "Установим:\n",
    " - уровень статистической значимости в пределах конвенциальных значений 5%.\n",
    " - параметр alternative='greater'"
   ]
  },
  {
   "cell_type": "code",
   "execution_count": 45,
   "id": "3599bd2a",
   "metadata": {},
   "outputs": [
    {
     "name": "stdout",
     "output_type": "stream",
     "text": [
      "p-value: 2.4959453720736625e-34\n",
      "Отвергаем нулевую гипотезу\n",
      "\n",
      "Значение p-value меньше заданного уровня стат. значимости\n"
     ]
    }
   ],
   "source": [
    "# задаём уровень стат. значимости\n",
    "alpha = .05\n",
    "\n",
    "# проводим ttest для двух выборок, в качестве альтернативной \n",
    "# используем одностороннюю гипотезу «больше»\n",
    "results = st.ttest_ind(ultra_type['duration'], \n",
    "                       free_type['duration'],\n",
    "                       alternative='greater')\n",
    "print(f'p-value: {results.pvalue}')\n",
    "\n",
    "# проверяем p-value\n",
    "if results.pvalue < alpha:\n",
    "    print('Отвергаем нулевую гипотезу\\n')\n",
    "    print('Значение p-value меньше заданного уровня стат. значимости')\n",
    "else:\n",
    "    print('Нет оснований отвергнуть нулевую гипотезу')\n",
    "    print('Значение p-value больше заданного уровня стат. значимости')\n"
   ]
  },
  {
   "cell_type": "markdown",
   "id": "d73b201b",
   "metadata": {},
   "source": [
    "При уровне значимости 5% нет оснований отрицать, что среднее время поездки пользователя с подпиской ultra больше, чем среднее время поездки пользователя без подписки."
   ]
  },
  {
   "cell_type": "markdown",
   "id": "b95e5c8b",
   "metadata": {},
   "source": [
    "### Расстояние поездок пользователя с подпиской до 3130 метров\n",
    "\n",
    "Расстояние одной поездки в 3130 метров — оптимальное с точки зрения износа самоката.  \n",
    "\n",
    "Можно ли сказать, что расстояние, которое проезжают пользователи с подпиской за одну поездку, не превышает3130 метров? Проверим гипотезу и сделаем выводы."
   ]
  },
  {
   "cell_type": "markdown",
   "id": "b8d574d8",
   "metadata": {},
   "source": [
    "Важно понять, проезжает ли пользователи с подпиской расстояние не больше чем 3130 в среднем за одну поездку или это расстояние больше чем 3130 метров.\n",
    "\n",
    "Если пользователь с подпиской проездает не более чем 3130 метров за одну поездку, то самокаты не подвергаются излишнему износу. Проверим эту гипотезу. \n",
    "\n",
    "Для этого используйем исходные данные о расстоянии, которое проезжает пользователь в ходе каждой сессии —  для подписчиков.\n",
    "\n",
    "\n",
    "\n",
    "Сформулируем нулевую и альтернативную гипотезы:\n",
    "\n",
    " - **H0:**  Среднее значение distance пользователей по подписке ultra равно  3130 метров.\n",
    " - **H1:**  Среднее значение distance пользователей по подписке ultra больше 3130 метров.\n",
    " \n",
    "Используем: \n",
    " - метод scipy.stats.ttest_1samp()\n",
    " - `ultra_type['distance']` - данные о расстоянии, которое проезжает пользователь в ходе каждой сессии\n",
    "  \n",
    "Установим:\n",
    " - уровень статистической значимости в пределах конвенциальных значений 5%.\n",
    " - параметр alternative='greater'для правосторонней H1, P-value, которое выдаст метод, будет рассчитываться для правого хвоста распределения.\n",
    " - optimal_distance = 3130.0 -оптимальное расстояние по износу составляет 3130 м, значит большее расстояние приводит к повышенному износу самоката."
   ]
  },
  {
   "cell_type": "code",
   "execution_count": 46,
   "id": "9f4c4fbf",
   "metadata": {},
   "outputs": [
    {
     "name": "stdout",
     "output_type": "stream",
     "text": [
      "p-значение: 0.9120422337080507\n",
      "Не получилось отвергнуть нулевую гипотезу.\n",
      "Значение p-value больше заданного уровня статистической значимости.\n"
     ]
    }
   ],
   "source": [
    "optimal_distance = 3130.0\n",
    "alpha = 0.05\n",
    "results_2 = st.ttest_1samp(ultra_type['distance'], \n",
    "                           optimal_distance, \n",
    "                           alternative='greater')\n",
    "\n",
    "print(f'p-значение: {results_2.pvalue}')\n",
    "if results_2.pvalue < alpha:\n",
    "    print('Отвергаем нулевую гипотезу.\\n\\\n",
    "Значение p-value меньше заданного уровня статистической значимости.')\n",
    "else:\n",
    "    print('Не получилось отвергнуть нулевую гипотезу.\\n\\\n",
    "Значение p-value больше заданного уровня статистической значимости.')"
   ]
  },
  {
   "cell_type": "markdown",
   "id": "d4a023b2",
   "metadata": {},
   "source": [
    "Можно утверждать что среднее расстояние одной поездки в метрах у пользователей с подпиской ultra, не превышает оптимальное расстояние (с точки зрения износа самоката) в 3130 метров для одной поездки. Что хорошо скажется на сроке службы самоката."
   ]
  },
  {
   "cell_type": "markdown",
   "id": "c84ff7cd",
   "metadata": {},
   "source": [
    "### Помесячная выручка от пользователей с подпиской по месяцам выше\n",
    "\n",
    "Проверим гипотезу о том, будет ли помесячная выручка от пользователей с подпиской по месяцам выше, чем выручка от пользователей без подписки. Сделаем вывод.\n",
    "\n",
    "Выдвинем гипотезы:\n",
    "\n",
    "Н0: Помесячная средняя выручка от пользователей с подпиской ultra равна помесячной средней выручке от пользователей без подписки free.\n",
    "                             \n",
    "Н1: Помесячная средняя выручка от пользователей с подпиской ultra больше помесячной средней выручки от пользователей без подписки free.\n",
    "\n",
    "Для проверки гипотезы используем срезы данных датафрейма **users_values** о выручке по пользователям с подпиской ultra и без подписки free: ultra_month_value и free_month_value\n",
    "\n"
   ]
  },
  {
   "cell_type": "code",
   "execution_count": 47,
   "id": "637fefbb",
   "metadata": {},
   "outputs": [
    {
     "data": {
      "text/html": [
       "<div>\n",
       "<style scoped>\n",
       "    .dataframe tbody tr th:only-of-type {\n",
       "        vertical-align: middle;\n",
       "    }\n",
       "\n",
       "    .dataframe tbody tr th {\n",
       "        vertical-align: top;\n",
       "    }\n",
       "\n",
       "    .dataframe thead th {\n",
       "        text-align: right;\n",
       "    }\n",
       "</style>\n",
       "<table border=\"1\" class=\"dataframe\">\n",
       "  <thead>\n",
       "    <tr style=\"text-align: right;\">\n",
       "      <th></th>\n",
       "      <th></th>\n",
       "      <th>cnt</th>\n",
       "      <th>distance</th>\n",
       "      <th>duration</th>\n",
       "      <th>min_price</th>\n",
       "      <th>start_price</th>\n",
       "      <th>fee</th>\n",
       "      <th>amount</th>\n",
       "    </tr>\n",
       "    <tr>\n",
       "      <th>month</th>\n",
       "      <th>user_id</th>\n",
       "      <th></th>\n",
       "      <th></th>\n",
       "      <th></th>\n",
       "      <th></th>\n",
       "      <th></th>\n",
       "      <th></th>\n",
       "      <th></th>\n",
       "    </tr>\n",
       "  </thead>\n",
       "  <tbody>\n",
       "    <tr>\n",
       "      <th rowspan=\"5\" valign=\"top\">1</th>\n",
       "      <th>1</th>\n",
       "      <td>2</td>\n",
       "      <td>7028</td>\n",
       "      <td>42</td>\n",
       "      <td>6.0</td>\n",
       "      <td>0.0</td>\n",
       "      <td>199.0</td>\n",
       "      <td>451.0</td>\n",
       "    </tr>\n",
       "    <tr>\n",
       "      <th>3</th>\n",
       "      <td>1</td>\n",
       "      <td>3062</td>\n",
       "      <td>13</td>\n",
       "      <td>6.0</td>\n",
       "      <td>0.0</td>\n",
       "      <td>199.0</td>\n",
       "      <td>277.0</td>\n",
       "    </tr>\n",
       "    <tr>\n",
       "      <th>5</th>\n",
       "      <td>1</td>\n",
       "      <td>3915</td>\n",
       "      <td>13</td>\n",
       "      <td>6.0</td>\n",
       "      <td>0.0</td>\n",
       "      <td>199.0</td>\n",
       "      <td>277.0</td>\n",
       "    </tr>\n",
       "    <tr>\n",
       "      <th>7</th>\n",
       "      <td>2</td>\n",
       "      <td>6479</td>\n",
       "      <td>28</td>\n",
       "      <td>6.0</td>\n",
       "      <td>0.0</td>\n",
       "      <td>199.0</td>\n",
       "      <td>367.0</td>\n",
       "    </tr>\n",
       "    <tr>\n",
       "      <th>12</th>\n",
       "      <td>1</td>\n",
       "      <td>3578</td>\n",
       "      <td>33</td>\n",
       "      <td>6.0</td>\n",
       "      <td>0.0</td>\n",
       "      <td>199.0</td>\n",
       "      <td>397.0</td>\n",
       "    </tr>\n",
       "    <tr>\n",
       "      <th>...</th>\n",
       "      <th>...</th>\n",
       "      <td>...</td>\n",
       "      <td>...</td>\n",
       "      <td>...</td>\n",
       "      <td>...</td>\n",
       "      <td>...</td>\n",
       "      <td>...</td>\n",
       "      <td>...</td>\n",
       "    </tr>\n",
       "    <tr>\n",
       "      <th rowspan=\"5\" valign=\"top\">12</th>\n",
       "      <th>1525</th>\n",
       "      <td>1</td>\n",
       "      <td>4598</td>\n",
       "      <td>34</td>\n",
       "      <td>8.0</td>\n",
       "      <td>50.0</td>\n",
       "      <td>0.0</td>\n",
       "      <td>322.0</td>\n",
       "    </tr>\n",
       "    <tr>\n",
       "      <th>1526</th>\n",
       "      <td>1</td>\n",
       "      <td>3645</td>\n",
       "      <td>23</td>\n",
       "      <td>8.0</td>\n",
       "      <td>50.0</td>\n",
       "      <td>0.0</td>\n",
       "      <td>234.0</td>\n",
       "    </tr>\n",
       "    <tr>\n",
       "      <th>1528</th>\n",
       "      <td>1</td>\n",
       "      <td>3999</td>\n",
       "      <td>11</td>\n",
       "      <td>8.0</td>\n",
       "      <td>50.0</td>\n",
       "      <td>0.0</td>\n",
       "      <td>138.0</td>\n",
       "    </tr>\n",
       "    <tr>\n",
       "      <th>1532</th>\n",
       "      <td>2</td>\n",
       "      <td>6113</td>\n",
       "      <td>42</td>\n",
       "      <td>8.0</td>\n",
       "      <td>50.0</td>\n",
       "      <td>0.0</td>\n",
       "      <td>436.0</td>\n",
       "    </tr>\n",
       "    <tr>\n",
       "      <th>1534</th>\n",
       "      <td>1</td>\n",
       "      <td>2372</td>\n",
       "      <td>16</td>\n",
       "      <td>8.0</td>\n",
       "      <td>50.0</td>\n",
       "      <td>0.0</td>\n",
       "      <td>178.0</td>\n",
       "    </tr>\n",
       "  </tbody>\n",
       "</table>\n",
       "<p>11331 rows × 7 columns</p>\n",
       "</div>"
      ],
      "text/plain": [
       "               cnt  distance  duration  min_price  start_price    fee  amount\n",
       "month user_id                                                                \n",
       "1     1          2      7028        42        6.0          0.0  199.0   451.0\n",
       "      3          1      3062        13        6.0          0.0  199.0   277.0\n",
       "      5          1      3915        13        6.0          0.0  199.0   277.0\n",
       "      7          2      6479        28        6.0          0.0  199.0   367.0\n",
       "      12         1      3578        33        6.0          0.0  199.0   397.0\n",
       "...            ...       ...       ...        ...          ...    ...     ...\n",
       "12    1525       1      4598        34        8.0         50.0    0.0   322.0\n",
       "      1526       1      3645        23        8.0         50.0    0.0   234.0\n",
       "      1528       1      3999        11        8.0         50.0    0.0   138.0\n",
       "      1532       2      6113        42        8.0         50.0    0.0   436.0\n",
       "      1534       1      2372        16        8.0         50.0    0.0   178.0\n",
       "\n",
       "[11331 rows x 7 columns]"
      ]
     },
     "execution_count": 47,
     "metadata": {},
     "output_type": "execute_result"
    }
   ],
   "source": [
    "users_values"
   ]
  },
  {
   "cell_type": "code",
   "execution_count": 48,
   "id": "2b248f23",
   "metadata": {},
   "outputs": [
    {
     "name": "stdout",
     "output_type": "stream",
     "text": [
      "p-значение: 1.8850394384715216e-31\n",
      "Отвергаем нулевую гипотезу.\n",
      "Полученное значение p-value меньше заданного уровня значимости.\n"
     ]
    }
   ],
   "source": [
    "# делаем копии дф\n",
    "ultra_month_value = users_values.copy(deep=True)\n",
    "free_month_value = users_values.copy(deep=True)\n",
    "\n",
    "# данные по пользователям с подпиской\n",
    "ultra_month_value  = (ultra_month_value\n",
    "                      .loc[ultra_month_value ['fee'] > 0, \n",
    "                           'amount'])\n",
    "# данные по пользователям без подписки\n",
    "free_month_value = (free_month_value\n",
    "                    .loc[free_month_value['fee'] == 0, \n",
    "                         'amount'])\n",
    "\n",
    "# уровень стат.значимости\n",
    "alpha = .05\n",
    "results_3 = st.ttest_ind(\n",
    "            ultra_month_value, \n",
    "            free_month_value, \n",
    "            alternative='greater')\n",
    "\n",
    "print(f'p-значение: {results_3.pvalue}')    \n",
    "\n",
    "if results_3.pvalue < alpha:\n",
    "    print('Отвергаем нулевую гипотезу.\\n\\\n",
    "Полученное значение p-value меньше заданного уровня значимости.')\n",
    "else:\n",
    "    print('Нет оснований отвергнуть нулевую гипотезу\\n\\\n",
    "Полученное значение p-value больше заданного уровня значимости.')"
   ]
  },
  {
   "cell_type": "markdown",
   "id": "236e2f22",
   "metadata": {},
   "source": [
    "Нет оснований отрицать, что помесячная средняя выручка от пользователей с подпиской ultra больше помесячной средней выручки от пользователей без подписки free. Гипотеза, которая утверждала, что помесячная средняя выручка от пользователей с подпиской ultra равна помесячной средней выручке от пользователей без подписки free была отвергнута в ходе проверки."
   ]
  },
  {
   "attachments": {
    "image.png": {
     "image/png": "[encoded data removed]"
    }
   },
   "cell_type": "markdown",
   "id": "2c53879a",
   "metadata": {},
   "source": [
    "### Тест для проверки гипотезы для тех.поддержки\n",
    "\n",
    "Смоделируем такую ситуацию: техническая команда сервиса обновила сервера, с которыми взаимодействует мобильное приложение. Техническая команда сервиса надеется, что из-за этого количество обращений в техподдержку значимо снизилось. Некоторый файл содержит для каждого пользователя данные о количестве обращений до обновления и после него. \n",
    "\n",
    "Какой тест вам понадобился бы для проверки этой гипотезы?\n",
    "\n",
    "Так как мы рассматриваем  одну генеральную совокупность до и после какого-либо изменения, нужно использовать `Гипотезу о равенстве средних для зависимых (парных) выборок`\n",
    "![image.png](attachment:image.png)\n",
    "\n",
    "\n",
    "Выдвинем гипотезы:\n",
    "\n",
    "Н0: Количество обращений в техподдержку до и после обновления сервера равно.\n",
    "                             \n",
    "Н1: Количество обращений в техподдержку после обновления сервера меньше, чем до обновления сервера.\n",
    "\n",
    "Используем: \n",
    " - метод scipy.stats.ttest_rel()\n",
    " - два параметра: наборы о количестве обращений до обновления и после него. \n",
    "  \n",
    "Установим:\n",
    " - уровень статистической значимости в пределах конвенциальных значений 5%."
   ]
  },
  {
   "cell_type": "markdown",
   "id": "9939446b",
   "metadata": {},
   "source": [
    "## Шаг 7: Распределения"
   ]
  },
  {
   "cell_type": "markdown",
   "id": "9059886b",
   "metadata": {},
   "source": [
    "### Акция с промокодами\n",
    "Отделу маркетинга GoFast поставили задачу: нужно провести акцию с раздачей промокодов на один бесплатный месяц подписки, в рамках которой как минимум100 существующих клиентов должны продлить эту подписку. То есть по завершении периода действия подписки пользователь может либо отказаться от неё, либо продлить, совершив соответствующий платёж.\n",
    "Эта акция уже проводилась ранее и по итогу выяснилось, что после бесплатного пробного периода подписку продлевают10 % пользователей. Выясните, какое минимальное количество промокодов нужно разослать, чтобы вероятность не выполнить план была примерно5 %. Подберите параметры распределения, описывающего эту ситуацию, постройте график распределения и сформулируйте ответ на вопрос о количестве промокодов.\n",
    "\n",
    "Подсказка\n",
    "\n",
    "Нужно использовать биномиальное распределение, которое описывает указанную ситуацию. Затем подобрать подходящее значение параметра N для заданного параметра p=0.1 с помощью графиков и метода cdf() , сформулировать вывод и ответ."
   ]
  },
  {
   "cell_type": "markdown",
   "id": "683fd8cf",
   "metadata": {},
   "source": [
    "### Push-уведомления в мобильном приложении\n",
    "Отдел маркетинга рассылает клиентам push-уведомления в мобильном приложении. Клиенты могут открыть его или не открывать. Известно, что уведомления открывают около40 % получивших клиентов. Отдел планирует разослать1 млн уведомлений. С помощью аппроксимации постройте примерный график распределения и оцените вероятность того, что уведомление откроют не более399,5 тыс. пользователей.\n",
    "\n",
    "Подсказка\n",
    "\n",
    "Эта ситуация тоже описывается биномиальным распределением. Но считать каждое отдельное значение достаточно долго. Вы можете воспользоваться нормальной аппроксимацией биномиального распределения и cdf() для быстрой оценки."
   ]
  },
  {
   "cell_type": "markdown",
   "id": "0e057094",
   "metadata": {},
   "source": [
    "## Итоговый вывод"
   ]
  },
  {
   "cell_type": "markdown",
   "id": "6f1e2e5e",
   "metadata": {},
   "source": []
  },
  {
   "cell_type": "markdown",
   "id": "fe181bcf",
   "metadata": {},
   "source": []
  },
  {
   "cell_type": "markdown",
   "id": "8e9c4d3c",
   "metadata": {},
   "source": []
  }
 ],
 "metadata": {
  "hide_input": false,
  "kernelspec": {
   "display_name": "Python 3 (ipykernel)",
   "language": "python",
   "name": "python3"
  },
  "language_info": {
   "codemirror_mode": {
    "name": "ipython",
    "version": 3
   },
   "file_extension": ".py",
   "mimetype": "text/x-python",
   "name": "python",
   "nbconvert_exporter": "python",
   "pygments_lexer": "ipython3",
   "version": "3.12.3"
  },
  "toc": {
   "base_numbering": 1,
   "nav_menu": {},
   "number_sections": true,
   "sideBar": true,
   "skip_h1_title": false,
   "title_cell": "Table of Contents",
   "title_sidebar": "Contents",
   "toc_cell": false,
   "toc_position": {
    "height": "calc(100% - 180px)",
    "left": "10px",
    "top": "150px",
    "width": "186.818px"
   },
   "toc_section_display": true,
   "toc_window_display": true
  }
 },
 "nbformat": 4,
 "nbformat_minor": 5
}
