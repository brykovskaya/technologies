{
 "cells": [
  {
   "cell_type": "markdown",
   "id": "2ab1e544",
   "metadata": {
    "id": "2ab1e544"
   },
   "source": [
    "# Проверка гипотез в бизнесе\n",
    "В этом проекте анализировались данные агрегатора отелей. \n",
    "\n",
    "Цель исследования — обработка, анализ и визуализация данных. Анализ поможет выявить ключевые закономерности и сделать выводы о туризме в субъектах Российской Федерации."
   ]
  },
  {
   "cell_type": "markdown",
   "id": "9870b683",
   "metadata": {
    "id": "9870b683"
   },
   "source": [
    "## Описание данных\n",
    "\n",
    "Таблица `hotel.csv` с числом гостиниц, хостелов, санаторно-курортных организаций и мест в них по субъектам Российской Федерации за 2018–2023 годы:\n",
    "- `Субъект` — наименование субъекта Российской Федерации.\n",
    "- `Число гостиниц`.\n",
    "- `Число мест в гостиницах`.\n",
    "- `Число хостелов`.\n",
    "- `Число мест в хостелах`.\n",
    "- `Число санаторно-курортных организаций`.\n",
    "- `Число мест в санаторно-курортных организациях`.\n",
    "\n",
    "Таблица `count_person_hotel.csv` с количеством людей, размещённых в гостиницах по субъектам Российской Федерации в 2023 году:\n",
    "- `Субъект` — наименование субъекта Российской Федерации.\n",
    "- `Численность лиц, размещенных в гостиницах в 2023 году`.\n",
    "- `Численность граждан России, размещенных в гостиницах в 2023 году`.\n",
    "- `Численность иностранных граждан, размещенных в гостиницах в 2023 году`.\n",
    "\n",
    "Таблица `tour_firm.csv` с числом реализованных турпакетов в 2018-2023 годы:\n",
    "- `Субъект` — наименование субъекта Российской Федерации.\n",
    "- `Общее число турпакетов, реализованных населению`.\n",
    "- `Общее число турпакетов, реализованных гражданам России по территории России`.\n",
    "- `Общее число турпакетов, реализованных гражданам России по другим странам`.\n",
    "- `Общее число турпакетов, реализованных гражданам других стран по территории России`.\n",
    "\n",
    "Таблица `tour_cost_2023.csv` с основными показателями деятельности туристических фирм по субъектам Российской Федерации в 2023 году:\n",
    "- `Субъект` — наименование субъекта Российской Федерации.\n",
    "- `Стоимость реализованных турпакетов в 2023 году, млн руб.`.\n",
    "- `Стоимость турпакетов  реализованных гражданам России по территории России в 2023 году, млн руб.`.\n",
    "- `Стоимость турпакетов  реализованных гражданам России по другим странам в 2023 году, млн руб.`."
   ]
  },
  {
   "cell_type": "markdown",
   "id": "09a3bcf9",
   "metadata": {
    "id": "09a3bcf9"
   },
   "source": [
    "## Выполнение проекта\n",
    "### Шаг 1. Загрузка данных\n",
    "Загружаем все необходимые данные и знакомимся с содержанием таблиц."
   ]
  },
  {
   "cell_type": "markdown",
   "id": "b91194b3",
   "metadata": {
    "id": "b91194b3"
   },
   "source": [
    "#### Задача 1.1. Импорт библиотеки pandas\n",
    "Импортируем библиотеку pandas с сокращением `pd`."
   ]
  },
  {
   "cell_type": "code",
   "execution_count": 1,
   "id": "6c1d51f4",
   "metadata": {
    "id": "6c1d51f4"
   },
   "outputs": [],
   "source": [
    "import pandas as pd"
   ]
  },
  {
   "cell_type": "markdown",
   "id": "aca0f089",
   "metadata": {
    "id": "aca0f089"
   },
   "source": [
    "#### Задача 1.2 Чтение данных\n",
    "Cчитываем и сохраняем данные в отдельные датафреймы. Датафреймы называем в соответствии с названиями файлов, добавив префикс `df_`, например `df_hotel`."
   ]
  },
  {
   "cell_type": "code",
   "execution_count": 2,
   "id": "8083a7fb",
   "metadata": {
    "id": "8083a7fb"
   },
   "outputs": [],
   "source": [
    "df_hotel = pd.read_csv('files/hotel.csv', sep=';')\n",
    "df_person_hotel = pd.read_csv('files/count_person_hotel.csv', sep=';')\n",
    "df_tour_firm = pd.read_csv('files/tour_firm.csv', sep=';')\n",
    "df_tour_cost_2023 = pd.read_csv('files/tour_cost_2023.csv', sep=';')"
   ]
  },
  {
   "cell_type": "markdown",
   "id": "0db86aac",
   "metadata": {
    "id": "0db86aac"
   },
   "source": [
    "### Шаг 2. Предобработка данных"
   ]
  },
  {
   "cell_type": "markdown",
   "id": "0b90576d",
   "metadata": {
    "id": "0b90576d"
   },
   "source": [
    "Для вывода названий столбцов можно использовать атрибут `columns`."
   ]
  },
  {
   "cell_type": "code",
   "execution_count": 3,
   "id": "c7fc57d3",
   "metadata": {
    "colab": {
     "base_uri": "https://localhost:8080/"
    },
    "id": "c7fc57d3",
    "outputId": "9a737545-6077-4739-b040-6741b48b41d2"
   },
   "outputs": [
    {
     "data": {
      "text/plain": [
       "Index(['Субъект', 'Число гостиниц, 2018', 'Число гостиниц, 2019',\n",
       "       'Число гостиниц, 2020', 'Число гостиниц, 2021', 'Число гостиниц, 2022',\n",
       "       'Число гостиниц, 2023', 'Число мест в гостиницах, 2018',\n",
       "       'Число мест в гостиницах, 2019', 'Число мест в гостиницах, 2020',\n",
       "       'Число мест в гостиницах, 2021', 'Число мест в гостиницах, 2022',\n",
       "       'Число мест в гостиницах, 2023', 'Число хостелов, 2018',\n",
       "       'Число хостелов, 2019', 'Число хостелов, 2020', 'Число хостелов, 2021',\n",
       "       'Число хостелов, 2022', 'Число хостелов, 2023',\n",
       "       'Число мест в хостелах, 2018', 'Число мест в хостелах, 2019',\n",
       "       'Число мест в хостелах, 2020', 'Число мест в хостелах, 2021',\n",
       "       'Число мест в хостелах, 2022', 'Число мест в хостелах, 2023',\n",
       "       'Число санаторно-курортных организаций, 2018',\n",
       "       'Число санаторно-курортных организаций, 2019',\n",
       "       'Число санаторно-курортных организаций, 2020',\n",
       "       'Число санаторно-курортных организаций, 2021',\n",
       "       'Число санаторно-курортных организаций, 2022',\n",
       "       'Число санаторно-курортных организаций, 2023',\n",
       "       'Число мест в санаторно-курортных организациях, 2018',\n",
       "       'Число мест в санаторно-курортных организациях, 2019',\n",
       "       'Число мест в санаторно-курортных организациях, 2020',\n",
       "       'Число мест в санаторно-курортных организациях, 2021',\n",
       "       'Число мест в санаторно-курортных организациях, 2022',\n",
       "       'Число мест в санаторно-курортных организациях, 2023'],\n",
       "      dtype='object')"
      ]
     },
     "execution_count": 3,
     "metadata": {},
     "output_type": "execute_result"
    }
   ],
   "source": [
    "df_hotel.columns"
   ]
  },
  {
   "cell_type": "code",
   "execution_count": 4,
   "id": "893272f8",
   "metadata": {
    "colab": {
     "base_uri": "https://localhost:8080/"
    },
    "id": "893272f8",
    "outputId": "37f0a517-9acb-451f-efbb-eac64a361fa9"
   },
   "outputs": [
    {
     "data": {
      "text/plain": [
       "Index(['Субъект', 'Численность лиц, размещенных в гостиницах в 2023 году',\n",
       "       'Численность граждан России, размещенных в гостиницах в 2023 году',\n",
       "       'Численность иностранных граждан, размещенных в гостиницах в 2023 году'],\n",
       "      dtype='object')"
      ]
     },
     "execution_count": 4,
     "metadata": {},
     "output_type": "execute_result"
    }
   ],
   "source": [
    "df_person_hotel.columns"
   ]
  },
  {
   "cell_type": "code",
   "execution_count": 5,
   "id": "42ea21c7",
   "metadata": {
    "colab": {
     "base_uri": "https://localhost:8080/"
    },
    "id": "42ea21c7",
    "outputId": "7e946fe9-4503-4840-99ed-4806e0eb7e57"
   },
   "outputs": [
    {
     "data": {
      "text/plain": [
       "Index(['Субъект', 'Общее число турпакетов, реализованных населению, 2018',\n",
       "       'Общее число турпакетов, реализованных гражданам России по территории России, 2018',\n",
       "       'Общее число турпакетов, реализованных гражданам России по другим странам, 2018',\n",
       "       'Общее число турпакетов, реализованных гражданам других стран по территории России, 2018',\n",
       "       'Общее число турпакетов, реализованных населению, 2019',\n",
       "       'Общее число турпакетов, реализованных гражданам России по территории России, 2019',\n",
       "       'Общее число турпакетов, реализованных гражданам России по другим странам, 2019',\n",
       "       'Общее число турпакетов, реализованных гражданам других стран по территории России, 2019',\n",
       "       'Общее число турпакетов, реализованных населению, 2020',\n",
       "       'Общее число турпакетов, реализованных гражданам России по территории России, 2020',\n",
       "       'Общее число турпакетов, реализованных гражданам России по другим странам, 2020',\n",
       "       'Общее число турпакетов, реализованных гражданам других стран по территории России, 2020',\n",
       "       'Общее число турпакетов, реализованных населению, 2021',\n",
       "       'Общее число турпакетов, реализованных гражданам России по территории России, 2021',\n",
       "       'Общее число турпакетов, реализованных гражданам России по другим странам, 2021',\n",
       "       'Общее число турпакетов, реализованных гражданам других стран по территории России, 2021',\n",
       "       'Общее число турпакетов, реализованных населению, 2022',\n",
       "       'Общее число турпакетов, реализованных гражданам России по территории России, 2022',\n",
       "       'Общее число турпакетов, реализованных гражданам России по другим странам, 2022',\n",
       "       'Общее число турпакетов, реализованных гражданам других стран по территории России, 2022',\n",
       "       'Общее число турпакетов, реализованных населению, 2023',\n",
       "       'Общее число турпакетов, реализованных гражданам России по территории России, 2023',\n",
       "       'Общее число турпакетов, реализованных гражданам России по другим странам, 2023',\n",
       "       'Общее число турпакетов, реализованных гражданам других стран по территории России, 2023'],\n",
       "      dtype='object')"
      ]
     },
     "execution_count": 5,
     "metadata": {},
     "output_type": "execute_result"
    }
   ],
   "source": [
    "df_tour_firm.columns"
   ]
  },
  {
   "cell_type": "code",
   "execution_count": 6,
   "id": "a0a338a9",
   "metadata": {
    "colab": {
     "base_uri": "https://localhost:8080/"
    },
    "id": "a0a338a9",
    "outputId": "187167dd-cefe-4517-ede8-a0461f5a51df"
   },
   "outputs": [
    {
     "data": {
      "text/plain": [
       "Index(['Субъект', 'Стоимость реализованных турпакетов в 2023 году, млн руб.',\n",
       "       'Стоимость турпакетов  реализованных гражданам России по территории России в 2023 году, млн руб.',\n",
       "       'Стоимость турпакетов  реализованных гражданам России по другим странам в 2023 году, млн руб.'],\n",
       "      dtype='object')"
      ]
     },
     "execution_count": 6,
     "metadata": {},
     "output_type": "execute_result"
    }
   ],
   "source": [
    "df_tour_cost_2023.columns"
   ]
  },
  {
   "cell_type": "markdown",
   "id": "a3aa1cfc",
   "metadata": {
    "id": "a3aa1cfc"
   },
   "source": [
    "Со столбцами можно работать и в таком виде. Однако стоит убрать лишние пробелы и символы, которые могут вызывать ошибки при обработке. Кроме того, следует использовать удобные, короткие и понятные имена вместо длинных и сложных названий, что сделает код более читаемым и удобным. Например, `hotels_2023` вместо `\"Число гостиниц, 2023\"`. Это также позволит избежать проблем с кодировкой."
   ]
  },
  {
   "cell_type": "markdown",
   "id": "d1668188",
   "metadata": {
    "id": "d1668188"
   },
   "source": [
    "#### Задача 2.1. Переименование столбцов"
   ]
  },
  {
   "cell_type": "markdown",
   "id": "f9dc62e8",
   "metadata": {
    "id": "f9dc62e8"
   },
   "source": [
    "Значениям столбцов присвоим новые имена."
   ]
  },
  {
   "cell_type": "code",
   "execution_count": 7,
   "id": "f619d5f7",
   "metadata": {
    "id": "f619d5f7"
   },
   "outputs": [],
   "source": [
    "column_names_hotel = [\n",
    "    \"region\", \"hotels_2018\", \"hotels_2019\", \"hotels_2020\", \"hotels_2021\",\n",
    "    \"hotels_2022\", \"hotels_2023\", \"beds_hotels_2018\", \"beds_hotels_2019\",\n",
    "    \"beds_hotels_2020\", \"beds_hotels_2021\", \"beds_hotels_2022\", \"beds_hotels_2023\",\n",
    "    \"hostels_2018\", \"hostels_2019\", \"hostels_2020\", \"hostels_2021\", \"hostels_2022\", \"hostels_2023\",\n",
    "    \"beds_hostels_2018\", \"beds_hostels_2019\", \"beds_hostels_2020\", \"beds_hostels_2021\", \"beds_hostels_2022\",\n",
    "    \"beds_hostels_2023\", \"spa_orgs_2018\", \"spa_orgs_2019\", \"spa_orgs_2020\", \"spa_orgs_2021\", \"spa_orgs_2022\", \"spa_orgs_2023\",\n",
    "    \"beds_spa_2018\", \"beds_spa_2019\", \"beds_spa_2020\", \"beds_spa_2021\", \"beds_spa_2022\", \"beds_spa_2023\"\n",
    "]"
   ]
  },
  {
   "cell_type": "code",
   "execution_count": 8,
   "id": "7f2d60b3",
   "metadata": {
    "id": "7f2d60b3"
   },
   "outputs": [],
   "source": [
    "df_hotel.columns = column_names_hotel"
   ]
  },
  {
   "cell_type": "code",
   "execution_count": 9,
   "id": "25999aab",
   "metadata": {
    "colab": {
     "base_uri": "https://localhost:8080/"
    },
    "id": "25999aab",
    "outputId": "008291f0-9efc-44a8-abef-27e796e2462a"
   },
   "outputs": [
    {
     "data": {
      "text/plain": [
       "Index(['region', 'hotels_2018', 'hotels_2019', 'hotels_2020', 'hotels_2021',\n",
       "       'hotels_2022', 'hotels_2023', 'beds_hotels_2018', 'beds_hotels_2019',\n",
       "       'beds_hotels_2020', 'beds_hotels_2021', 'beds_hotels_2022',\n",
       "       'beds_hotels_2023', 'hostels_2018', 'hostels_2019', 'hostels_2020',\n",
       "       'hostels_2021', 'hostels_2022', 'hostels_2023', 'beds_hostels_2018',\n",
       "       'beds_hostels_2019', 'beds_hostels_2020', 'beds_hostels_2021',\n",
       "       'beds_hostels_2022', 'beds_hostels_2023', 'spa_orgs_2018',\n",
       "       'spa_orgs_2019', 'spa_orgs_2020', 'spa_orgs_2021', 'spa_orgs_2022',\n",
       "       'spa_orgs_2023', 'beds_spa_2018', 'beds_spa_2019', 'beds_spa_2020',\n",
       "       'beds_spa_2021', 'beds_spa_2022', 'beds_spa_2023'],\n",
       "      dtype='object')"
      ]
     },
     "execution_count": 9,
     "metadata": {},
     "output_type": "execute_result"
    }
   ],
   "source": [
    "df_hotel.columns"
   ]
  },
  {
   "cell_type": "code",
   "execution_count": 10,
   "id": "fc999aaf",
   "metadata": {
    "id": "fc999aaf"
   },
   "outputs": [],
   "source": [
    "column_person_hotel = [\n",
    "    \"region\",\n",
    "    \"total_guests_2023\",\n",
    "    \"russian_guests_2023\",\n",
    "    \"foreign_guests_2023\"\n",
    "]"
   ]
  },
  {
   "cell_type": "code",
   "execution_count": 11,
   "id": "3dbcdd02",
   "metadata": {
    "id": "3dbcdd02"
   },
   "outputs": [],
   "source": [
    "df_person_hotel.columns = column_person_hotel"
   ]
  },
  {
   "cell_type": "markdown",
   "id": "4f72ae9c-4cc8-4be8-875c-73cd3e120b74",
   "metadata": {},
   "source": [
    "В датафрейме  df_tour_firm переименуем так:\n",
    "- `Субъект` - \"region\",\n",
    "- `Общее число турпакетов, реализованных населению, 2018` - \"total_tour_packages_2018\",\n",
    "- `Общее число турпакетов, реализованных гражданам России по территории России, 2018` -  \"domestic_russia_2018\",\n",
    "- `Общее число турпакетов, реализованных гражданам России по другим странам, 2018` -  \"international_russia_2018\",\n",
    "- `Общее число турпакетов, реализованных гражданам других стран по территории России, 2018` - \"foreign_in_russia_2018\",\n",
    "- `Общее число турпакетов, реализованных населению, 2019` - \"total_tour_packages_2019\",\n",
    "- `Общее число турпакетов, реализованных гражданам России по территории России, 2019` - \"domestic_russia_2019\",\n",
    "- `Общее число турпакетов, реализованных гражданам России по другим странам, 2019` - \"international_russia_2019\",\n",
    "- `Общее число турпакетов, реализованных гражданам других стран по территории России, 2019` - \"foreign_in_russia_2019\",\n",
    "- `Общее число турпакетов, реализованных населению, 2020` - \"total_tour_packages_2020\",\n",
    "- `Общее число турпакетов, реализованных гражданам России по территории России, 2020` - \"domestic_russia_2020\",\n",
    "- `Общее число турпакетов, реализованных гражданам России по другим странам, 2020` - \"international_russia_2020\",\n",
    "- `Общее число турпакетов, реализованных гражданам других стран по территории России, 2020` - \"foreign_in_russia_2020\",\n",
    "- `Общее число турпакетов, реализованных населению, 2021` - \"total_tour_packages_2021\",\n",
    "- `Общее число турпакетов, реализованных гражданам России по территории России, 2021` - \"domestic_russia_2021\",\n",
    "- `Общее число турпакетов, реализованных гражданам России по другим странам, 2021` - \"international_russia_2021\",\n",
    "- `Общее число турпакетов, реализованных гражданам других стран по территории России, 2021` - \"foreign_in_russia_2021\",\n",
    "- `Общее число турпакетов, реализованных населению, 2022` - \"total_tour_packages_2022\",\n",
    "- `Общее число турпакетов, реализованных гражданам России по территории России, 2022` - \"domestic_russia_2022\",\n",
    "- `Общее число турпакетов, реализованных гражданам России по другим странам, 2022` - \"international_russia_2022\",\n",
    "- `Общее число турпакетов, реализованных гражданам других стран по территории России, 2022` - \"foreign_in_russia_2022\",\n",
    "- `Общее число турпакетов, реализованных населению, 2023` -  \"total_tour_packages_2023\",\n",
    "- `Общее число турпакетов, реализованных гражданам России по территории России, 2023` - \"domestic_russia_2023\",\n",
    "- `Общее число турпакетов, реализованных гражданам России по другим странам, 2023` - \"international_russia_2023\",\n",
    "- `Общее число турпакетов, реализованных гражданам других стран по территории России, 202` - \"foreign_in_russia_2023\"."
   ]
  },
  {
   "cell_type": "code",
   "execution_count": 101,
   "id": "5856d447",
   "metadata": {
    "id": "5856d447"
   },
   "outputs": [],
   "source": [
    "column_tour_firm = [\n",
    "    \"region\",\n",
    "    \"total_tour_packages_2018\", \"domestic_russia_2018\", \"international_russia_2018\", \"foreign_in_russia_2018\",\n",
    "    \"total_tour_packages_2019\", \"domestic_russia_2019\", \"international_russia_2019\", \"foreign_in_russia_2019\",\n",
    "    \"total_tour_packages_2020\", \"domestic_russia_2020\", \"international_russia_2020\", \"foreign_in_russia_2020\",\n",
    "    \"total_tour_packages_2021\", \"domestic_russia_2021\", \"international_russia_2021\", \"foreign_in_russia_2021\",\n",
    "    \"total_tour_packages_2022\", \"domestic_russia_2022\", \"international_russia_2022\", \"foreign_in_russia_2022\",\n",
    "    \"total_tour_packages_2023\", \"domestic_russia_2023\", \"international_russia_2023\", \"foreign_in_russia_2023\"\n",
    "]"
   ]
  },
  {
   "cell_type": "code",
   "execution_count": 13,
   "id": "f82a757e",
   "metadata": {
    "id": "f82a757e"
   },
   "outputs": [],
   "source": [
    "df_tour_firm.columns = column_tour_firm"
   ]
  },
  {
   "cell_type": "markdown",
   "id": "2f62643a-fb5b-4fd0-9f48-bd6a30f3f254",
   "metadata": {},
   "source": [
    "В датафрейме `column_tour_cost_2023` переименуем так:\n",
    " - 'Субъект' - \"region\",\n",
    " - 'Стоимость реализованных турпакетов в 2023 году, млн руб.' - \"total_tour_cost_million_2023\",\n",
    " - 'Стоимость турпакетов  реализованных гражданам России по территории России в 2023 году, млн руб.' - \"domestic_tour_package_cost_million_2023\",\n",
    " - 'Стоимость турпакетов  реализованных гражданам России по другим странам в 2023 году, млн руб.' - \"international_tour_package_cost_million_2023\"\n"
   ]
  },
  {
   "cell_type": "code",
   "execution_count": 14,
   "id": "01aa6310",
   "metadata": {
    "id": "01aa6310"
   },
   "outputs": [],
   "source": [
    "column_tour_cost_2023  = [\n",
    "    \"region\",\n",
    "    \"total_tour_cost_million_2023\",\n",
    "    \"domestic_tour_package_cost_million_2023\",\n",
    "    \"international_tour_package_cost_million_2023\"\n",
    "]"
   ]
  },
  {
   "cell_type": "code",
   "execution_count": 15,
   "id": "19358d87",
   "metadata": {
    "id": "19358d87"
   },
   "outputs": [],
   "source": [
    "df_tour_cost_2023.columns = column_tour_cost_2023"
   ]
  },
  {
   "cell_type": "markdown",
   "id": "7d0c7914",
   "metadata": {
    "id": "7d0c7914"
   },
   "source": [
    "#### Задача 2.2. Анализ типов данных, пропусков, замена некорректных значений"
   ]
  },
  {
   "cell_type": "markdown",
   "id": "53cb084b",
   "metadata": {
    "id": "53cb084b"
   },
   "source": [
    "Перед анализом важно убедиться, что каждая колонка имеет правильный тип данных. Например:\n",
    "\n",
    "* Числовые данные (количество гостиниц, стоимость турпакетов) должны быть в формате `int` или `float`.\n",
    "* Категориальные данные (названия регионов) должны быть строками (`object`).\n",
    "* Если числовые данные представлены в виде строк (`object`), их нужно преобразовать в нужный формат."
   ]
  },
  {
   "cell_type": "markdown",
   "id": "ce2a5bba",
   "metadata": {
    "id": "ce2a5bba"
   },
   "source": [
    "##### Анализ типов данных"
   ]
  },
  {
   "cell_type": "markdown",
   "id": "3e444108",
   "metadata": {
    "id": "3e444108"
   },
   "source": [
    "Вывести типы данных всех колонок можно с помощью атрибута `dtypes`."
   ]
  },
  {
   "cell_type": "code",
   "execution_count": 16,
   "id": "0294a1a5",
   "metadata": {
    "colab": {
     "base_uri": "https://localhost:8080/",
     "height": 1000
    },
    "id": "0294a1a5",
    "outputId": "9c27f663-d0a1-4885-db23-6ba37a34c9b4"
   },
   "outputs": [
    {
     "data": {
      "text/plain": [
       "region               object\n",
       "hotels_2018           int64\n",
       "hotels_2019           int64\n",
       "hotels_2020           int64\n",
       "hotels_2021           int64\n",
       "hotels_2022           int64\n",
       "hotels_2023           int64\n",
       "beds_hotels_2018      int64\n",
       "beds_hotels_2019      int64\n",
       "beds_hotels_2020      int64\n",
       "beds_hotels_2021      int64\n",
       "beds_hotels_2022      int64\n",
       "beds_hotels_2023      int64\n",
       "hostels_2018          int64\n",
       "hostels_2019          int64\n",
       "hostels_2020          int64\n",
       "hostels_2021          int64\n",
       "hostels_2022          int64\n",
       "hostels_2023          int64\n",
       "beds_hostels_2018    object\n",
       "beds_hostels_2019    object\n",
       "beds_hostels_2020    object\n",
       "beds_hostels_2021    object\n",
       "beds_hostels_2022    object\n",
       "beds_hostels_2023    object\n",
       "spa_orgs_2018         int64\n",
       "spa_orgs_2019         int64\n",
       "spa_orgs_2020         int64\n",
       "spa_orgs_2021         int64\n",
       "spa_orgs_2022         int64\n",
       "spa_orgs_2023         int64\n",
       "beds_spa_2018        object\n",
       "beds_spa_2019        object\n",
       "beds_spa_2020        object\n",
       "beds_spa_2021        object\n",
       "beds_spa_2022        object\n",
       "beds_spa_2023        object\n",
       "dtype: object"
      ]
     },
     "execution_count": 16,
     "metadata": {},
     "output_type": "execute_result"
    }
   ],
   "source": [
    "df_hotel.dtypes"
   ]
  },
  {
   "cell_type": "markdown",
   "id": "e3fe2ebd",
   "metadata": {
    "id": "e3fe2ebd"
   },
   "source": [
    "Число мест в хостелах и санаторно-курортных организациях имеет тип данных `object`. Это столбцы `beds_hotels` и `beds_spa` за разные годы. Нужно будет подробно изучить эти данные и привести их к числовому формату."
   ]
  },
  {
   "cell_type": "code",
   "execution_count": 17,
   "id": "02f8016d",
   "metadata": {
    "colab": {
     "base_uri": "https://localhost:8080/",
     "height": 210
    },
    "id": "02f8016d",
    "outputId": "00ae6c1e-67d2-4947-9e49-64b5257a8086"
   },
   "outputs": [
    {
     "data": {
      "text/plain": [
       "region                 object\n",
       "total_guests_2023       int64\n",
       "russian_guests_2023     int64\n",
       "foreign_guests_2023     int64\n",
       "dtype: object"
      ]
     },
     "execution_count": 17,
     "metadata": {},
     "output_type": "execute_result"
    }
   ],
   "source": [
    "df_person_hotel.dtypes"
   ]
  },
  {
   "cell_type": "markdown",
   "id": "64d8525c",
   "metadata": {
    "id": "64d8525c"
   },
   "source": [
    "Здесь всё в порядке — каждый столбец имеет соответствующий формат."
   ]
  },
  {
   "cell_type": "code",
   "execution_count": 18,
   "id": "be4b1f8c",
   "metadata": {
    "colab": {
     "base_uri": "https://localhost:8080/",
     "height": 868
    },
    "id": "be4b1f8c",
    "outputId": "7baf663f-bcfa-4609-db6c-b5504e8960ce"
   },
   "outputs": [
    {
     "data": {
      "text/plain": [
       "region                        object\n",
       "total_tour_packages_2018      object\n",
       "domestic_russia_2018          object\n",
       "international_russia_2018     object\n",
       "foreign_in_russia_2018       float64\n",
       "total_tour_packages_2019      object\n",
       "domestic_russia_2019          object\n",
       "international_russia_2019     object\n",
       "foreign_in_russia_2019        object\n",
       "total_tour_packages_2020      object\n",
       "domestic_russia_2020          object\n",
       "international_russia_2020     object\n",
       "foreign_in_russia_2020       float64\n",
       "total_tour_packages_2021      object\n",
       "domestic_russia_2021          object\n",
       "international_russia_2021    float64\n",
       "foreign_in_russia_2021        object\n",
       "total_tour_packages_2022      object\n",
       "domestic_russia_2022          object\n",
       "international_russia_2022     object\n",
       "foreign_in_russia_2022       float64\n",
       "total_tour_packages_2023      object\n",
       "domestic_russia_2023          object\n",
       "international_russia_2023    float64\n",
       "foreign_in_russia_2023       float64\n",
       "dtype: object"
      ]
     },
     "execution_count": 18,
     "metadata": {},
     "output_type": "execute_result"
    }
   ],
   "source": [
    "df_tour_firm.dtypes"
   ]
  },
  {
   "cell_type": "markdown",
   "id": "87b8d974",
   "metadata": {
    "id": "87b8d974"
   },
   "source": [
    "В таблице `tour_firm.csv` с числом турпакетов, реализованных в 2018–2023 годы, множество ошибок в данных. Следует провести дополнительные проверки и изучить природу несоответствий. Правильно закодировано только\n",
    "`Общее число турпакетов, реализованных гражданам других стран по территории России`, которое отображает столбец `foreign_in_russia_2018`."
   ]
  },
  {
   "cell_type": "code",
   "execution_count": 19,
   "id": "3891ae44",
   "metadata": {
    "colab": {
     "base_uri": "https://localhost:8080/",
     "height": 210
    },
    "id": "3891ae44",
    "outputId": "dbc74e6c-6f1f-44c6-cb77-b9e0a5c97c7f"
   },
   "outputs": [
    {
     "data": {
      "text/plain": [
       "region                                          object\n",
       "total_tour_cost_million_2023                    object\n",
       "domestic_tour_package_cost_million_2023         object\n",
       "international_tour_package_cost_million_2023    object\n",
       "dtype: object"
      ]
     },
     "execution_count": 19,
     "metadata": {},
     "output_type": "execute_result"
    }
   ],
   "source": [
    "df_tour_cost_2023.dtypes"
   ]
  },
  {
   "cell_type": "markdown",
   "id": "d5eb6b3a",
   "metadata": {
    "id": "d5eb6b3a"
   },
   "source": [
    "##### Изучаем пропуски"
   ]
  },
  {
   "cell_type": "markdown",
   "id": "f8dbc4c1",
   "metadata": {
    "id": "f8dbc4c1"
   },
   "source": [
    "Данные часто содержат пропуски (`NaN`), что может мешать анализу. Проверим количество пропущенных значений в каждом датафрейме с помощью `isnull().sum()`. Если столбцов много, их можно отсортировать по числу убывания пропусков и отфильтровать ненулевые значения."
   ]
  },
  {
   "cell_type": "code",
   "execution_count": 20,
   "id": "206194c1",
   "metadata": {
    "colab": {
     "base_uri": "https://localhost:8080/",
     "height": 1000
    },
    "id": "206194c1",
    "outputId": "bcb7c12b-b180-466c-b121-1c3cfebdbff8"
   },
   "outputs": [
    {
     "data": {
      "text/plain": [
       "region               0\n",
       "hotels_2018          0\n",
       "hotels_2019          0\n",
       "hotels_2020          0\n",
       "hotels_2021          0\n",
       "hotels_2022          0\n",
       "hotels_2023          0\n",
       "beds_hotels_2018     0\n",
       "beds_hotels_2019     0\n",
       "beds_hotels_2020     0\n",
       "beds_hotels_2021     0\n",
       "beds_hotels_2022     0\n",
       "beds_hotels_2023     0\n",
       "hostels_2018         0\n",
       "hostels_2019         0\n",
       "hostels_2020         0\n",
       "hostels_2021         0\n",
       "hostels_2022         0\n",
       "hostels_2023         0\n",
       "beds_hostels_2018    0\n",
       "beds_hostels_2019    0\n",
       "beds_hostels_2020    0\n",
       "beds_hostels_2021    0\n",
       "beds_hostels_2022    0\n",
       "beds_hostels_2023    0\n",
       "spa_orgs_2018        0\n",
       "spa_orgs_2019        0\n",
       "spa_orgs_2020        0\n",
       "spa_orgs_2021        0\n",
       "spa_orgs_2022        0\n",
       "spa_orgs_2023        0\n",
       "beds_spa_2018        0\n",
       "beds_spa_2019        0\n",
       "beds_spa_2020        0\n",
       "beds_spa_2021        0\n",
       "beds_spa_2022        0\n",
       "beds_spa_2023        0\n",
       "dtype: int64"
      ]
     },
     "execution_count": 20,
     "metadata": {},
     "output_type": "execute_result"
    }
   ],
   "source": [
    "df_hotel.isnull().sum()"
   ]
  },
  {
   "cell_type": "code",
   "execution_count": 21,
   "id": "b6f3cf11",
   "metadata": {
    "colab": {
     "base_uri": "https://localhost:8080/",
     "height": 210
    },
    "id": "b6f3cf11",
    "outputId": "ee77e6e9-fc86-4b9a-fcb9-02d08d0ae16c"
   },
   "outputs": [
    {
     "data": {
      "text/plain": [
       "region                 0\n",
       "total_guests_2023      0\n",
       "russian_guests_2023    0\n",
       "foreign_guests_2023    0\n",
       "dtype: int64"
      ]
     },
     "execution_count": 21,
     "metadata": {},
     "output_type": "execute_result"
    }
   ],
   "source": [
    "df_person_hotel.isnull().sum()"
   ]
  },
  {
   "cell_type": "code",
   "execution_count": 22,
   "id": "34dbad6d",
   "metadata": {
    "colab": {
     "base_uri": "https://localhost:8080/",
     "height": 868
    },
    "id": "34dbad6d",
    "outputId": "f85d67b3-ba8f-481b-a7e2-34ca889f2363"
   },
   "outputs": [
    {
     "data": {
      "text/plain": [
       "region                        0\n",
       "total_tour_packages_2018      0\n",
       "domestic_russia_2018          0\n",
       "international_russia_2018     1\n",
       "foreign_in_russia_2018       20\n",
       "total_tour_packages_2019      0\n",
       "domestic_russia_2019          0\n",
       "international_russia_2019     0\n",
       "foreign_in_russia_2019       19\n",
       "total_tour_packages_2020      0\n",
       "domestic_russia_2020          0\n",
       "international_russia_2020     0\n",
       "foreign_in_russia_2020       39\n",
       "total_tour_packages_2021      1\n",
       "domestic_russia_2021          1\n",
       "international_russia_2021     2\n",
       "foreign_in_russia_2021       37\n",
       "total_tour_packages_2022      0\n",
       "domestic_russia_2022          0\n",
       "international_russia_2022     1\n",
       "foreign_in_russia_2022       40\n",
       "total_tour_packages_2023      0\n",
       "domestic_russia_2023          0\n",
       "international_russia_2023     1\n",
       "foreign_in_russia_2023       39\n",
       "dtype: int64"
      ]
     },
     "execution_count": 22,
     "metadata": {},
     "output_type": "execute_result"
    }
   ],
   "source": [
    "df_tour_firm.isnull().sum()"
   ]
  },
  {
   "cell_type": "markdown",
   "id": "ef688dc3",
   "metadata": {
    "id": "ef688dc3"
   },
   "source": [
    "Чтобы получить результаты по убыванию и сначала отобразить колонки с наибольшим количеством пропусков, воспользуемся методом `sort_values(ascending=False)`."
   ]
  },
  {
   "cell_type": "code",
   "execution_count": 23,
   "id": "4bfa7f02",
   "metadata": {
    "colab": {
     "base_uri": "https://localhost:8080/",
     "height": 868
    },
    "id": "4bfa7f02",
    "outputId": "e4783c5b-502e-464b-be4b-e17fc523a5a7"
   },
   "outputs": [
    {
     "data": {
      "text/plain": [
       "foreign_in_russia_2022       40\n",
       "foreign_in_russia_2020       39\n",
       "foreign_in_russia_2023       39\n",
       "foreign_in_russia_2021       37\n",
       "foreign_in_russia_2018       20\n",
       "foreign_in_russia_2019       19\n",
       "international_russia_2021     2\n",
       "international_russia_2018     1\n",
       "total_tour_packages_2021      1\n",
       "international_russia_2023     1\n",
       "international_russia_2022     1\n",
       "domestic_russia_2021          1\n",
       "total_tour_packages_2018      0\n",
       "international_russia_2020     0\n",
       "domestic_russia_2020          0\n",
       "total_tour_packages_2020      0\n",
       "international_russia_2019     0\n",
       "total_tour_packages_2022      0\n",
       "domestic_russia_2022          0\n",
       "domestic_russia_2019          0\n",
       "domestic_russia_2018          0\n",
       "total_tour_packages_2023      0\n",
       "domestic_russia_2023          0\n",
       "total_tour_packages_2019      0\n",
       "region                        0\n",
       "dtype: int64"
      ]
     },
     "execution_count": 23,
     "metadata": {},
     "output_type": "execute_result"
    }
   ],
   "source": [
    "df_tour_firm.isnull().sum().sort_values(ascending = False)"
   ]
  },
  {
   "cell_type": "code",
   "execution_count": 24,
   "id": "79894583",
   "metadata": {
    "colab": {
     "base_uri": "https://localhost:8080/",
     "height": 210
    },
    "id": "79894583",
    "outputId": "7c13a2dc-2f91-4ec7-9ebe-017c343c26dc"
   },
   "outputs": [
    {
     "data": {
      "text/plain": [
       "region                                          0\n",
       "total_tour_cost_million_2023                    0\n",
       "domestic_tour_package_cost_million_2023         0\n",
       "international_tour_package_cost_million_2023    0\n",
       "dtype: int64"
      ]
     },
     "execution_count": 24,
     "metadata": {},
     "output_type": "execute_result"
    }
   ],
   "source": [
    "df_tour_cost_2023.isnull().sum()"
   ]
  },
  {
   "cell_type": "markdown",
   "id": "04dc5cf2",
   "metadata": {
    "id": "04dc5cf2"
   },
   "source": [
    "В таблице `df_tour_firm` больше всего пропусков. Ниже изучим их природу."
   ]
  },
  {
   "cell_type": "markdown",
   "id": "29883107",
   "metadata": {
    "id": "29883107"
   },
   "source": [
    "Проверку пропусков можно выполнить более продвинутым способом, представив данные в виде датафрейма.\n",
    "* `DataType`: `df_hotel.dtypes` — определяет тип данных в каждой колонке (`int`, `float`, `object` и так далее).\n",
    "* `MissingValues`: `df_hotel.isnull().sum()` — считает пропущенные значения (`NaN`) в каждой колонке.\n",
    "* `UniqueValues`: `df_hotel.nunique()` — считает уникальные значения в каждой колонке.\n",
    "\n",
    "Кроме того, можно определить долю пропусков. Для этого разделим количество пропусков на общее число строк."
   ]
  },
  {
   "cell_type": "code",
   "execution_count": 25,
   "id": "86f31b1d",
   "metadata": {
    "id": "86f31b1d"
   },
   "outputs": [],
   "source": [
    "df_hotel_info = pd.DataFrame({\n",
    "    \"DataType\": df_hotel.dtypes,\n",
    "    \"MissingValues\": df_hotel.isnull().sum(),\n",
    "    \"UniqueValues\": df_hotel.nunique()\n",
    "}).sort_values(by=\"MissingValues\", ascending=False)\n",
    "\n",
    "df_hotel_info['MissingValuesRatio'] = round(df_hotel_info['MissingValues'] / len(df_hotel),2)"
   ]
  },
  {
   "cell_type": "code",
   "execution_count": 26,
   "id": "8441bbbf",
   "metadata": {
    "id": "8441bbbf"
   },
   "outputs": [],
   "source": [
    "df_person_hotel_info = pd.DataFrame({\n",
    "    \"DataType\": df_person_hotel.dtypes,\n",
    "    \"MissingValues\": df_person_hotel.isnull().sum(),\n",
    "    \"UniqueValues\": df_person_hotel.nunique()\n",
    "}).sort_values(by=\"MissingValues\", ascending=False)\n",
    "\n",
    "df_person_hotel_info['MissingValuesRatio'] = round(df_person_hotel_info['MissingValues'] / len(df_person_hotel),2)"
   ]
  },
  {
   "cell_type": "code",
   "execution_count": 27,
   "id": "a4e9e2b7",
   "metadata": {
    "id": "a4e9e2b7"
   },
   "outputs": [],
   "source": [
    "df_tour_firm_info = pd.DataFrame({\n",
    "    \"DataType\": df_tour_firm.dtypes,\n",
    "    \"MissingValues\": df_tour_firm.isnull().sum(),\n",
    "    \"UniqueValues\": df_tour_firm.nunique()\n",
    "}).sort_values(by=\"MissingValues\", ascending=False)\n",
    "\n",
    "df_tour_firm_info['MissingValuesRatio'] = round(df_tour_firm_info['MissingValues'] / len(df_tour_firm),2)"
   ]
  },
  {
   "cell_type": "code",
   "execution_count": 28,
   "id": "b9f13fdc",
   "metadata": {
    "id": "b9f13fdc"
   },
   "outputs": [],
   "source": [
    "df_tour_cost_2023_info = pd.DataFrame({\n",
    "    \"DataType\": df_tour_cost_2023.dtypes,\n",
    "    \"MissingValues\": df_tour_cost_2023.isnull().sum(),\n",
    "    \"UniqueValues\": df_tour_cost_2023.nunique()\n",
    "}).sort_values(by=\"MissingValues\", ascending=False)\n",
    "\n",
    "df_tour_cost_2023_info['MissingValuesRatio'] = round(df_tour_cost_2023_info['MissingValues'] / len(df_tour_cost_2023),2)"
   ]
  },
  {
   "cell_type": "code",
   "execution_count": 29,
   "id": "6ba95cea-6cd4-4c88-a50f-d0ad7df1e5ab",
   "metadata": {},
   "outputs": [
    {
     "data": {
      "text/html": [
       "<div>\n",
       "<style scoped>\n",
       "    .dataframe tbody tr th:only-of-type {\n",
       "        vertical-align: middle;\n",
       "    }\n",
       "\n",
       "    .dataframe tbody tr th {\n",
       "        vertical-align: top;\n",
       "    }\n",
       "\n",
       "    .dataframe thead th {\n",
       "        text-align: right;\n",
       "    }\n",
       "</style>\n",
       "<table border=\"1\" class=\"dataframe\">\n",
       "  <thead>\n",
       "    <tr style=\"text-align: right;\">\n",
       "      <th></th>\n",
       "      <th>DataType</th>\n",
       "      <th>MissingValues</th>\n",
       "      <th>UniqueValues</th>\n",
       "      <th>MissingValuesRatio</th>\n",
       "    </tr>\n",
       "  </thead>\n",
       "  <tbody>\n",
       "    <tr>\n",
       "      <th>region</th>\n",
       "      <td>object</td>\n",
       "      <td>0</td>\n",
       "      <td>81</td>\n",
       "      <td>0.0</td>\n",
       "    </tr>\n",
       "    <tr>\n",
       "      <th>beds_hostels_2018</th>\n",
       "      <td>object</td>\n",
       "      <td>0</td>\n",
       "      <td>64</td>\n",
       "      <td>0.0</td>\n",
       "    </tr>\n",
       "    <tr>\n",
       "      <th>beds_hostels_2020</th>\n",
       "      <td>object</td>\n",
       "      <td>0</td>\n",
       "      <td>62</td>\n",
       "      <td>0.0</td>\n",
       "    </tr>\n",
       "    <tr>\n",
       "      <th>beds_hostels_2021</th>\n",
       "      <td>object</td>\n",
       "      <td>0</td>\n",
       "      <td>67</td>\n",
       "      <td>0.0</td>\n",
       "    </tr>\n",
       "    <tr>\n",
       "      <th>beds_hostels_2022</th>\n",
       "      <td>object</td>\n",
       "      <td>0</td>\n",
       "      <td>71</td>\n",
       "      <td>0.0</td>\n",
       "    </tr>\n",
       "    <tr>\n",
       "      <th>beds_hostels_2023</th>\n",
       "      <td>object</td>\n",
       "      <td>0</td>\n",
       "      <td>70</td>\n",
       "      <td>0.0</td>\n",
       "    </tr>\n",
       "    <tr>\n",
       "      <th>spa_orgs_2018</th>\n",
       "      <td>int64</td>\n",
       "      <td>0</td>\n",
       "      <td>38</td>\n",
       "      <td>0.0</td>\n",
       "    </tr>\n",
       "    <tr>\n",
       "      <th>spa_orgs_2019</th>\n",
       "      <td>int64</td>\n",
       "      <td>0</td>\n",
       "      <td>39</td>\n",
       "      <td>0.0</td>\n",
       "    </tr>\n",
       "    <tr>\n",
       "      <th>spa_orgs_2020</th>\n",
       "      <td>int64</td>\n",
       "      <td>0</td>\n",
       "      <td>35</td>\n",
       "      <td>0.0</td>\n",
       "    </tr>\n",
       "    <tr>\n",
       "      <th>spa_orgs_2021</th>\n",
       "      <td>int64</td>\n",
       "      <td>0</td>\n",
       "      <td>39</td>\n",
       "      <td>0.0</td>\n",
       "    </tr>\n",
       "    <tr>\n",
       "      <th>spa_orgs_2022</th>\n",
       "      <td>int64</td>\n",
       "      <td>0</td>\n",
       "      <td>35</td>\n",
       "      <td>0.0</td>\n",
       "    </tr>\n",
       "    <tr>\n",
       "      <th>spa_orgs_2023</th>\n",
       "      <td>int64</td>\n",
       "      <td>0</td>\n",
       "      <td>38</td>\n",
       "      <td>0.0</td>\n",
       "    </tr>\n",
       "    <tr>\n",
       "      <th>beds_spa_2018</th>\n",
       "      <td>object</td>\n",
       "      <td>0</td>\n",
       "      <td>71</td>\n",
       "      <td>0.0</td>\n",
       "    </tr>\n",
       "    <tr>\n",
       "      <th>beds_spa_2019</th>\n",
       "      <td>object</td>\n",
       "      <td>0</td>\n",
       "      <td>71</td>\n",
       "      <td>0.0</td>\n",
       "    </tr>\n",
       "    <tr>\n",
       "      <th>beds_spa_2020</th>\n",
       "      <td>object</td>\n",
       "      <td>0</td>\n",
       "      <td>71</td>\n",
       "      <td>0.0</td>\n",
       "    </tr>\n",
       "    <tr>\n",
       "      <th>beds_spa_2021</th>\n",
       "      <td>object</td>\n",
       "      <td>0</td>\n",
       "      <td>69</td>\n",
       "      <td>0.0</td>\n",
       "    </tr>\n",
       "    <tr>\n",
       "      <th>beds_spa_2022</th>\n",
       "      <td>object</td>\n",
       "      <td>0</td>\n",
       "      <td>70</td>\n",
       "      <td>0.0</td>\n",
       "    </tr>\n",
       "    <tr>\n",
       "      <th>beds_hostels_2019</th>\n",
       "      <td>object</td>\n",
       "      <td>0</td>\n",
       "      <td>66</td>\n",
       "      <td>0.0</td>\n",
       "    </tr>\n",
       "    <tr>\n",
       "      <th>hostels_2023</th>\n",
       "      <td>int64</td>\n",
       "      <td>0</td>\n",
       "      <td>40</td>\n",
       "      <td>0.0</td>\n",
       "    </tr>\n",
       "    <tr>\n",
       "      <th>hotels_2018</th>\n",
       "      <td>int64</td>\n",
       "      <td>0</td>\n",
       "      <td>67</td>\n",
       "      <td>0.0</td>\n",
       "    </tr>\n",
       "    <tr>\n",
       "      <th>hostels_2022</th>\n",
       "      <td>int64</td>\n",
       "      <td>0</td>\n",
       "      <td>38</td>\n",
       "      <td>0.0</td>\n",
       "    </tr>\n",
       "    <tr>\n",
       "      <th>hotels_2019</th>\n",
       "      <td>int64</td>\n",
       "      <td>0</td>\n",
       "      <td>67</td>\n",
       "      <td>0.0</td>\n",
       "    </tr>\n",
       "    <tr>\n",
       "      <th>hotels_2020</th>\n",
       "      <td>int64</td>\n",
       "      <td>0</td>\n",
       "      <td>68</td>\n",
       "      <td>0.0</td>\n",
       "    </tr>\n",
       "    <tr>\n",
       "      <th>hotels_2021</th>\n",
       "      <td>int64</td>\n",
       "      <td>0</td>\n",
       "      <td>71</td>\n",
       "      <td>0.0</td>\n",
       "    </tr>\n",
       "    <tr>\n",
       "      <th>hotels_2022</th>\n",
       "      <td>int64</td>\n",
       "      <td>0</td>\n",
       "      <td>67</td>\n",
       "      <td>0.0</td>\n",
       "    </tr>\n",
       "    <tr>\n",
       "      <th>hotels_2023</th>\n",
       "      <td>int64</td>\n",
       "      <td>0</td>\n",
       "      <td>67</td>\n",
       "      <td>0.0</td>\n",
       "    </tr>\n",
       "    <tr>\n",
       "      <th>beds_hotels_2018</th>\n",
       "      <td>int64</td>\n",
       "      <td>0</td>\n",
       "      <td>81</td>\n",
       "      <td>0.0</td>\n",
       "    </tr>\n",
       "    <tr>\n",
       "      <th>beds_hotels_2019</th>\n",
       "      <td>int64</td>\n",
       "      <td>0</td>\n",
       "      <td>81</td>\n",
       "      <td>0.0</td>\n",
       "    </tr>\n",
       "    <tr>\n",
       "      <th>beds_hotels_2020</th>\n",
       "      <td>int64</td>\n",
       "      <td>0</td>\n",
       "      <td>81</td>\n",
       "      <td>0.0</td>\n",
       "    </tr>\n",
       "    <tr>\n",
       "      <th>beds_hotels_2021</th>\n",
       "      <td>int64</td>\n",
       "      <td>0</td>\n",
       "      <td>80</td>\n",
       "      <td>0.0</td>\n",
       "    </tr>\n",
       "    <tr>\n",
       "      <th>beds_hotels_2022</th>\n",
       "      <td>int64</td>\n",
       "      <td>0</td>\n",
       "      <td>81</td>\n",
       "      <td>0.0</td>\n",
       "    </tr>\n",
       "    <tr>\n",
       "      <th>beds_hotels_2023</th>\n",
       "      <td>int64</td>\n",
       "      <td>0</td>\n",
       "      <td>80</td>\n",
       "      <td>0.0</td>\n",
       "    </tr>\n",
       "    <tr>\n",
       "      <th>hostels_2018</th>\n",
       "      <td>int64</td>\n",
       "      <td>0</td>\n",
       "      <td>30</td>\n",
       "      <td>0.0</td>\n",
       "    </tr>\n",
       "    <tr>\n",
       "      <th>hostels_2019</th>\n",
       "      <td>int64</td>\n",
       "      <td>0</td>\n",
       "      <td>34</td>\n",
       "      <td>0.0</td>\n",
       "    </tr>\n",
       "    <tr>\n",
       "      <th>hostels_2020</th>\n",
       "      <td>int64</td>\n",
       "      <td>0</td>\n",
       "      <td>35</td>\n",
       "      <td>0.0</td>\n",
       "    </tr>\n",
       "    <tr>\n",
       "      <th>hostels_2021</th>\n",
       "      <td>int64</td>\n",
       "      <td>0</td>\n",
       "      <td>39</td>\n",
       "      <td>0.0</td>\n",
       "    </tr>\n",
       "    <tr>\n",
       "      <th>beds_spa_2023</th>\n",
       "      <td>object</td>\n",
       "      <td>0</td>\n",
       "      <td>72</td>\n",
       "      <td>0.0</td>\n",
       "    </tr>\n",
       "  </tbody>\n",
       "</table>\n",
       "</div>"
      ],
      "text/plain": [
       "                  DataType  MissingValues  UniqueValues  MissingValuesRatio\n",
       "region              object              0            81                 0.0\n",
       "beds_hostels_2018   object              0            64                 0.0\n",
       "beds_hostels_2020   object              0            62                 0.0\n",
       "beds_hostels_2021   object              0            67                 0.0\n",
       "beds_hostels_2022   object              0            71                 0.0\n",
       "beds_hostels_2023   object              0            70                 0.0\n",
       "spa_orgs_2018        int64              0            38                 0.0\n",
       "spa_orgs_2019        int64              0            39                 0.0\n",
       "spa_orgs_2020        int64              0            35                 0.0\n",
       "spa_orgs_2021        int64              0            39                 0.0\n",
       "spa_orgs_2022        int64              0            35                 0.0\n",
       "spa_orgs_2023        int64              0            38                 0.0\n",
       "beds_spa_2018       object              0            71                 0.0\n",
       "beds_spa_2019       object              0            71                 0.0\n",
       "beds_spa_2020       object              0            71                 0.0\n",
       "beds_spa_2021       object              0            69                 0.0\n",
       "beds_spa_2022       object              0            70                 0.0\n",
       "beds_hostels_2019   object              0            66                 0.0\n",
       "hostels_2023         int64              0            40                 0.0\n",
       "hotels_2018          int64              0            67                 0.0\n",
       "hostels_2022         int64              0            38                 0.0\n",
       "hotels_2019          int64              0            67                 0.0\n",
       "hotels_2020          int64              0            68                 0.0\n",
       "hotels_2021          int64              0            71                 0.0\n",
       "hotels_2022          int64              0            67                 0.0\n",
       "hotels_2023          int64              0            67                 0.0\n",
       "beds_hotels_2018     int64              0            81                 0.0\n",
       "beds_hotels_2019     int64              0            81                 0.0\n",
       "beds_hotels_2020     int64              0            81                 0.0\n",
       "beds_hotels_2021     int64              0            80                 0.0\n",
       "beds_hotels_2022     int64              0            81                 0.0\n",
       "beds_hotels_2023     int64              0            80                 0.0\n",
       "hostels_2018         int64              0            30                 0.0\n",
       "hostels_2019         int64              0            34                 0.0\n",
       "hostels_2020         int64              0            35                 0.0\n",
       "hostels_2021         int64              0            39                 0.0\n",
       "beds_spa_2023       object              0            72                 0.0"
      ]
     },
     "execution_count": 29,
     "metadata": {},
     "output_type": "execute_result"
    }
   ],
   "source": [
    "df_hotel_info"
   ]
  },
  {
   "cell_type": "code",
   "execution_count": 30,
   "id": "4f6942dc-8151-4eb1-9f9f-e0e72491143a",
   "metadata": {},
   "outputs": [
    {
     "data": {
      "text/html": [
       "<style type=\"text/css\">\n",
       "#T_1de8f_row0_col1, #T_1de8f_row0_col3, #T_1de8f_row1_col1, #T_1de8f_row1_col3, #T_1de8f_row2_col1, #T_1de8f_row2_col3, #T_1de8f_row3_col1, #T_1de8f_row3_col2, #T_1de8f_row3_col3 {\n",
       "  background-color: #ffffcc;\n",
       "  color: #000000;\n",
       "}\n",
       "#T_1de8f_row0_col2, #T_1de8f_row1_col2, #T_1de8f_row2_col2 {\n",
       "  background-color: #800026;\n",
       "  color: #f1f1f1;\n",
       "}\n",
       "</style>\n",
       "<table id=\"T_1de8f\">\n",
       "  <thead>\n",
       "    <tr>\n",
       "      <th class=\"blank level0\" >&nbsp;</th>\n",
       "      <th id=\"T_1de8f_level0_col0\" class=\"col_heading level0 col0\" >DataType</th>\n",
       "      <th id=\"T_1de8f_level0_col1\" class=\"col_heading level0 col1\" >MissingValues</th>\n",
       "      <th id=\"T_1de8f_level0_col2\" class=\"col_heading level0 col2\" >UniqueValues</th>\n",
       "      <th id=\"T_1de8f_level0_col3\" class=\"col_heading level0 col3\" >MissingValuesRatio</th>\n",
       "    </tr>\n",
       "  </thead>\n",
       "  <tbody>\n",
       "    <tr>\n",
       "      <th id=\"T_1de8f_level0_row0\" class=\"row_heading level0 row0\" >region</th>\n",
       "      <td id=\"T_1de8f_row0_col0\" class=\"data row0 col0\" >object</td>\n",
       "      <td id=\"T_1de8f_row0_col1\" class=\"data row0 col1\" >0</td>\n",
       "      <td id=\"T_1de8f_row0_col2\" class=\"data row0 col2\" >82</td>\n",
       "      <td id=\"T_1de8f_row0_col3\" class=\"data row0 col3\" >0.000000</td>\n",
       "    </tr>\n",
       "    <tr>\n",
       "      <th id=\"T_1de8f_level0_row1\" class=\"row_heading level0 row1\" >total_guests_2023</th>\n",
       "      <td id=\"T_1de8f_row1_col0\" class=\"data row1 col0\" >int64</td>\n",
       "      <td id=\"T_1de8f_row1_col1\" class=\"data row1 col1\" >0</td>\n",
       "      <td id=\"T_1de8f_row1_col2\" class=\"data row1 col2\" >82</td>\n",
       "      <td id=\"T_1de8f_row1_col3\" class=\"data row1 col3\" >0.000000</td>\n",
       "    </tr>\n",
       "    <tr>\n",
       "      <th id=\"T_1de8f_level0_row2\" class=\"row_heading level0 row2\" >russian_guests_2023</th>\n",
       "      <td id=\"T_1de8f_row2_col0\" class=\"data row2 col0\" >int64</td>\n",
       "      <td id=\"T_1de8f_row2_col1\" class=\"data row2 col1\" >0</td>\n",
       "      <td id=\"T_1de8f_row2_col2\" class=\"data row2 col2\" >82</td>\n",
       "      <td id=\"T_1de8f_row2_col3\" class=\"data row2 col3\" >0.000000</td>\n",
       "    </tr>\n",
       "    <tr>\n",
       "      <th id=\"T_1de8f_level0_row3\" class=\"row_heading level0 row3\" >foreign_guests_2023</th>\n",
       "      <td id=\"T_1de8f_row3_col0\" class=\"data row3 col0\" >int64</td>\n",
       "      <td id=\"T_1de8f_row3_col1\" class=\"data row3 col1\" >0</td>\n",
       "      <td id=\"T_1de8f_row3_col2\" class=\"data row3 col2\" >81</td>\n",
       "      <td id=\"T_1de8f_row3_col3\" class=\"data row3 col3\" >0.000000</td>\n",
       "    </tr>\n",
       "  </tbody>\n",
       "</table>\n"
      ],
      "text/plain": [
       "<pandas.io.formats.style.Styler at 0x2812905c800>"
      ]
     },
     "execution_count": 30,
     "metadata": {},
     "output_type": "execute_result"
    }
   ],
   "source": [
    "df_person_hotel_info.style.background_gradient(cmap='YlOrRd')"
   ]
  },
  {
   "cell_type": "code",
   "execution_count": 31,
   "id": "b7591392-4229-483b-8065-c48f311bf556",
   "metadata": {},
   "outputs": [
    {
     "data": {
      "text/html": [
       "<style type=\"text/css\">\n",
       "#T_de25d_row0_col1, #T_de25d_row0_col3, #T_de25d_row24_col2 {\n",
       "  background-color: #800026;\n",
       "  color: #f1f1f1;\n",
       "}\n",
       "#T_de25d_row0_col2, #T_de25d_row12_col1, #T_de25d_row12_col3, #T_de25d_row13_col1, #T_de25d_row13_col3, #T_de25d_row14_col1, #T_de25d_row14_col3, #T_de25d_row15_col1, #T_de25d_row15_col3, #T_de25d_row16_col1, #T_de25d_row16_col3, #T_de25d_row17_col1, #T_de25d_row17_col3, #T_de25d_row18_col1, #T_de25d_row18_col3, #T_de25d_row19_col1, #T_de25d_row19_col3, #T_de25d_row20_col1, #T_de25d_row20_col3, #T_de25d_row21_col1, #T_de25d_row21_col3, #T_de25d_row22_col1, #T_de25d_row22_col3, #T_de25d_row23_col1, #T_de25d_row23_col3, #T_de25d_row24_col1, #T_de25d_row24_col3 {\n",
       "  background-color: #ffffcc;\n",
       "  color: #000000;\n",
       "}\n",
       "#T_de25d_row1_col1, #T_de25d_row2_col1 {\n",
       "  background-color: #8b0026;\n",
       "  color: #f1f1f1;\n",
       "}\n",
       "#T_de25d_row1_col2 {\n",
       "  background-color: #fff2ac;\n",
       "  color: #000000;\n",
       "}\n",
       "#T_de25d_row1_col3, #T_de25d_row2_col3 {\n",
       "  background-color: #8a0026;\n",
       "  color: #f1f1f1;\n",
       "}\n",
       "#T_de25d_row2_col2 {\n",
       "  background-color: #fffac0;\n",
       "  color: #000000;\n",
       "}\n",
       "#T_de25d_row3_col1 {\n",
       "  background-color: #a40026;\n",
       "  color: #f1f1f1;\n",
       "}\n",
       "#T_de25d_row3_col2 {\n",
       "  background-color: #fff5b3;\n",
       "  color: #000000;\n",
       "}\n",
       "#T_de25d_row3_col3 {\n",
       "  background-color: #a60026;\n",
       "  color: #f1f1f1;\n",
       "}\n",
       "#T_de25d_row4_col1 {\n",
       "  background-color: #fd8c3c;\n",
       "  color: #f1f1f1;\n",
       "}\n",
       "#T_de25d_row4_col2, #T_de25d_row4_col3 {\n",
       "  background-color: #fd903d;\n",
       "  color: #000000;\n",
       "}\n",
       "#T_de25d_row5_col1 {\n",
       "  background-color: #fd953f;\n",
       "  color: #000000;\n",
       "}\n",
       "#T_de25d_row5_col2 {\n",
       "  background-color: #feab49;\n",
       "  color: #000000;\n",
       "}\n",
       "#T_de25d_row5_col3 {\n",
       "  background-color: #fd9640;\n",
       "  color: #000000;\n",
       "}\n",
       "#T_de25d_row6_col1 {\n",
       "  background-color: #fff8bb;\n",
       "  color: #000000;\n",
       "}\n",
       "#T_de25d_row6_col2, #T_de25d_row7_col2, #T_de25d_row8_col2, #T_de25d_row9_col2, #T_de25d_row10_col2 {\n",
       "  background-color: #910026;\n",
       "  color: #f1f1f1;\n",
       "}\n",
       "#T_de25d_row6_col3 {\n",
       "  background-color: #fff9be;\n",
       "  color: #000000;\n",
       "}\n",
       "#T_de25d_row7_col1, #T_de25d_row8_col1, #T_de25d_row9_col1, #T_de25d_row10_col1, #T_de25d_row11_col1 {\n",
       "  background-color: #fffcc4;\n",
       "  color: #000000;\n",
       "}\n",
       "#T_de25d_row7_col3, #T_de25d_row8_col3, #T_de25d_row9_col3, #T_de25d_row10_col3, #T_de25d_row11_col3 {\n",
       "  background-color: #fffcc5;\n",
       "  color: #000000;\n",
       "}\n",
       "#T_de25d_row11_col2, #T_de25d_row12_col2, #T_de25d_row15_col2, #T_de25d_row16_col2, #T_de25d_row17_col2, #T_de25d_row18_col2, #T_de25d_row19_col2, #T_de25d_row20_col2, #T_de25d_row23_col2 {\n",
       "  background-color: #990026;\n",
       "  color: #f1f1f1;\n",
       "}\n",
       "#T_de25d_row13_col2, #T_de25d_row14_col2 {\n",
       "  background-color: #a20026;\n",
       "  color: #f1f1f1;\n",
       "}\n",
       "#T_de25d_row21_col2, #T_de25d_row22_col2 {\n",
       "  background-color: #880026;\n",
       "  color: #f1f1f1;\n",
       "}\n",
       "</style>\n",
       "<table id=\"T_de25d\">\n",
       "  <thead>\n",
       "    <tr>\n",
       "      <th class=\"blank level0\" >&nbsp;</th>\n",
       "      <th id=\"T_de25d_level0_col0\" class=\"col_heading level0 col0\" >DataType</th>\n",
       "      <th id=\"T_de25d_level0_col1\" class=\"col_heading level0 col1\" >MissingValues</th>\n",
       "      <th id=\"T_de25d_level0_col2\" class=\"col_heading level0 col2\" >UniqueValues</th>\n",
       "      <th id=\"T_de25d_level0_col3\" class=\"col_heading level0 col3\" >MissingValuesRatio</th>\n",
       "    </tr>\n",
       "  </thead>\n",
       "  <tbody>\n",
       "    <tr>\n",
       "      <th id=\"T_de25d_level0_row0\" class=\"row_heading level0 row0\" >foreign_in_russia_2022</th>\n",
       "      <td id=\"T_de25d_row0_col0\" class=\"data row0 col0\" >float64</td>\n",
       "      <td id=\"T_de25d_row0_col1\" class=\"data row0 col1\" >40</td>\n",
       "      <td id=\"T_de25d_row0_col2\" class=\"data row0 col2\" >27</td>\n",
       "      <td id=\"T_de25d_row0_col3\" class=\"data row0 col3\" >0.490000</td>\n",
       "    </tr>\n",
       "    <tr>\n",
       "      <th id=\"T_de25d_level0_row1\" class=\"row_heading level0 row1\" >foreign_in_russia_2020</th>\n",
       "      <td id=\"T_de25d_row1_col0\" class=\"data row1 col0\" >float64</td>\n",
       "      <td id=\"T_de25d_row1_col1\" class=\"data row1 col1\" >39</td>\n",
       "      <td id=\"T_de25d_row1_col2\" class=\"data row1 col2\" >32</td>\n",
       "      <td id=\"T_de25d_row1_col3\" class=\"data row1 col3\" >0.480000</td>\n",
       "    </tr>\n",
       "    <tr>\n",
       "      <th id=\"T_de25d_level0_row2\" class=\"row_heading level0 row2\" >foreign_in_russia_2023</th>\n",
       "      <td id=\"T_de25d_row2_col0\" class=\"data row2 col0\" >float64</td>\n",
       "      <td id=\"T_de25d_row2_col1\" class=\"data row2 col1\" >39</td>\n",
       "      <td id=\"T_de25d_row2_col2\" class=\"data row2 col2\" >29</td>\n",
       "      <td id=\"T_de25d_row2_col3\" class=\"data row2 col3\" >0.480000</td>\n",
       "    </tr>\n",
       "    <tr>\n",
       "      <th id=\"T_de25d_level0_row3\" class=\"row_heading level0 row3\" >foreign_in_russia_2021</th>\n",
       "      <td id=\"T_de25d_row3_col0\" class=\"data row3 col0\" >object</td>\n",
       "      <td id=\"T_de25d_row3_col1\" class=\"data row3 col1\" >37</td>\n",
       "      <td id=\"T_de25d_row3_col2\" class=\"data row3 col2\" >31</td>\n",
       "      <td id=\"T_de25d_row3_col3\" class=\"data row3 col3\" >0.450000</td>\n",
       "    </tr>\n",
       "    <tr>\n",
       "      <th id=\"T_de25d_level0_row4\" class=\"row_heading level0 row4\" >foreign_in_russia_2018</th>\n",
       "      <td id=\"T_de25d_row4_col0\" class=\"data row4 col0\" >float64</td>\n",
       "      <td id=\"T_de25d_row4_col1\" class=\"data row4 col1\" >20</td>\n",
       "      <td id=\"T_de25d_row4_col2\" class=\"data row4 col2\" >54</td>\n",
       "      <td id=\"T_de25d_row4_col3\" class=\"data row4 col3\" >0.240000</td>\n",
       "    </tr>\n",
       "    <tr>\n",
       "      <th id=\"T_de25d_level0_row5\" class=\"row_heading level0 row5\" >foreign_in_russia_2019</th>\n",
       "      <td id=\"T_de25d_row5_col0\" class=\"data row5 col0\" >object</td>\n",
       "      <td id=\"T_de25d_row5_col1\" class=\"data row5 col1\" >19</td>\n",
       "      <td id=\"T_de25d_row5_col2\" class=\"data row5 col2\" >49</td>\n",
       "      <td id=\"T_de25d_row5_col3\" class=\"data row5 col3\" >0.230000</td>\n",
       "    </tr>\n",
       "    <tr>\n",
       "      <th id=\"T_de25d_level0_row6\" class=\"row_heading level0 row6\" >international_russia_2021</th>\n",
       "      <td id=\"T_de25d_row6_col0\" class=\"data row6 col0\" >float64</td>\n",
       "      <td id=\"T_de25d_row6_col1\" class=\"data row6 col1\" >2</td>\n",
       "      <td id=\"T_de25d_row6_col2\" class=\"data row6 col2\" >80</td>\n",
       "      <td id=\"T_de25d_row6_col3\" class=\"data row6 col3\" >0.020000</td>\n",
       "    </tr>\n",
       "    <tr>\n",
       "      <th id=\"T_de25d_level0_row7\" class=\"row_heading level0 row7\" >international_russia_2018</th>\n",
       "      <td id=\"T_de25d_row7_col0\" class=\"data row7 col0\" >object</td>\n",
       "      <td id=\"T_de25d_row7_col1\" class=\"data row7 col1\" >1</td>\n",
       "      <td id=\"T_de25d_row7_col2\" class=\"data row7 col2\" >80</td>\n",
       "      <td id=\"T_de25d_row7_col3\" class=\"data row7 col3\" >0.010000</td>\n",
       "    </tr>\n",
       "    <tr>\n",
       "      <th id=\"T_de25d_level0_row8\" class=\"row_heading level0 row8\" >total_tour_packages_2021</th>\n",
       "      <td id=\"T_de25d_row8_col0\" class=\"data row8 col0\" >object</td>\n",
       "      <td id=\"T_de25d_row8_col1\" class=\"data row8 col1\" >1</td>\n",
       "      <td id=\"T_de25d_row8_col2\" class=\"data row8 col2\" >80</td>\n",
       "      <td id=\"T_de25d_row8_col3\" class=\"data row8 col3\" >0.010000</td>\n",
       "    </tr>\n",
       "    <tr>\n",
       "      <th id=\"T_de25d_level0_row9\" class=\"row_heading level0 row9\" >international_russia_2023</th>\n",
       "      <td id=\"T_de25d_row9_col0\" class=\"data row9 col0\" >float64</td>\n",
       "      <td id=\"T_de25d_row9_col1\" class=\"data row9 col1\" >1</td>\n",
       "      <td id=\"T_de25d_row9_col2\" class=\"data row9 col2\" >80</td>\n",
       "      <td id=\"T_de25d_row9_col3\" class=\"data row9 col3\" >0.010000</td>\n",
       "    </tr>\n",
       "    <tr>\n",
       "      <th id=\"T_de25d_level0_row10\" class=\"row_heading level0 row10\" >international_russia_2022</th>\n",
       "      <td id=\"T_de25d_row10_col0\" class=\"data row10 col0\" >object</td>\n",
       "      <td id=\"T_de25d_row10_col1\" class=\"data row10 col1\" >1</td>\n",
       "      <td id=\"T_de25d_row10_col2\" class=\"data row10 col2\" >80</td>\n",
       "      <td id=\"T_de25d_row10_col3\" class=\"data row10 col3\" >0.010000</td>\n",
       "    </tr>\n",
       "    <tr>\n",
       "      <th id=\"T_de25d_level0_row11\" class=\"row_heading level0 row11\" >domestic_russia_2021</th>\n",
       "      <td id=\"T_de25d_row11_col0\" class=\"data row11 col0\" >object</td>\n",
       "      <td id=\"T_de25d_row11_col1\" class=\"data row11 col1\" >1</td>\n",
       "      <td id=\"T_de25d_row11_col2\" class=\"data row11 col2\" >79</td>\n",
       "      <td id=\"T_de25d_row11_col3\" class=\"data row11 col3\" >0.010000</td>\n",
       "    </tr>\n",
       "    <tr>\n",
       "      <th id=\"T_de25d_level0_row12\" class=\"row_heading level0 row12\" >total_tour_packages_2018</th>\n",
       "      <td id=\"T_de25d_row12_col0\" class=\"data row12 col0\" >object</td>\n",
       "      <td id=\"T_de25d_row12_col1\" class=\"data row12 col1\" >0</td>\n",
       "      <td id=\"T_de25d_row12_col2\" class=\"data row12 col2\" >79</td>\n",
       "      <td id=\"T_de25d_row12_col3\" class=\"data row12 col3\" >0.000000</td>\n",
       "    </tr>\n",
       "    <tr>\n",
       "      <th id=\"T_de25d_level0_row13\" class=\"row_heading level0 row13\" >international_russia_2020</th>\n",
       "      <td id=\"T_de25d_row13_col0\" class=\"data row13 col0\" >object</td>\n",
       "      <td id=\"T_de25d_row13_col1\" class=\"data row13 col1\" >0</td>\n",
       "      <td id=\"T_de25d_row13_col2\" class=\"data row13 col2\" >78</td>\n",
       "      <td id=\"T_de25d_row13_col3\" class=\"data row13 col3\" >0.000000</td>\n",
       "    </tr>\n",
       "    <tr>\n",
       "      <th id=\"T_de25d_level0_row14\" class=\"row_heading level0 row14\" >domestic_russia_2020</th>\n",
       "      <td id=\"T_de25d_row14_col0\" class=\"data row14 col0\" >object</td>\n",
       "      <td id=\"T_de25d_row14_col1\" class=\"data row14 col1\" >0</td>\n",
       "      <td id=\"T_de25d_row14_col2\" class=\"data row14 col2\" >78</td>\n",
       "      <td id=\"T_de25d_row14_col3\" class=\"data row14 col3\" >0.000000</td>\n",
       "    </tr>\n",
       "    <tr>\n",
       "      <th id=\"T_de25d_level0_row15\" class=\"row_heading level0 row15\" >total_tour_packages_2020</th>\n",
       "      <td id=\"T_de25d_row15_col0\" class=\"data row15 col0\" >object</td>\n",
       "      <td id=\"T_de25d_row15_col1\" class=\"data row15 col1\" >0</td>\n",
       "      <td id=\"T_de25d_row15_col2\" class=\"data row15 col2\" >79</td>\n",
       "      <td id=\"T_de25d_row15_col3\" class=\"data row15 col3\" >0.000000</td>\n",
       "    </tr>\n",
       "    <tr>\n",
       "      <th id=\"T_de25d_level0_row16\" class=\"row_heading level0 row16\" >international_russia_2019</th>\n",
       "      <td id=\"T_de25d_row16_col0\" class=\"data row16 col0\" >object</td>\n",
       "      <td id=\"T_de25d_row16_col1\" class=\"data row16 col1\" >0</td>\n",
       "      <td id=\"T_de25d_row16_col2\" class=\"data row16 col2\" >79</td>\n",
       "      <td id=\"T_de25d_row16_col3\" class=\"data row16 col3\" >0.000000</td>\n",
       "    </tr>\n",
       "    <tr>\n",
       "      <th id=\"T_de25d_level0_row17\" class=\"row_heading level0 row17\" >total_tour_packages_2022</th>\n",
       "      <td id=\"T_de25d_row17_col0\" class=\"data row17 col0\" >object</td>\n",
       "      <td id=\"T_de25d_row17_col1\" class=\"data row17 col1\" >0</td>\n",
       "      <td id=\"T_de25d_row17_col2\" class=\"data row17 col2\" >79</td>\n",
       "      <td id=\"T_de25d_row17_col3\" class=\"data row17 col3\" >0.000000</td>\n",
       "    </tr>\n",
       "    <tr>\n",
       "      <th id=\"T_de25d_level0_row18\" class=\"row_heading level0 row18\" >domestic_russia_2022</th>\n",
       "      <td id=\"T_de25d_row18_col0\" class=\"data row18 col0\" >object</td>\n",
       "      <td id=\"T_de25d_row18_col1\" class=\"data row18 col1\" >0</td>\n",
       "      <td id=\"T_de25d_row18_col2\" class=\"data row18 col2\" >79</td>\n",
       "      <td id=\"T_de25d_row18_col3\" class=\"data row18 col3\" >0.000000</td>\n",
       "    </tr>\n",
       "    <tr>\n",
       "      <th id=\"T_de25d_level0_row19\" class=\"row_heading level0 row19\" >domestic_russia_2019</th>\n",
       "      <td id=\"T_de25d_row19_col0\" class=\"data row19 col0\" >object</td>\n",
       "      <td id=\"T_de25d_row19_col1\" class=\"data row19 col1\" >0</td>\n",
       "      <td id=\"T_de25d_row19_col2\" class=\"data row19 col2\" >79</td>\n",
       "      <td id=\"T_de25d_row19_col3\" class=\"data row19 col3\" >0.000000</td>\n",
       "    </tr>\n",
       "    <tr>\n",
       "      <th id=\"T_de25d_level0_row20\" class=\"row_heading level0 row20\" >domestic_russia_2018</th>\n",
       "      <td id=\"T_de25d_row20_col0\" class=\"data row20 col0\" >object</td>\n",
       "      <td id=\"T_de25d_row20_col1\" class=\"data row20 col1\" >0</td>\n",
       "      <td id=\"T_de25d_row20_col2\" class=\"data row20 col2\" >79</td>\n",
       "      <td id=\"T_de25d_row20_col3\" class=\"data row20 col3\" >0.000000</td>\n",
       "    </tr>\n",
       "    <tr>\n",
       "      <th id=\"T_de25d_level0_row21\" class=\"row_heading level0 row21\" >total_tour_packages_2023</th>\n",
       "      <td id=\"T_de25d_row21_col0\" class=\"data row21 col0\" >object</td>\n",
       "      <td id=\"T_de25d_row21_col1\" class=\"data row21 col1\" >0</td>\n",
       "      <td id=\"T_de25d_row21_col2\" class=\"data row21 col2\" >81</td>\n",
       "      <td id=\"T_de25d_row21_col3\" class=\"data row21 col3\" >0.000000</td>\n",
       "    </tr>\n",
       "    <tr>\n",
       "      <th id=\"T_de25d_level0_row22\" class=\"row_heading level0 row22\" >domestic_russia_2023</th>\n",
       "      <td id=\"T_de25d_row22_col0\" class=\"data row22 col0\" >object</td>\n",
       "      <td id=\"T_de25d_row22_col1\" class=\"data row22 col1\" >0</td>\n",
       "      <td id=\"T_de25d_row22_col2\" class=\"data row22 col2\" >81</td>\n",
       "      <td id=\"T_de25d_row22_col3\" class=\"data row22 col3\" >0.000000</td>\n",
       "    </tr>\n",
       "    <tr>\n",
       "      <th id=\"T_de25d_level0_row23\" class=\"row_heading level0 row23\" >total_tour_packages_2019</th>\n",
       "      <td id=\"T_de25d_row23_col0\" class=\"data row23 col0\" >object</td>\n",
       "      <td id=\"T_de25d_row23_col1\" class=\"data row23 col1\" >0</td>\n",
       "      <td id=\"T_de25d_row23_col2\" class=\"data row23 col2\" >79</td>\n",
       "      <td id=\"T_de25d_row23_col3\" class=\"data row23 col3\" >0.000000</td>\n",
       "    </tr>\n",
       "    <tr>\n",
       "      <th id=\"T_de25d_level0_row24\" class=\"row_heading level0 row24\" >region</th>\n",
       "      <td id=\"T_de25d_row24_col0\" class=\"data row24 col0\" >object</td>\n",
       "      <td id=\"T_de25d_row24_col1\" class=\"data row24 col1\" >0</td>\n",
       "      <td id=\"T_de25d_row24_col2\" class=\"data row24 col2\" >82</td>\n",
       "      <td id=\"T_de25d_row24_col3\" class=\"data row24 col3\" >0.000000</td>\n",
       "    </tr>\n",
       "  </tbody>\n",
       "</table>\n"
      ],
      "text/plain": [
       "<pandas.io.formats.style.Styler at 0x2812b4b5310>"
      ]
     },
     "execution_count": 31,
     "metadata": {},
     "output_type": "execute_result"
    }
   ],
   "source": [
    "df_tour_firm_info.style.background_gradient(cmap='YlOrRd')"
   ]
  },
  {
   "cell_type": "code",
   "execution_count": 32,
   "id": "2ef4b83b-4a84-493c-97a2-a046053acb7c",
   "metadata": {},
   "outputs": [
    {
     "data": {
      "text/html": [
       "<div>\n",
       "<style scoped>\n",
       "    .dataframe tbody tr th:only-of-type {\n",
       "        vertical-align: middle;\n",
       "    }\n",
       "\n",
       "    .dataframe tbody tr th {\n",
       "        vertical-align: top;\n",
       "    }\n",
       "\n",
       "    .dataframe thead th {\n",
       "        text-align: right;\n",
       "    }\n",
       "</style>\n",
       "<table border=\"1\" class=\"dataframe\">\n",
       "  <thead>\n",
       "    <tr style=\"text-align: right;\">\n",
       "      <th></th>\n",
       "      <th>DataType</th>\n",
       "      <th>MissingValues</th>\n",
       "      <th>UniqueValues</th>\n",
       "      <th>MissingValuesRatio</th>\n",
       "    </tr>\n",
       "  </thead>\n",
       "  <tbody>\n",
       "    <tr>\n",
       "      <th>region</th>\n",
       "      <td>object</td>\n",
       "      <td>0</td>\n",
       "      <td>87</td>\n",
       "      <td>0.0</td>\n",
       "    </tr>\n",
       "    <tr>\n",
       "      <th>total_tour_cost_million_2023</th>\n",
       "      <td>object</td>\n",
       "      <td>0</td>\n",
       "      <td>86</td>\n",
       "      <td>0.0</td>\n",
       "    </tr>\n",
       "    <tr>\n",
       "      <th>domestic_tour_package_cost_million_2023</th>\n",
       "      <td>object</td>\n",
       "      <td>0</td>\n",
       "      <td>86</td>\n",
       "      <td>0.0</td>\n",
       "    </tr>\n",
       "    <tr>\n",
       "      <th>international_tour_package_cost_million_2023</th>\n",
       "      <td>object</td>\n",
       "      <td>0</td>\n",
       "      <td>86</td>\n",
       "      <td>0.0</td>\n",
       "    </tr>\n",
       "  </tbody>\n",
       "</table>\n",
       "</div>"
      ],
      "text/plain": [
       "                                             DataType  MissingValues  \\\n",
       "region                                         object              0   \n",
       "total_tour_cost_million_2023                   object              0   \n",
       "domestic_tour_package_cost_million_2023        object              0   \n",
       "international_tour_package_cost_million_2023   object              0   \n",
       "\n",
       "                                              UniqueValues  MissingValuesRatio  \n",
       "region                                                  87                 0.0  \n",
       "total_tour_cost_million_2023                            86                 0.0  \n",
       "domestic_tour_package_cost_million_2023                 86                 0.0  \n",
       "international_tour_package_cost_million_2023            86                 0.0  "
      ]
     },
     "execution_count": 32,
     "metadata": {},
     "output_type": "execute_result"
    }
   ],
   "source": [
    "df_tour_cost_2023_info"
   ]
  },
  {
   "cell_type": "markdown",
   "id": "43a58ed8",
   "metadata": {
    "id": "43a58ed8"
   },
   "source": [
    "Изучим, почему в таблице `df_hotel` значения в колонках `beds_hostels` и `beds_spa` имеют строковый тип данных."
   ]
  },
  {
   "cell_type": "code",
   "execution_count": 33,
   "id": "3bbdada6",
   "metadata": {
    "colab": {
     "base_uri": "https://localhost:8080/"
    },
    "id": "3bbdada6",
    "outputId": "0ffcd98a-65b8-45a8-8a01-5bd578ad8252"
   },
   "outputs": [
    {
     "data": {
      "text/plain": [
       "array(['192', '0', '954', '1257', '184', '432', '356', '…1', '350',\n",
       "       '5822', '352', '226', '491', '341', '428', '94749', '284', '163',\n",
       "       '195', '1398', '1059', '675', '814', '439', '221', '8833', '1144',\n",
       "       '6291', '136', '1494', '1183', '151', '375', '648', '667', '741',\n",
       "       '3815', '329', '206', '854', '173', '2731', '589', '1178', '1661',\n",
       "       '150', '199', '2671', '1399', '483', '571', '1081', '597', '787',\n",
       "       '806', '307', '466', '83', '134', '261', '662', '924', '106',\n",
       "       '256'], dtype=object)"
      ]
     },
     "execution_count": 33,
     "metadata": {},
     "output_type": "execute_result"
    }
   ],
   "source": [
    "df_hotel['beds_hostels_2018'].unique()"
   ]
  },
  {
   "cell_type": "markdown",
   "id": "026924bc",
   "metadata": {
    "id": "026924bc"
   },
   "source": [
    "Изучим природу строкового типа данных в датафрейме `df_tour_firm`."
   ]
  },
  {
   "cell_type": "code",
   "execution_count": 34,
   "id": "efd658b4",
   "metadata": {
    "colab": {
     "base_uri": "https://localhost:8080/"
    },
    "id": "efd658b4",
    "outputId": "5a1b0a99-ec83-4e50-9243-e1b63b5640b6"
   },
   "outputs": [
    {
     "data": {
      "text/plain": [
       "array(['14138', '9444', '23900', '14554', '17049', '39436', '7514',\n",
       "       '10008', '9307', '90769', '9426', '19380', '8597', '4937', '42819',\n",
       "       '17012', '45116', '1141105', '37138', '18465', '40073', '31355',\n",
       "       '51653', '22829', '16721', '9953', '10481', '518939', '4333',\n",
       "       '2065', '77505', '168092', '42277', '31754', '84987', '25080',\n",
       "       '11186', '…1', '1184', '2729', '1613', '64739', '53395', '10091',\n",
       "       '12395', '154525', '22639', '17574', '106450', '23960', '76840',\n",
       "       '22309', '19361', '69299', '27151', '15904', '13303', '170713',\n",
       "       '75831', '84379', '4812', '1267', '7216', '41144', '57406',\n",
       "       '49507', '45303', '110277', '41171', '25874', '11872', '147269',\n",
       "       '15890', '13494', '125105', '42175', '55028', '2832', '8455'],\n",
       "      dtype=object)"
      ]
     },
     "execution_count": 34,
     "metadata": {},
     "output_type": "execute_result"
    }
   ],
   "source": [
    "df_tour_firm['total_tour_packages_2018'].unique()"
   ]
  },
  {
   "cell_type": "markdown",
   "id": "3189bdd4",
   "metadata": {
    "id": "3189bdd4"
   },
   "source": [
    "Значение `'…1'` не позволяет интерпретировать данные как числа. Заменим `'…1'` на `0` во всех датафреймах. Для этого воспользуемся `df.replace(<значение, которое заменяем>, <значение, на которое заменяем>)`."
   ]
  },
  {
   "cell_type": "code",
   "execution_count": 35,
   "id": "01e7b4c1",
   "metadata": {
    "id": "01e7b4c1"
   },
   "outputs": [],
   "source": [
    "df_hotel = df_hotel.replace(\"…1\", 0)\n",
    "df_tour_firm = df_tour_firm.replace(\"…1\", 0)"
   ]
  },
  {
   "cell_type": "markdown",
   "id": "e79a291e",
   "metadata": {
    "id": "e79a291e"
   },
   "source": [
    "Заменяем все пропущенные значения в таблице `df_tour_firm` на `0`. Для это воспользуемся `fillna(0)`."
   ]
  },
  {
   "cell_type": "code",
   "execution_count": 36,
   "id": "611d3c5b",
   "metadata": {
    "id": "611d3c5b"
   },
   "outputs": [],
   "source": [
    "df_tour_firm = df_tour_firm.fillna(0)"
   ]
  },
  {
   "cell_type": "markdown",
   "id": "b70a170d",
   "metadata": {
    "id": "b70a170d"
   },
   "source": [
    "Тип данных в датафреймах `df_hostel`, `df_sanatorium`, `df_tour_firm`, `df_tour_cost_2023` заменим с `object` на `float` во всех столбцах, кроме `region`. Для этого пройдёмся циклом, в котором метод выбирает все колонки, записанные как строки: `df.select_dtypes(include=['object'])`. Кроме `region`: `.columns.difference(['region'])`.\n",
    "\n",
    "Затем можно привести выбранные столбцы к числовому формату (`int` или `float`): `= df[cols_to_convert].apply(pd.to_numeric, errors='coerce')`.\n",
    "Здесь:\n",
    "* `pd.to_numeric()` — преобразует значения в числа.\n",
    "* `errors='coerce'` — если в данных есть ошибки (например, `NaN` или текст), они заменяются на `NaN`."
   ]
  },
  {
   "cell_type": "code",
   "execution_count": 37,
   "id": "1cda99ba",
   "metadata": {
    "id": "1cda99ba"
   },
   "outputs": [],
   "source": [
    "dfs = [df_hotel, df_tour_firm, df_tour_cost_2023]\n",
    "\n",
    "for df in dfs:\n",
    "\n",
    "    cols_to_convert = df.select_dtypes(include=['object']).columns.difference(['region'])\n",
    "    df[cols_to_convert] = df[cols_to_convert].apply(pd.to_numeric, errors='coerce')"
   ]
  },
  {
   "cell_type": "markdown",
   "id": "fa025a59",
   "metadata": {
    "id": "fa025a59"
   },
   "source": [
    "Теперь данные готовы к работе!"
   ]
  },
  {
   "cell_type": "markdown",
   "id": "4077a2f8",
   "metadata": {
    "id": "4077a2f8"
   },
   "source": [
    "### Шаг 3. Исследовательский анализ данных"
   ]
  },
  {
   "cell_type": "markdown",
   "id": "b16b559b",
   "metadata": {
    "id": "b16b559b"
   },
   "source": [
    "#### Задача 3.1. Изучить распределение количества гостиниц, хостелов и санаторно-курортных организаций за 2018–2023 годы. В этом может помочь диаграмма размаха, или «ящик с усами»."
   ]
  },
  {
   "cell_type": "markdown",
   "id": "84b64beb",
   "metadata": {
    "id": "84b64beb"
   },
   "source": [
    "График «ящик с усами» — это инструмент статистической визуализации, который показывает:\n",
    "\n",
    "* медиану (центральное значение данных);\n",
    "* первый и третий квартили (границы «ящика»);\n",
    "* минимальные и максимальные значения (без выбросов);\n",
    "* выбросы (аномальные значения, которые находятся далеко от основной массы данных)."
   ]
  },
  {
   "cell_type": "markdown",
   "id": "f0424442",
   "metadata": {
    "id": "f0424442"
   },
   "source": [
    "Импортируем библиотеку matplotlib для построения графиков."
   ]
  },
  {
   "cell_type": "code",
   "execution_count": 38,
   "id": "4a966257",
   "metadata": {
    "id": "4a966257"
   },
   "outputs": [],
   "source": [
    "import matplotlib.pyplot as plt"
   ]
  },
  {
   "cell_type": "markdown",
   "id": "d6a2561a",
   "metadata": {
    "id": "d6a2561a"
   },
   "source": [
    "Выбираем шесть столбцов из датафрейма `df_hotel`, которые содержат количество отелей по годам."
   ]
  },
  {
   "cell_type": "code",
   "execution_count": 39,
   "id": "b70c71a8",
   "metadata": {
    "id": "b70c71a8"
   },
   "outputs": [],
   "source": [
    "hotel_selected = df_hotel[['hotels_2018', 'hotels_2019', 'hotels_2020', 'hotels_2021', 'hotels_2022', 'hotels_2023']]"
   ]
  },
  {
   "cell_type": "markdown",
   "id": "ba900ec1",
   "metadata": {
    "id": "ba900ec1"
   },
   "source": [
    "* Создаём график и задаём его размер с помощью `plt.figure(figsize=(15, 8))`.\n",
    "* `hotel_selected.boxplot()` строит «ящики с усами» для каждого года из `hotel_selected`.\n",
    "* Добавляем заголовки и подписи."
   ]
  },
  {
   "cell_type": "code",
   "execution_count": 40,
   "id": "83c7b6c9",
   "metadata": {
    "colab": {
     "base_uri": "https://localhost:8080/",
     "height": 718
    },
    "id": "83c7b6c9",
    "outputId": "2a474d66-0d51-41d6-ab2b-f9fa2789ae0b",
    "scrolled": true
   },
   "outputs": [
    {
     "data": {
      "image/png": "[encoded data removed]",
      "text/plain": [
       "<Figure size 1500x800 with 1 Axes>"
      ]
     },
     "metadata": {},
     "output_type": "display_data"
    }
   ],
   "source": [
    "plt.figure(figsize=(15, 8))\n",
    "hotel_selected.boxplot()\n",
    "plt.title(\"Распределение количества отелей по регионам (2018–2023)\")\n",
    "plt.ylabel(\"Количество отелей\")\n",
    "plt.xlabel(\"Год\")\n",
    "plt.xticks(ticks=[1, 2, 3, 4, 5, 6], labels=[\"2018\", \n",
    "                                             \"2019\", \n",
    "                                             \"2020\", \n",
    "                                             \"2021\", \n",
    "                                             \"2022\", \n",
    "                                             \"2023\"]\n",
    "          )\n",
    "plt.show()"
   ]
  },
  {
   "cell_type": "markdown",
   "id": "b76e682d",
   "metadata": {
    "id": "b76e682d"
   },
   "source": [
    "* Верхний «ус» (граница без учёта выбросов) постепенно увеличивается к 2023 году, что говорит о том, что в некоторых регионах число отелей стало выше.\n",
    "* Медиана (центральная линия) практически неизменна во все годы. Замечается незначительный медленный рост."
   ]
  },
  {
   "cell_type": "markdown",
   "id": "e2cbc582",
   "metadata": {
    "id": "e2cbc582"
   },
   "source": [
    "Аналогичным образом построим график для хостелов."
   ]
  },
  {
   "cell_type": "code",
   "execution_count": 41,
   "id": "7d295951",
   "metadata": {
    "colab": {
     "base_uri": "https://localhost:8080/",
     "height": 718
    },
    "id": "7d295951",
    "outputId": "42bd3943-f4f9-4bfc-97dd-52f879681653"
   },
   "outputs": [
    {
     "data": {
      "image/png": "[encoded data removed]",
      "text/plain": [
       "<Figure size 1500x800 with 1 Axes>"
      ]
     },
     "metadata": {},
     "output_type": "display_data"
    }
   ],
   "source": [
    "hostel_selected = df_hotel[['hostels_2018', \n",
    "                            'hostels_2019', \n",
    "                            'hostels_2020',\n",
    "                            'hostels_2021', \n",
    "                            'hostels_2022', \n",
    "                            'hostels_2023']]\n",
    "plt.figure(figsize=(15, 8))\n",
    "hostel_selected.boxplot()\n",
    "plt.title(\"Распределение количества хостелов по регионам (2018–2023)\")\n",
    "plt.ylabel(\"Количество хостелов\")\n",
    "plt.xlabel(\"Год\")\n",
    "plt.xticks(ticks=[1, 2, 3, 4, 5, 6], labels=[\"2018\", \n",
    "                                             \"2019\", \n",
    "                                             \"2020\", \n",
    "                                             \"2021\", \n",
    "                                             \"2022\", \n",
    "                                             \"2023\"])\n",
    "plt.show()"
   ]
  },
  {
   "cell_type": "markdown",
   "id": "379d9c60",
   "metadata": {
    "id": "379d9c60"
   },
   "source": [
    "* Некоторые регионы демонстрируют резкий рост числа хостелов, особенно в 2023 году.\n",
    "* В 2022–2023 годы отмечается расширение рынка хостелов в отдельных туристических центрах."
   ]
  },
  {
   "cell_type": "code",
   "execution_count": 42,
   "id": "19ece311",
   "metadata": {
    "colab": {
     "base_uri": "https://localhost:8080/",
     "height": 718
    },
    "id": "19ece311",
    "outputId": "99d2a623-bf8c-4e8a-d058-984771dd11a8"
   },
   "outputs": [
    {
     "data": {
      "image/png": "[encoded data removed]",
      "text/plain": [
       "<Figure size 1500x800 with 1 Axes>"
      ]
     },
     "metadata": {},
     "output_type": "display_data"
    }
   ],
   "source": [
    "spa_selected = df_hotel[['spa_orgs_2018', \n",
    "                         'spa_orgs_2019', \n",
    "                         'spa_orgs_2020', \n",
    "                         'spa_orgs_2021', \n",
    "                         'spa_orgs_2022',\n",
    "                        'spa_orgs_2023']]\n",
    "\n",
    "plt.figure(figsize=(15, 8))\n",
    "spa_selected.boxplot()\n",
    "plt.title(\"Распределение количества санаторно-курортных \\\n",
    "организациях по регионам (2018–2023)\")\n",
    "plt.ylabel(\"Количество санаторно-курортных организаций\")\n",
    "plt.xlabel(\"Год\")\n",
    "plt.xticks(ticks=[1, 2, 3, 4, 5, 6], labels=[\"2018\", \"2019\", \n",
    "                                             \"2020\", \"2021\", \n",
    "                                             \"2022\", \"2023\"]\n",
    "          )\n",
    "\n",
    "plt.show()"
   ]
  },
  {
   "cell_type": "markdown",
   "id": "d8221b25",
   "metadata": {
    "id": "d8221b25"
   },
   "source": [
    "* В каждом году встречаются выбросы (отдельные точки выше «усов»), что говорит о наличии регионов с аномально высоким числом санаторно-курортных организаций.\n",
    "* В некоторых регионах более 100–200 санаториев, в то время как у большинства этот показатель ниже 50."
   ]
  },
  {
   "cell_type": "markdown",
   "id": "7321d3c1",
   "metadata": {
    "id": "7321d3c1"
   },
   "source": [
    "#### Задача 3.2. Определить топ-10 регионов России с наибольшей стоимостью турпакетов в 2023 году.\n",
    "Построим горизонтальную столбчатую диаграмму:\n",
    "* Ось X — стоимость турпакетов в миллионах рублей.\n",
    "* Ось Y — регионы."
   ]
  },
  {
   "cell_type": "markdown",
   "id": "77b01083",
   "metadata": {
    "id": "77b01083"
   },
   "source": [
    "Импортируем библиотеку seaborn."
   ]
  },
  {
   "cell_type": "code",
   "execution_count": 43,
   "id": "0e12d9a9",
   "metadata": {
    "id": "0e12d9a9"
   },
   "outputs": [],
   "source": [
    "import seaborn as sns"
   ]
  },
  {
   "cell_type": "markdown",
   "id": "b30eedde",
   "metadata": {
    "id": "b30eedde"
   },
   "source": [
    "Сортируем датафрейм по колонке `total_tour_cost_million_2023` (стоимость турпакетов в миллионах рублей).\n",
    "С помощью аргумента `ascending=False` сортируем по убыванию, то есть регионы, в которых купили больше всего турпакетов, будут указаны первыми. С помощью `head(10)` выбираем первые 10 строк."
   ]
  },
  {
   "cell_type": "code",
   "execution_count": 44,
   "id": "bfac1085",
   "metadata": {
    "id": "bfac1085"
   },
   "outputs": [],
   "source": [
    "top_regions = (\n",
    "    df_tour_cost_2023.copy(deep=True)\n",
    "    .sort_values(by=\"total_tour_cost_million_2023\", ascending=False)\n",
    "    .head(10)\n",
    "              )"
   ]
  },
  {
   "cell_type": "markdown",
   "id": "683a6c5f",
   "metadata": {
    "id": "683a6c5f"
   },
   "source": [
    "Строим горизонтальную столбчатую диаграмму, используя `barplot()` из библиотеки seaborn. По оси X будет стоимость турпакетов, выраженная в миллионах рублей. По оси Y будут названия регионов (категориальная шкала). Дополнительно можно добавить цветовую палитру с синим градиентом `palette=\"Blues_r\"`."
   ]
  },
  {
   "cell_type": "code",
   "execution_count": 45,
   "id": "15e93ab9",
   "metadata": {
    "colab": {
     "base_uri": "https://localhost:8080/",
     "height": 781
    },
    "id": "15e93ab9",
    "outputId": "d091d2a9-83f4-4671-9bd0-29c15a864a81"
   },
   "outputs": [
    {
     "data": {
      "image/png": "[encoded data removed]",
      "text/plain": [
       "<Figure size 1500x800 with 1 Axes>"
      ]
     },
     "metadata": {},
     "output_type": "display_data"
    }
   ],
   "source": [
    "plt.figure(figsize=(15, 8))\n",
    "sns.barplot(data=top_regions, \n",
    "            x=\"total_tour_cost_million_2023\", \n",
    "            y=\"region\", \n",
    "            # palette=\"Blues_r\"\n",
    "           )\n",
    "\n",
    "plt.title(\"ТОП-10 регионов по общей стоимости турпакетов в 2023 году\")\n",
    "plt.xlabel(\"Стоимость (млн руб.)\")\n",
    "plt.ylabel(\"Регион\")\n",
    "plt.grid(axis='x')\n",
    "\n",
    "plt.show()"
   ]
  },
  {
   "cell_type": "markdown",
   "id": "c88e0534",
   "metadata": {
    "id": "c88e0534"
   },
   "source": [
    "В Москве проживает наибольшее число туристов, готовых покупать турпакеты. Разрыв между Москвой и остальными регионами колоссальный — её вклад в рынок туризма существенно выше."
   ]
  },
  {
   "cell_type": "markdown",
   "id": "95b9e91f",
   "metadata": {
    "id": "95b9e91f"
   },
   "source": [
    "#### Задача 3.3. \n",
    "Построить линейный график, который покажет изменения среднего количества турпакетов в России по категориям с 2018 по 2023 год. Можно использовать инструменты библиотеки matplotlib, а именно `plt.plot()`."
   ]
  },
  {
   "cell_type": "markdown",
   "id": "3835d20c",
   "metadata": {
    "id": "3835d20c"
   },
   "source": [
    "Создадим словарь `average_values`, который будет хранить данные о среднем количестве проданных турпакетов по годам:\n",
    "\n",
    "* `Year` — список лет с 2018 по 2023.\n",
    "* `Total Packages` — среднее общее количество турпакетов.\n",
    "* `Domestic Russia` — среднее количество туров внутри России.\n",
    "* `International Russia` — среднее количество международных туров.\n",
    "* `Foreign in Russia` — среднее количество туров, купленных иностранцами в России.\n",
    "\n",
    "Используем метод `mean()` для вычисления среднего значения количества турпакетов по всем регионам."
   ]
  },
  {
   "cell_type": "code",
   "execution_count": 46,
   "id": "f8d523e3",
   "metadata": {
    "id": "f8d523e3"
   },
   "outputs": [],
   "source": [
    "average_values = {\n",
    "    'Year': ['2018', '2019', '2020', '2021', '2022', '2023'],\n",
    "    'Total Packages': [\n",
    "        df_tour_firm['total_tour_packages_2018'].mean(),\n",
    "        df_tour_firm['total_tour_packages_2019'].mean(),\n",
    "        df_tour_firm['total_tour_packages_2020'].mean(),\n",
    "        df_tour_firm['total_tour_packages_2021'].mean(),\n",
    "        df_tour_firm['total_tour_packages_2022'].mean(),\n",
    "        df_tour_firm['total_tour_packages_2023'].mean(),\n",
    "    ],\n",
    "    'Domestic Russia': [\n",
    "        df_tour_firm['domestic_russia_2018'].mean(),\n",
    "        df_tour_firm['domestic_russia_2019'].mean(),\n",
    "        df_tour_firm['domestic_russia_2020'].mean(),\n",
    "        df_tour_firm['domestic_russia_2021'].mean(),\n",
    "        df_tour_firm['domestic_russia_2022'].mean(),\n",
    "        df_tour_firm['domestic_russia_2023'].mean(),\n",
    "    ],\n",
    "    'International Russia': [\n",
    "        df_tour_firm['international_russia_2018'].mean(),\n",
    "        df_tour_firm['international_russia_2019'].mean(),\n",
    "        df_tour_firm['international_russia_2020'].mean(),\n",
    "        df_tour_firm['international_russia_2021'].mean(),\n",
    "        df_tour_firm['international_russia_2022'].mean(),\n",
    "        df_tour_firm['international_russia_2023'].mean(),\n",
    "    ],\n",
    "    'Foreign in Russia': [\n",
    "        df_tour_firm['foreign_in_russia_2018'].mean(),\n",
    "        df_tour_firm['foreign_in_russia_2019'].mean(),\n",
    "        df_tour_firm['foreign_in_russia_2020'].mean(),\n",
    "        df_tour_firm['foreign_in_russia_2021'].mean(),\n",
    "        df_tour_firm['foreign_in_russia_2022'].mean(),\n",
    "        df_tour_firm['foreign_in_russia_2023'].mean(),\n",
    "    ]\n",
    "}"
   ]
  },
  {
   "cell_type": "markdown",
   "id": "a984bbf7",
   "metadata": {
    "id": "a984bbf7"
   },
   "source": [
    "Создадим датафрейм `df_avg` на основе словаря `average_values`, чтобы можно было проанализировать средние значения в табличном формате."
   ]
  },
  {
   "cell_type": "code",
   "execution_count": 47,
   "id": "22421980",
   "metadata": {
    "id": "22421980"
   },
   "outputs": [],
   "source": [
    "df_avg = pd.DataFrame(average_values)"
   ]
  },
  {
   "cell_type": "markdown",
   "id": "d02b7c84",
   "metadata": {
    "id": "d02b7c84"
   },
   "source": [
    "Построим линейный график, показывающий изменения среднего количества турпакетов в России по категориям с 2018 по 2023 год.\n",
    "Создадим график с помощью `plt.plot()`:\n",
    "\n",
    "* Ось X (Год) — значения от 2018 до 2023.\n",
    "* Ось Y (Среднее число турпакетов) — количество туров, проданных в каждом году.\n",
    "\n",
    "Добавим четыре линии на график, которые отображают:\n",
    "\n",
    "* общее количество туров — сплошная линия (`marker=o`);\n",
    "* внутренний туризм — пунктирная линия (`marker=s`);\n",
    "* международные туры  — штрихпунктирная линия (`marker=^`);\n",
    "* турпакеты, купленные иностранцами в России  — точечная линия (`marker=d`).\n",
    "\n",
    "К графику можно добавить дополнительные параметры: `marker`, подпись — `label`, толщина линии — `linewidth`."
   ]
  },
  {
   "cell_type": "code",
   "execution_count": 48,
   "id": "8a4020e7",
   "metadata": {
    "colab": {
     "base_uri": "https://localhost:8080/",
     "height": 718
    },
    "id": "8a4020e7",
    "outputId": "05e4a8e1-4a1a-4026-e721-37c3e3376330"
   },
   "outputs": [
    {
     "data": {
      "image/png": "[encoded data removed]",
      "text/plain": [
       "<Figure size 1500x800 with 1 Axes>"
      ]
     },
     "metadata": {},
     "output_type": "display_data"
    }
   ],
   "source": [
    "plt.figure(figsize=(15, 8))\n",
    "\n",
    "plt.plot(df_avg['Year'], \n",
    "         df_avg['Total Packages'], \n",
    "         marker='o', \n",
    "         label='Общее количество туров', \n",
    "         linestyle='-', \n",
    "         linewidth=2)\n",
    "\n",
    "plt.plot(df_avg['Year'], \n",
    "         df_avg['Domestic Russia'], \n",
    "         marker='s', \n",
    "         label='Внутренний туризм', \n",
    "         linestyle='--', \n",
    "         linewidth=2)\n",
    "\n",
    "plt.plot(df_avg['Year'], \n",
    "         df_avg['International Russia'], \n",
    "         marker='^', \n",
    "         label='Международные туры', \n",
    "         linestyle='-.', \n",
    "         linewidth=2)\n",
    "\n",
    "plt.plot(df_avg['Year'], \n",
    "         df_avg['Foreign in Russia'],\n",
    "         marker='d', \n",
    "         label='Турпакеты, купленные иностранцами в России', \n",
    "         linestyle=':', \n",
    "         linewidth=2)\n",
    "\n",
    "plt.title('Среднее количество турпакетов по годам')\n",
    "plt.xlabel('Год')\n",
    "plt.ylabel('Среднее число турпакетов')\n",
    "plt.legend()\n",
    "plt.grid(True, color='grey', alpha=0.3)\n",
    "plt.show()\n"
   ]
  },
  {
   "cell_type": "markdown",
   "id": "6c5badd3",
   "metadata": {
    "id": "6c5badd3"
   },
   "source": [
    "* Внутренний туризм продолжает расти и достигает пика в 2023 году.\n",
    "* Международные туры восстановились, но всё ещё немного ниже 2019 года."
   ]
  },
  {
   "cell_type": "markdown",
   "id": "fce3f181",
   "metadata": {
    "id": "fce3f181"
   },
   "source": [
    "### Шаг 4. Проверка гипотез"
   ]
  },
  {
   "cell_type": "markdown",
   "id": "58d9ba21",
   "metadata": {
    "id": "58d9ba21"
   },
   "source": [
    "#### Задание 4.1. Проверка гипотезы с одной выборкой"
   ]
  },
  {
   "cell_type": "markdown",
   "id": "1b741424",
   "metadata": {
    "id": "1b741424"
   },
   "source": [
    "Туристическая индустрия является важной частью экономики, и анализ её показателей позволяет выявить тренды и оценить эффективность работы рынка. Один из ключевых показателей — средняя стоимость реализованных турпакетов.\n",
    "\n",
    "Существует мнение, что средняя стоимость реализованных турпакетов в 2023 году составила 800 млн рублей. Однако аналитики подозревают, что этот показатель может быть больше. Задача — провести статистический тест, который поможет определить, можно ли отвергнуть нулевую гипотезу в пользу альтернативной."
   ]
  },
  {
   "cell_type": "markdown",
   "id": "facf751b",
   "metadata": {
    "id": "facf751b"
   },
   "source": [
    "Нужно проверить одностороннюю гипотезу:\n",
    "\n",
    "* H0: Средняя стоимость реализованных турпакетов в 2023 году (млн рублей) = 800\n",
    "* H1: Средняя стоимость реализованных турпакетов в 2023 году (млн рублей) > 800"
   ]
  },
  {
   "cell_type": "markdown",
   "id": "445c3ffe",
   "metadata": {
    "id": "445c3ffe"
   },
   "source": [
    "Импортируем необходимые библиотеки: numpy и scipy.stats."
   ]
  },
  {
   "cell_type": "code",
   "execution_count": 49,
   "id": "e9e0d088",
   "metadata": {
    "id": "e9e0d088"
   },
   "outputs": [],
   "source": [
    "from scipy import stats as st\n",
    "import numpy as np"
   ]
  },
  {
   "cell_type": "markdown",
   "id": "b1776864",
   "metadata": {
    "id": "b1776864"
   },
   "source": [
    "Выберем из датафрейма `df_tour_cost_2023` столбец, содержащий данные о стоимости реализованных турпакетов в 2023 году.\n",
    "\n",
    "При этом избавимся от пропусков `~df_tour_cost_2023['total_tour_cost_million_2023'].isna()` "
   ]
  },
  {
   "cell_type": "code",
   "execution_count": 83,
   "id": "f1006dde",
   "metadata": {
    "id": "f1006dde"
   },
   "outputs": [
    {
     "data": {
      "text/plain": [
       "0     1731.9856\n",
       "1     1409.2361\n",
       "2     2619.7022\n",
       "3     2877.2381\n",
       "4     1906.7207\n",
       "        ...    \n",
       "80    3634.4300\n",
       "81    3484.0842\n",
       "82    1619.1961\n",
       "83     217.9223\n",
       "84    1421.2141\n",
       "Name: total_tour_cost_million_2023, Length: 85, dtype: float64"
      ]
     },
     "execution_count": 83,
     "metadata": {},
     "output_type": "execute_result"
    }
   ],
   "source": [
    "total_tour_cost_2023 = (\n",
    "    df_tour_cost_2023[~df_tour_cost_2023['total_tour_cost_million_2023']\n",
    "    .isna()].copy()['total_tour_cost_million_2023']\n",
    ")\n",
    "\n",
    "total_tour_cost_2023"
   ]
  },
  {
   "cell_type": "markdown",
   "id": "3e42e1c5",
   "metadata": {
    "id": "3e42e1c5"
   },
   "source": [
    "Установим параметры, которые будут использоваться в проверке статистической гипотезы:\n",
    "\n",
    "* `expected_mean_tour_cost = 800` — это ожидаемое среднее значение стоимости реализованных турпакетов в 2023 году (в млн рублей), с которым будем сравнивать реальные данные.\n",
    "* `alpha = 0.05` — это уровень статистической значимости (обычно 5%, или 0.05), который определяет границу для принятия или отклонения нулевой гипотезы."
   ]
  },
  {
   "cell_type": "code",
   "execution_count": 86,
   "id": "4c55a020",
   "metadata": {
    "id": "4c55a020"
   },
   "outputs": [],
   "source": [
    "expected_mean_tour_cost = 800\n",
    "alpha = 0.05"
   ]
  },
  {
   "cell_type": "markdown",
   "id": "8afad67d",
   "metadata": {
    "id": "8afad67d"
   },
   "source": [
    "Выполним t-тест с альтернативной гипотезой «больше» (`alternative='greater'`)."
   ]
  },
  {
   "cell_type": "code",
   "execution_count": 88,
   "id": "1eb56fa6",
   "metadata": {
    "colab": {
     "base_uri": "https://localhost:8080/"
    },
    "id": "1eb56fa6",
    "outputId": "f31d6bd0-b89f-4abe-bd01-f1d01aee027d"
   },
   "outputs": [
    {
     "name": "stdout",
     "output_type": "stream",
     "text": [
      "p-значение: 0.04555478027114014\n",
      "Отвергаем нулевую гипотезу\n"
     ]
    }
   ],
   "source": [
    "results = st.ttest_1samp(\n",
    "    total_tour_cost_2023,\n",
    "    expected_mean_tour_cost,\n",
    "    alternative='greater')\n",
    "\n",
    "print('p-значение:', results.pvalue)\n",
    "\n",
    "if results.pvalue < alpha:\n",
    "    print('Отвергаем нулевую гипотезу')\n",
    "else:\n",
    "    print('Не получилось отвергнуть нулевую гипотезу')"
   ]
  },
  {
   "cell_type": "markdown",
   "id": "c90f5243",
   "metadata": {
    "id": "c90f5243"
   },
   "source": [
    "Так как 0.049 < 0.01, то мы не можем отвергнуть нулевую гипотезу. Это означает, что средняя стоимость реализованных турпакетов в 2023 году c большой вероятностью превышает 800 млн рублей."
   ]
  },
  {
   "cell_type": "markdown",
   "id": "6a426c3d",
   "metadata": {
    "id": "6a426c3d"
   },
   "source": [
    "#### Задание 4.2. Проверка гипотезы с двумя выборками"
   ]
  },
  {
   "cell_type": "markdown",
   "id": "3541665e",
   "metadata": {
    "id": "3541665e"
   },
   "source": [
    "Статистика говорит, что в 2023 году, по сравнению с 2022, россияне стали чаще ездить по стране и оформлять турпакеты. Проверим статистическую гипотезу о том, стало ли в 2023 году больше проданных турпакетов по России, чем в 2022 году."
   ]
  },
  {
   "cell_type": "code",
   "execution_count": 100,
   "id": "12ee525f",
   "metadata": {
    "colab": {
     "base_uri": "https://localhost:8080/"
    },
    "id": "12ee525f",
    "outputId": "984a18f8-274d-4841-84bd-72ffb55ead7d"
   },
   "outputs": [
    {
     "name": "stdout",
     "output_type": "stream",
     "text": [
      "Среднее количество турпакетов, реализованных в 2023 году:\n",
      "40650\n",
      "Среднее количество турпакетов, реализованных в 2022 году:\n",
      "36970\n"
     ]
    }
   ],
   "source": [
    "print('Среднее количество турпакетов, реализованных в 2023 году:')\n",
    "print(int(df_tour_firm['domestic_russia_2023'].mean().round()))\n",
    "\n",
    "print('Среднее количество турпакетов, реализованных в 2022 году:')\n",
    "print(int(df_tour_firm['domestic_russia_2022'].mean().round()))"
   ]
  },
  {
   "cell_type": "markdown",
   "id": "4f7de8ba",
   "metadata": {
    "id": "4f7de8ba"
   },
   "source": [
    "Проверим одностороннюю гипотезу:\n",
    "\n",
    "* H0: Среднее количество турпакетов, реализованных в 2022 году = Среднему количеству турпакетов, реализованных в 2023 году\n",
    "* H1: Среднее количество турпакетов, реализованных в 2022 году < Cреднего количества турпакетов, реализованных в 2023 году"
   ]
  },
  {
   "cell_type": "code",
   "execution_count": 54,
   "id": "d7030e35",
   "metadata": {
    "id": "d7030e35"
   },
   "outputs": [],
   "source": [
    "# Общее число турпакетов, реализованных гражданам России по территории России, 2022\n",
    "domestic_russia_2022 = df_tour_firm['domestic_russia_2022']\n",
    "\n",
    "# Общее число турпакетов, реализованных гражданам России по территории России, 2023\n",
    "domestic_russia_2023 = df_tour_firm['domestic_russia_2023']\n",
    "alpha = 0.05"
   ]
  },
  {
   "cell_type": "markdown",
   "id": "c97cc13a-fb7d-410c-a10f-5cae2f251b2f",
   "metadata": {},
   "source": [
    "Используем функцию  `st.ttest_ind`. Функция выполняет двухвыборочную t-проверку. В качестве первого аргумента предоставляют выборку данных, в качестве второго — выборку для сопоставления. \n",
    "\n",
    "Выполним стандартную независимую проверку двух выборок, которая предполагает равные популяционные дисперсии. \n",
    "\n",
    "Установим параметр alternative как `less` - это когда среднее значение распределения, лежащего в основе первой выборки, меньше среднего значения распределения, лежащего в основе второй выборки.\n",
    "\n",
    "P-значение, которое возвращает функция, помогает определить, есть ли значимые различия между группами. Обычно, если p < 0,05, различия считаются значимыми"
   ]
  },
  {
   "cell_type": "code",
   "execution_count": 55,
   "id": "8193f7f8",
   "metadata": {
    "colab": {
     "base_uri": "https://localhost:8080/"
    },
    "id": "8193f7f8",
    "outputId": "ad158ba0-6119-451c-e34b-3c64d6d66547"
   },
   "outputs": [
    {
     "name": "stdout",
     "output_type": "stream",
     "text": [
      "p-значение: 0.43088448306931165\n",
      "Не получилось отвергнуть нулевую гипотезу\n"
     ]
    }
   ],
   "source": [
    "results = st.ttest_ind(\n",
    "    domestic_russia_2022,\n",
    "    domestic_russia_2023,\n",
    "    alternative='less'\n",
    ")\n",
    "\n",
    "print('p-значение:', results.pvalue)\n",
    "\n",
    "if results.pvalue < alpha:\n",
    "    print('Отвергаем нулевую гипотезу')\n",
    "else:\n",
    "    print('Не получилось отвергнуть нулевую гипотезу')"
   ]
  },
  {
   "cell_type": "markdown",
   "id": "462cb965",
   "metadata": {
    "id": "462cb965"
   },
   "source": [
    "* Полученное p-значение велико - гораздо больше уровня значимости, следовательно нет оснований отвергнуть нулевую гипотезу о равенстве средних двух генеральных совокупностей в пользу альтернативной гипотезы.\n",
    "* Значение p-value показывает вероятность того, что наши данные могли бы наблюдаться при условии, что нулевая гипотеза верна. Если p-value < alpha (например, < 0.05), мы отвергаем нулевую гипотезу и принимаем альтернативную.\n",
    "* В нашем случае p-value = 0.431, что намного больше 0.05. Данные не подтверждают, что россияне стали больше путешествовать в 2023 году по сравнению с 2022 годом.\n",
    "* Хотя среднее количество туров в 2023 году выше (40650), разница недостаточно значима с точки зрения статистики. Значение p-value = 0.431 говорит о высокой вероятности того, что наблюдаемые различия могли возникнуть случайно.\n"
   ]
  },
  {
   "cell_type": "code",
   "execution_count": null,
   "id": "215c3fcc-1627-4db2-b467-7c766cde6fac",
   "metadata": {},
   "outputs": [],
   "source": []
  }
 ],
 "metadata": {
  "colab": {
   "provenance": []
  },
  "kernelspec": {
   "display_name": "Python 3 (ipykernel)",
   "language": "python",
   "name": "python3"
  },
  "language_info": {
   "codemirror_mode": {
    "name": "ipython",
    "version": 3
   },
   "file_extension": ".py",
   "mimetype": "text/x-python",
   "name": "python",
   "nbconvert_exporter": "python",
   "pygments_lexer": "ipython3",
   "version": "3.12.7"
  }
 },
 "nbformat": 4,
 "nbformat_minor": 5
}
