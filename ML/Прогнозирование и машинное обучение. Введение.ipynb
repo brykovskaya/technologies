{
 "cells": [
  {
   "cell_type": "markdown",
   "id": "782b7e65",
   "metadata": {},
   "source": [
    "sklearn (от англ. scientific kit for learning, «научный набор для обучения»). \n",
    "\n",
    "DecisionTreeClassifier (англ. «классификатор дерева решений») — это структура данных для классификации деревом решений. "
   ]
  },
  {
   "cell_type": "code",
   "execution_count": null,
   "id": "6a1dac95",
   "metadata": {},
   "outputs": [],
   "source": [
    "# импортируем из библиотеки структуру:\n",
    "from sklearn.tree import DecisionTreeClassifier "
   ]
  },
  {
   "cell_type": "code",
   "execution_count": null,
   "id": "39b42444",
   "metadata": {},
   "outputs": [],
   "source": [
    "#создаём объект этой структуры данных.\n",
    "model = DecisionTreeClassifier() "
   ]
  },
  {
   "cell_type": "markdown",
   "id": "3f2c58d6",
   "metadata": {},
   "source": [
    "В переменной model (англ. «модель») будет храниться модель. Правда, она пока не умеет предсказывать. Чтобы научилась, нужно запустить алгоритм обучения.\n",
    "\n",
    "На вход модели передают набор значений признаков X и целевую переменную y. А у вас чаще всего есть датафрейм, где есть столбец со значениями целевой переменной и остальные столбцы. Например, у вас есть таблица data. В ней столбец с целевой переменной называется 'target'. Чтобы задать матрицу объект-признак X и вектор целевой переменной y, применим метод drop() библиотеки Pandas:  \n",
    "Метод drop() возвращает фрейм данных с удалёнными значениями. \n",
    "\n",
    "```\n",
    "DataFrame.drop(labels=None, *, axis=0, index=None, columns=None, \n",
    "               level=None, inplace=False, errors='raise')\n",
    "\n",
    "Series.drop(labels=None, *, index=None, level=None, \n",
    "            inplace=False, errors='raise')\n",
    "\n",
    "```\n",
    "\n",
    "Параметры:\n",
    "labels=None - одиночная метка или список меток индекса или столбца, которые нужно удалить. Кортеж будет использоваться как отдельная метка и не будет рассматриваться как список.\n",
    "axis=0 - ось по которой удаляются метки (0 или index) или столбцов (1 или columns). Для Series.drop() НЕ ИСПОЛЬЗУЕТСЯ.\n",
    "index=None - одиночная метка или список меток индекса. Альтернатива указанию оси axis=0.\n",
    "columns=None - одиночная метка или список меток столбца. Альтернатива указанию оси axis=1. Для Series.drop() НЕ ИСПОЛЬЗУЕТСЯ.\n",
    "level=None - для MultiIndex - уровень, с которого будут удалены метки.\n",
    "inplace=False - если значение равно False, возвратит копию. В противном случае выполнит операцию на месте и вернет None.\n",
    "errors='raise' - Если передана строка 'ignore', то подавляется ошибка и удаляются только существующие метки.\n",
    "Возвращаемое значение:\n",
    "DataFrame.drop() возвращает DataFrame с удаленным указанным индексом или метками столбцов или None, если inplace=True.\n",
    "Series.drop() возвращает Series с удаленным указанным индексом или None, если inplace=True."
   ]
  },
  {
   "cell_type": "code",
   "execution_count": 2,
   "id": "acb076d3",
   "metadata": {},
   "outputs": [],
   "source": [
    "#запустить обучение, вызовите метод fit() (англ. «подогнать») и передайте ему как параметр данные:\n",
    "#т.к. у меня нет набора данных то заккоментирован весь код\n",
    "#y = data['target']\n",
    "#X = data.drop(['target'], axis=1) "
   ]
  },
  {
   "cell_type": "code",
   "execution_count": 3,
   "id": "ab10f38e",
   "metadata": {},
   "outputs": [],
   "source": [
    "#model.fit(X, y) "
   ]
  },
  {
   "cell_type": "markdown",
   "id": "74c49e12",
   "metadata": {},
   "source": [
    "Чтобы построить прогнозы для набора данных, хватит одной строчки кода и вызова метода predict() (англ. «предсказывать»)"
   ]
  },
  {
   "cell_type": "code",
   "execution_count": 4,
   "id": "9bcdaebc",
   "metadata": {},
   "outputs": [],
   "source": [
    "#predictions = model.predict(X) "
   ]
  },
  {
   "cell_type": "code",
   "execution_count": null,
   "id": "0a3d6995",
   "metadata": {},
   "outputs": [],
   "source": []
  }
 ],
 "metadata": {
  "kernelspec": {
   "display_name": "Python 3 (ipykernel)",
   "language": "python",
   "name": "python3"
  },
  "language_info": {
   "codemirror_mode": {
    "name": "ipython",
    "version": 3
   },
   "file_extension": ".py",
   "mimetype": "text/x-python",
   "name": "python",
   "nbconvert_exporter": "python",
   "pygments_lexer": "ipython3",
   "version": "3.12.2"
  },
  "toc": {
   "base_numbering": 1,
   "nav_menu": {},
   "number_sections": true,
   "sideBar": true,
   "skip_h1_title": false,
   "title_cell": "Table of Contents",
   "title_sidebar": "Contents",
   "toc_cell": false,
   "toc_position": {},
   "toc_section_display": true,
   "toc_window_display": false
  }
 },
 "nbformat": 4,
 "nbformat_minor": 5
}
