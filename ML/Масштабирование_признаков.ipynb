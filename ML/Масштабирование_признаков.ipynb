{
 "cells": [
  {
   "cell_type": "markdown",
   "id": "360c45b8-dd01-49d0-9d0e-263a31f2b94f",
   "metadata": {},
   "source": [
    "## Практика - Масштабирование признаков\n",
    "**Приведение значений признаков к одному диапазону, например, от 0 до 1.**\n",
    "\n",
    "*Напишу код на примере датасета California Housing*"
   ]
  },
  {
   "cell_type": "code",
   "execution_count": 1,
   "id": "1b1e76d2-05cf-4cab-847f-d3ef2d4c3658",
   "metadata": {},
   "outputs": [
    {
     "name": "stdout",
     "output_type": "stream",
     "text": [
      "--- Модель с масштабированием ---\n",
      "Mean Squared Error (с масштабированием): 0.5559\n",
      "R^2 Score (с масштабированием): 0.5758\n",
      "\n",
      "--- Модель без масштабирования ---\n",
      "Mean Squared Error (без масштабирования): 0.5559\n",
      "R^2 Score (без масштабирования): 0.5758\n"
     ]
    }
   ],
   "source": [
    "import pandas as pd\n",
    "import matplotlib.pyplot as plt\n",
    "from sklearn.model_selection import train_test_split\n",
    "from sklearn.linear_model import LinearRegression\n",
    "from sklearn.metrics import mean_squared_error, r2_score\n",
    "from sklearn.preprocessing import StandardScaler\n",
    "from sklearn.datasets import fetch_california_housing\n",
    "\n",
    "# 1. Загрузка датасета California Housing\n",
    "california_housing = fetch_california_housing()\n",
    "data = pd.DataFrame(california_housing.data, columns=california_housing.feature_names)\n",
    "data['MEDV'] = california_housing.target  # Добавляем целевую переменную\n",
    "\n",
    "# 2. Разделение на признаки и целевую переменную\n",
    "X = data.drop(columns=['MEDV'])  \n",
    "y = data['MEDV']  \n",
    "\n",
    "# 3. Разделение на обучающую и тестовую выборки\n",
    "X_train, X_test, y_train, y_test = train_test_split(X, y, test_size=0.2, random_state=42)\n",
    "\n",
    "# Масштабирование числовых признаков \n",
    "scaler = StandardScaler()\n",
    "X_train_scaled = scaler.fit_transform(X_train)\n",
    "X_test_scaled = scaler.transform(X_test)\n",
    "\n",
    "# 4. Создание и обучение модели линейной регрессии с масштабированием\n",
    "model_lr_scaled = LinearRegression()\n",
    "model_lr_scaled.fit(X_train_scaled, y_train)\n",
    "\n",
    "# 5. Оценка модели с масштабированием\n",
    "y_pred_scaled = model_lr_scaled.predict(X_test_scaled)\n",
    "mse_scaled = mean_squared_error(y_test, y_pred_scaled)\n",
    "r2_scaled = r2_score(y_test, y_pred_scaled)\n",
    "\n",
    "# 6. Создание и обучение модели линейной регрессии без масштабирования\n",
    "model_lr_no_scaled = LinearRegression()\n",
    "model_lr_no_scaled.fit(X_train, y_train)\n",
    "\n",
    "# 7. Оценка модели без масштабирования\n",
    "y_pred_no_scaled = model_lr_no_scaled.predict(X_test)\n",
    "mse_no_scaled = mean_squared_error(y_test, y_pred_no_scaled)\n",
    "r2_no_scaled = r2_score(y_test, y_pred_no_scaled)\n",
    "\n",
    "# 8. Сравнение результатов\n",
    "print(f\"--- Модель с масштабированием ---\")\n",
    "print(f\"Mean Squared Error (с масштабированием): {mse_scaled:.4f}\")\n",
    "print(f\"R^2 Score (с масштабированием): {r2_scaled:.4f}\")\n",
    "\n",
    "print(f\"\\n--- Модель без масштабирования ---\")\n",
    "print(f\"Mean Squared Error (без масштабирования): {mse_no_scaled:.4f}\")\n",
    "print(f\"R^2 Score (без масштабирования): {r2_no_scaled:.4f}\")\n"
   ]
  },
  {
   "cell_type": "code",
   "execution_count": null,
   "id": "576811a7-84bd-4d42-abf9-04b8503216a7",
   "metadata": {},
   "outputs": [],
   "source": [
    "Ничего не измнеилось, потому что линейной регрессии все равно на масштабирование и разброс признаков не слишком большой"
   ]
  }
 ],
 "metadata": {
  "kernelspec": {
   "display_name": "Python 3 (ipykernel)",
   "language": "python",
   "name": "python3"
  },
  "language_info": {
   "codemirror_mode": {
    "name": "ipython",
    "version": 3
   },
   "file_extension": ".py",
   "mimetype": "text/x-python",
   "name": "python",
   "nbconvert_exporter": "python",
   "pygments_lexer": "ipython3",
   "version": "3.13.2"
  }
 },
 "nbformat": 4,
 "nbformat_minor": 5
}
