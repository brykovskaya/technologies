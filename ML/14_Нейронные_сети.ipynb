{
 "cells": [
  {
   "cell_type": "markdown",
   "id": "f5eb2db7-f7a5-4f2c-8192-de1403e42217",
   "metadata": {
    "jp-MarkdownHeadingCollapsed": true
   },
   "source": [
    "### Практика - Реализация простого перцептрона"
   ]
  },
  {
   "cell_type": "markdown",
   "id": "d8e47d18-b212-484b-b68e-3a1429dbb59b",
   "metadata": {
    "jp-MarkdownHeadingCollapsed": true
   },
   "source": [
    "#### Пример кода"
   ]
  },
  {
   "cell_type": "markdown",
   "id": "6900871e-81eb-4249-910d-d9813fbcdbda",
   "metadata": {},
   "source": [
    "```\n",
    "import numpy as np\n",
    "\n",
    "class Perceptron:\n",
    "    def __init__(self, learning_rate=0.1, epochs=100):\n",
    "        self.learning_rate = learning_rate\n",
    "        self.epochs = epochs\n",
    "        self.weights = None\n",
    "        self.bias = None\n",
    "\n",
    "    def _activation_function(self, x):\n",
    "        return 1 if x >= 0 else 0\n",
    "\n",
    "    def fit(self, X, y):\n",
    "        # Инициализация весов и смещения\n",
    "        self.weights = np.random.rand(X.shape[1])\n",
    "        self.bias = np.random.rand()\n",
    "\n",
    "        # Цикл обучения\n",
    "        for epoch in range(self.epochs):\n",
    "            for i in range(X.shape[0]):\n",
    "                # Вычисление выхода перцептрона\n",
    "                net_input = np.dot(X[i], self.weights) + self.bias\n",
    "                output = self._activation_function(net_input)\n",
    "\n",
    "                # Обновление весов и смещения\n",
    "                self.weights += self.learning_rate * (y[i] - output) * X[i]\n",
    "                self.bias += self.learning_rate * (y[i] - output)\n",
    "\n",
    "    def predict(self, X):\n",
    "        # Вычисление выхода перцептрона для новых данных\n",
    "        net_input = np.dot(X, self.weights) + self.bias\n",
    "        return self._activation_function(net_input)\n",
    "\n",
    "\n",
    "# Пример использования для логического ИЛИ\n",
    "X = np.array([[0, 0], [0, 1], [1, 0], [1, 1]])\n",
    "y = np.array([0, 1, 1, 1])\n",
    "\n",
    "# Создание и обучение перцептрона\n",
    "perceptron = Perceptron()\n",
    "perceptron.fit(X, y)\n",
    "\n",
    "# Проверка на тестовых данных\n",
    "test_data = np.array([[0, 1], [1, 0], [1, 1], [0, 0]])\n",
    "predictions = [perceptron.predict(x) for x in test_data]\n",
    "\n",
    "# Вывод результатов\n",
    "print(\"Predictions:\", predictions)\n",
    "```"
   ]
  },
  {
   "cell_type": "markdown",
   "id": "bc484878-2f45-44b3-9106-ec5f36486fa7",
   "metadata": {
    "jp-MarkdownHeadingCollapsed": true
   },
   "source": [
    "#### Объяснение"
   ]
  },
  {
   "cell_type": "markdown",
   "id": "04e94f2c-8333-4fdb-bee2-1ec818fd7233",
   "metadata": {},
   "source": [
    "- Класс Perceptron:\n",
    "  - Конструктор (init) инициализирует скорость обучения (learning_rate), количество эпох (epochs), а также веса (weights) и смещение (bias) случайными значениями.\n",
    "  - Метод _activation_function реализует функцию активации (в данном случае, ступенчатую функцию).\n",
    "  - Метод fit обучает перцептрон на входных данных (X) и метках (y):\n",
    "    - Инициализирует веса и смещение.\n",
    "    - Проходит по всем эпохам и примерам в обучающей выборке.\n",
    "    - Вычисляет выход перцептрона для текущего примера.\n",
    "    - Обновляет веса и смещение на основе ошибки предсказания.\n",
    "  - Метод predict вычисляет выход перцептрона для новых данных."
   ]
  },
  {
   "cell_type": "markdown",
   "id": "62e6b743-afa8-407e-9ec3-572f31c7d86d",
   "metadata": {
    "jp-MarkdownHeadingCollapsed": true
   },
   "source": [
    "#### Пример использования"
   ]
  },
  {
   "cell_type": "markdown",
   "id": "3038ff07-1784-43ec-bda0-7b629d827de1",
   "metadata": {},
   "source": [
    "- Создается обучающая выборка для логического ИЛИ.\n",
    "- Создается экземпляр класса Perceptron и обучается на данных.\n",
    "- Создается тестовая выборка.\n",
    "- Вычисляются предсказания для тестовой выборки.\n",
    "- Результаты выводятся на экран."
   ]
  },
  {
   "cell_type": "markdown",
   "id": "f7271cf3-385c-4a84-bd54-bee6f042ec91",
   "metadata": {
    "jp-MarkdownHeadingCollapsed": true
   },
   "source": [
    "#### Реализация кода"
   ]
  },
  {
   "cell_type": "code",
   "execution_count": 1,
   "id": "ec3ded60-1bb6-4fa8-ae2e-70fcbe1f334b",
   "metadata": {},
   "outputs": [
    {
     "name": "stdout",
     "output_type": "stream",
     "text": [
      "Predictions: [1, 1, 1, 0]\n"
     ]
    }
   ],
   "source": [
    "import numpy as np\n",
    "\n",
    "class Perceptron:\n",
    "    def __init__(self, learning_rate=0.1, epochs=100):\n",
    "        self.learning_rate = learning_rate\n",
    "        self.epochs = epochs\n",
    "        self.weights = None\n",
    "        self.bias = None\n",
    "\n",
    "    def _activation_function(self, x):\n",
    "        return 1 if x >= 0 else 0\n",
    "\n",
    "    def fit(self, X, y):\n",
    "        # Инициализация весов и смещения\n",
    "        self.weights = np.random.rand(X.shape[1])\n",
    "        self.bias = np.random.rand()\n",
    "\n",
    "        # Цикл обучения\n",
    "        for epoch in range(self.epochs):\n",
    "            for i in range(X.shape[0]):\n",
    "                # Вычисление выхода перцептрона\n",
    "                net_input = np.dot(X[i], self.weights) + self.bias\n",
    "                output = self._activation_function(net_input)\n",
    "\n",
    "                # Обновление весов и смещения\n",
    "                self.weights += self.learning_rate * (y[i] - output) * X[i]\n",
    "                self.bias += self.learning_rate * (y[i] - output)\n",
    "\n",
    "    def predict(self, X):\n",
    "        # Вычисление выхода перцептрона для новых данных\n",
    "        net_input = np.dot(X, self.weights) + self.bias\n",
    "        return self._activation_function(net_input)\n",
    "\n",
    "\n",
    "# Пример использования для логического ИЛИ\n",
    "X = np.array([[0, 0], [0, 1], [1, 0], [1, 1]])\n",
    "y = np.array([0, 1, 1, 1])\n",
    "\n",
    "# Создание и обучение перцептрона\n",
    "perceptron = Perceptron()\n",
    "perceptron.fit(X, y)\n",
    "\n",
    "# Проверка на тестовых данных\n",
    "test_data = np.array([[0, 1], [1, 0], [1, 1], [0, 0]])\n",
    "predictions = [perceptron.predict(x) for x in test_data]\n",
    "\n",
    "# Вывод результатов\n",
    "print(\"Predictions:\", predictions)\n",
    "\n"
   ]
  },
  {
   "cell_type": "markdown",
   "id": "0f9d5e75-1bbd-4ca8-a1ca-aaa41f15ef00",
   "metadata": {
    "jp-MarkdownHeadingCollapsed": true
   },
   "source": [
    "### Практика - Обучение MLP на наборе данных MNIST для распознавания рукописных цифр с использованием Keras."
   ]
  },
  {
   "cell_type": "markdown",
   "id": "a9b2ac72-d6d2-4c41-9dc4-721ec16f259e",
   "metadata": {
    "jp-MarkdownHeadingCollapsed": true
   },
   "source": [
    "#### Пример кода"
   ]
  },
  {
   "cell_type": "markdown",
   "id": "0554a333-8138-4766-902f-026484530583",
   "metadata": {},
   "source": [
    "```\n",
    "from tensorflow import keras\n",
    "from tensorflow.keras import layers\n",
    "import numpy as np\n",
    "from tensorflow.keras.datasets import mnist\n",
    "from tensorflow.keras.utils import to_categorical\n",
    "\n",
    "# Загрузка набора данных MNIST\n",
    "(x_train, y_train), (x_test, y_test) = mnist.load_data()\n",
    "\n",
    "\n",
    "# Предобработка данных\n",
    "\n",
    "# Нормализация пикселей (от 0 до 1)\n",
    "x_train = x_train.astype('float32') / 255\n",
    "x_test = x_test.astype('float32') / 255\n",
    "\n",
    "# Преобразование данных в вектор\n",
    "x_train = x_train.reshape((60000, 28 * 28))\n",
    "x_test = x_test.reshape((10000, 28 * 28))\n",
    "\n",
    "# One-hot кодирование меток\n",
    "y_train = to_categorical(y_train, num_classes=10)\n",
    "y_test = to_categorical(y_test, num_classes=10)\n",
    "\n",
    "\n",
    "# Создание модели MLP\n",
    "model = keras.Sequential([layers.Dense(512, activation=\"relu\", input_shape=(28 * 28,)),\n",
    "                          layers.Dense(256, activation=\"relu\"),\n",
    "                          layers.Dense(10, activation=\"softmax\"),])\n",
    "\n",
    "# Компиляция модели\n",
    "model.compile(loss='categorical_crossentropy', optimizer='adam', metrics=['accuracy'])\n",
    "\n",
    "# Обучение модели\n",
    "model.fit(x_train, y_train, epochs=10, batch_size=128, validation_split=0.2)\n",
    "\n",
    "# Оценка модели\n",
    "loss, accuracy = model.evaluate(x_test, y_test, verbose=0)\n",
    "print('Loss:', loss)\n",
    "print('Accuracy:', accuracy)\n",
    "\n",
    "# Сохранение модели\n",
    "model.save('mnist_mlp_model.h5')\n",
    "```"
   ]
  },
  {
   "cell_type": "markdown",
   "id": "a4a36c3b-3c37-418b-9c18-8f7441dac380",
   "metadata": {
    "jp-MarkdownHeadingCollapsed": true
   },
   "source": [
    "#### Объяснение"
   ]
  },
  {
   "cell_type": "markdown",
   "id": "8fa9a672-033f-403a-939e-e8a406f7a7ec",
   "metadata": {},
   "source": [
    "- Загрузка и предобработка данных:\n",
    "  - Загрузка набора данных MNIST из Keras.\n",
    "  - Преобразование типов данных в float32.\n",
    "  - Нормализация значений пикселей от 0 до 1 для улучшения обучения.\n",
    "  - Преобразование изображений 28x28 в векторы длиной 784.\n",
    "  - Преобразование меток в one-hot кодирование (например, цифра 3 становится вектором 0, 0, 0, 1, 0, 0, 0, 0, 0, 0).\n",
    "- Создание модели MLP:\n",
    "  - Создание последовательной модели Keras (keras.Sequential).\n",
    "- Добавление трех слоев:\n",
    "  - Первый скрытый слой с 512 нейронами, функцией активации ReLU и входным размером 784.\n",
    "  - Второй скрытый слой с 256 нейронами и функцией активации ReLU.\n",
    "  - Выходной слой с 10 нейронами (по количеству классов) и функцией активации softmax для получения вероятностей классов.\n",
    "- Компиляция модели:\n",
    "  - Выбор функции потерь categorical_crossentropy для задачи многоклассовой классификации.\n",
    "  - Выбор оптимизатора adam для обновления весов.\n",
    "  - Указание метрики accuracy для отслеживания точности во время обучения.\n",
    "- Обучение модели:\n",
    "  - Вызов метода fit для обучения модели на обучающих данных.\n",
    "  - Указание количества эпох (10), размера партии (128) и доли данных для валидации (0.2).\n",
    "- Оценка модели:\n",
    "  - Вызов метода evaluate для оценки модели на тестовых данных.\n",
    "  - Вывод значений потерь и точности.\n",
    "- Сохранение модели:\n",
    "  - Сохранение обученной модели в файл mnist_mlp_model.h5.\n",
    "\n",
    "Этот код обучает простую MLP для распознавания рукописных цифр из набора данных MNIST. Вы можете изменять архитектуру модели, гиперпараметры и оптимизаторы для улучшения ее производительности."
   ]
  },
  {
   "cell_type": "markdown",
   "id": "33d70b5b-4ce5-4e57-8d1b-f15b98ff9b94",
   "metadata": {
    "jp-MarkdownHeadingCollapsed": true
   },
   "source": [
    "#### Реализация кода"
   ]
  },
  {
   "cell_type": "code",
   "execution_count": 2,
   "id": "68bf9e97-90a7-461d-ac0e-600739f24339",
   "metadata": {},
   "outputs": [
    {
     "name": "stderr",
     "output_type": "stream",
     "text": [
      "C:\\Users\\Viki\\AppData\\Local\\Programs\\Python\\Python312\\Lib\\site-packages\\keras\\src\\layers\\core\\dense.py:87: UserWarning: Do not pass an `input_shape`/`input_dim` argument to a layer. When using Sequential models, prefer using an `Input(shape)` object as the first layer in the model instead.\n",
      "  super().__init__(activity_regularizer=activity_regularizer, **kwargs)\n"
     ]
    },
    {
     "name": "stdout",
     "output_type": "stream",
     "text": [
      "Epoch 1/10\n",
      "\u001b[1m375/375\u001b[0m \u001b[32m━━━━━━━━━━━━━━━━━━━━\u001b[0m\u001b[37m\u001b[0m \u001b[1m3s\u001b[0m 6ms/step - accuracy: 0.8578 - loss: 0.4701 - val_accuracy: 0.9603 - val_loss: 0.1285\n",
      "Epoch 2/10\n",
      "\u001b[1m375/375\u001b[0m \u001b[32m━━━━━━━━━━━━━━━━━━━━\u001b[0m\u001b[37m\u001b[0m \u001b[1m2s\u001b[0m 5ms/step - accuracy: 0.9712 - loss: 0.0959 - val_accuracy: 0.9729 - val_loss: 0.0909\n",
      "Epoch 3/10\n",
      "\u001b[1m375/375\u001b[0m \u001b[32m━━━━━━━━━━━━━━━━━━━━\u001b[0m\u001b[37m\u001b[0m \u001b[1m2s\u001b[0m 5ms/step - accuracy: 0.9829 - loss: 0.0556 - val_accuracy: 0.9727 - val_loss: 0.0916\n",
      "Epoch 4/10\n",
      "\u001b[1m375/375\u001b[0m \u001b[32m━━━━━━━━━━━━━━━━━━━━\u001b[0m\u001b[37m\u001b[0m \u001b[1m2s\u001b[0m 5ms/step - accuracy: 0.9880 - loss: 0.0377 - val_accuracy: 0.9758 - val_loss: 0.0837\n",
      "Epoch 5/10\n",
      "\u001b[1m375/375\u001b[0m \u001b[32m━━━━━━━━━━━━━━━━━━━━\u001b[0m\u001b[37m\u001b[0m \u001b[1m2s\u001b[0m 5ms/step - accuracy: 0.9917 - loss: 0.0268 - val_accuracy: 0.9782 - val_loss: 0.0797\n",
      "Epoch 6/10\n",
      "\u001b[1m375/375\u001b[0m \u001b[32m━━━━━━━━━━━━━━━━━━━━\u001b[0m\u001b[37m\u001b[0m \u001b[1m2s\u001b[0m 5ms/step - accuracy: 0.9935 - loss: 0.0194 - val_accuracy: 0.9763 - val_loss: 0.0866\n",
      "Epoch 7/10\n",
      "\u001b[1m375/375\u001b[0m \u001b[32m━━━━━━━━━━━━━━━━━━━━\u001b[0m\u001b[37m\u001b[0m \u001b[1m2s\u001b[0m 5ms/step - accuracy: 0.9954 - loss: 0.0155 - val_accuracy: 0.9782 - val_loss: 0.0832\n",
      "Epoch 8/10\n",
      "\u001b[1m375/375\u001b[0m \u001b[32m━━━━━━━━━━━━━━━━━━━━\u001b[0m\u001b[37m\u001b[0m \u001b[1m2s\u001b[0m 5ms/step - accuracy: 0.9953 - loss: 0.0155 - val_accuracy: 0.9747 - val_loss: 0.1043\n",
      "Epoch 9/10\n",
      "\u001b[1m375/375\u001b[0m \u001b[32m━━━━━━━━━━━━━━━━━━━━\u001b[0m\u001b[37m\u001b[0m \u001b[1m2s\u001b[0m 5ms/step - accuracy: 0.9945 - loss: 0.0160 - val_accuracy: 0.9774 - val_loss: 0.0930\n",
      "Epoch 10/10\n",
      "\u001b[1m375/375\u001b[0m \u001b[32m━━━━━━━━━━━━━━━━━━━━\u001b[0m\u001b[37m\u001b[0m \u001b[1m2s\u001b[0m 5ms/step - accuracy: 0.9972 - loss: 0.0090 - val_accuracy: 0.9774 - val_loss: 0.1011\n"
     ]
    },
    {
     "name": "stderr",
     "output_type": "stream",
     "text": [
      "WARNING:absl:You are saving your model as an HDF5 file via `model.save()` or `keras.saving.save_model(model)`. This file format is considered legacy. We recommend using instead the native Keras format, e.g. `model.save('my_model.keras')` or `keras.saving.save_model(model, 'my_model.keras')`. \n"
     ]
    },
    {
     "name": "stdout",
     "output_type": "stream",
     "text": [
      "Loss: 0.08042571693658829\n",
      "Accuracy: 0.9812999963760376\n"
     ]
    }
   ],
   "source": [
    "from tensorflow import keras\n",
    "from tensorflow.keras import layers\n",
    "import numpy as np\n",
    "from tensorflow.keras.datasets import mnist\n",
    "from tensorflow.keras.utils import to_categorical\n",
    "\n",
    "# Загрузка набора данных MNIST\n",
    "(x_train, y_train), (x_test, y_test) = mnist.load_data()\n",
    "\n",
    "\n",
    "# Предобработка данных\n",
    "\n",
    "# Нормализация пикселей (от 0 до 1)\n",
    "x_train = x_train.astype('float32') / 255\n",
    "x_test = x_test.astype('float32') / 255\n",
    "\n",
    "# Преобразование данных в вектор\n",
    "x_train = x_train.reshape((60000, 28 * 28))\n",
    "x_test = x_test.reshape((10000, 28 * 28))\n",
    "\n",
    "# One-hot кодирование меток\n",
    "y_train = to_categorical(y_train, num_classes=10)\n",
    "y_test = to_categorical(y_test, num_classes=10)\n",
    "\n",
    "\n",
    "# Создание модели MLP\n",
    "model = keras.Sequential([layers.Dense(512, activation=\"relu\", input_shape=(28 * 28,)),\n",
    "                          layers.Dense(256, activation=\"relu\"),\n",
    "                          layers.Dense(10, activation=\"softmax\"),])\n",
    "\n",
    "# Компиляция модели\n",
    "model.compile(loss='categorical_crossentropy', optimizer='adam', metrics=['accuracy'])\n",
    "\n",
    "# Обучение модели\n",
    "model.fit(x_train, y_train, epochs=10, batch_size=128, validation_split=0.2)\n",
    "\n",
    "# Оценка модели\n",
    "loss, accuracy = model.evaluate(x_test, y_test, verbose=0)\n",
    "print('Loss:', loss)\n",
    "print('Accuracy:', accuracy)\n",
    "\n",
    "# Сохранение модели\n",
    "model.save('mnist_mlp_model.h5')"
   ]
  },
  {
   "cell_type": "markdown",
   "id": "759da645-4821-4c3d-99f0-35ae333fc536",
   "metadata": {
    "jp-MarkdownHeadingCollapsed": true
   },
   "source": [
    "### Практика - Пример: Создание автоэнкодера для сжатия изображений из набора данных CIFAR-10 с помощью Keras."
   ]
  },
  {
   "cell_type": "markdown",
   "id": "02ba57ca-1a2c-48ea-8077-fc7fc07510bc",
   "metadata": {
    "jp-MarkdownHeadingCollapsed": true
   },
   "source": [
    "#### Пример кода"
   ]
  },
  {
   "cell_type": "markdown",
   "id": "0d5fd5c9-4c0d-40fc-9a32-6b4b9632990a",
   "metadata": {},
   "source": [
    "```\n",
    "from tensorflow import keras\n",
    "from tensorflow.keras import layers\n",
    "from tensorflow.keras.datasets import cifar10\n",
    "\n",
    "# Загрузка набора данных CIFAR-10\n",
    "(x_train, _), (x_test, _) = cifar10.load_data()\n",
    "\n",
    "\n",
    "# Предобработка данных\n",
    "\n",
    "# Нормализация пикселей (от 0 до 1)\n",
    "x_train = x_train.astype('float32') / 255\n",
    "x_test = x_test.astype('float32') / 255\n",
    "\n",
    "# Преобразование данных в вектор\n",
    "x_train = x_train.reshape((len(x_train), 32 * 32 * 3))\n",
    "x_test = x_test.reshape((len(x_test), 32 * 32 * 3))\n",
    "\n",
    "\n",
    "# Размерность кодированного представления (бутылочное горлышко)\n",
    "encoding_dim = 32\n",
    "\n",
    "# Создание кодера\n",
    "input_img = keras.Input(shape=(32 * 32 * 3,))\n",
    "encoded = layers.Dense(128, activation='relu')(input_img)\n",
    "encoded = layers.Dense(64, activation='relu')(encoded)\n",
    "encoded = layers.Dense(encoding_dim, activation='relu')(encoded)\n",
    "\n",
    "# Создание декодера\n",
    "decoded = layers.Dense(64, activation='relu')(encoded)\n",
    "decoded = layers.Dense(128, activation='relu')(decoded)\n",
    "decoded = layers.Dense(32 * 32 * 3, activation='sigmoid')(decoded)\n",
    "\n",
    "# Создание автоэнкодера\n",
    "autoencoder = keras.Model(input_img, decoded)\n",
    "\n",
    "# Компиляция автоэнкодера\n",
    "autoencoder.compile(optimizer='adam', loss='binary_crossentropy')\n",
    "\n",
    "# Обучение автоэнкодера\n",
    "autoencoder.fit(x_train, x_train, epochs=50, batch_size=256, shuffle=True, validation_data=(x_test, x_test))\n",
    "\n",
    "# Сохранение автоэнкодера\n",
    "autoencoder.save('cifar10_autoencoder.h5')\n",
    "\n",
    "# Получение кодированных изображений (сжатие)\n",
    "encoder = keras.Model(input_img, encoded)\n",
    "encoded_imgs = encoder.predict(x_test)\n",
    "\n",
    "# Декодирование сжатых изображений (восстановление)\n",
    "decoded_imgs = autoencoder.predict(x_test)\n",
    "\n",
    "# Визуализация результатов (опционально)\n",
    "import matplotlib.pyplot as plt\n",
    "\n",
    "n = 10  # Количество изображений для отображения\n",
    "plt.figure(figsize=(20, 4))\n",
    "for i in range(n):\n",
    "    # Отображение исходного изображения\n",
    "    ax = plt.subplot(2, n, i + 1)\n",
    "    plt.imshow(x_test[i].reshape(32, 32, 3))\n",
    "    plt.gray()\n",
    "    ax.get_xaxis().set_visible(False)\n",
    "    ax.get_yaxis().set_visible(False)\n",
    "\n",
    "    # Отображение восстановленного изображения\n",
    "    ax = plt.subplot(2, n, i + 1 + n)\n",
    "    plt.imshow(decoded_imgs[i].reshape(32, 32, 3))\n",
    "    plt.gray()\n",
    "    ax.get_xaxis().set_visible(False)\n",
    "    ax.get_yaxis().set_visible(False)\n",
    "plt.show()\n",
    "```"
   ]
  },
  {
   "cell_type": "markdown",
   "id": "a3e82379-95b4-47bd-b61a-05d5bd0f9ea5",
   "metadata": {
    "jp-MarkdownHeadingCollapsed": true
   },
   "source": [
    "#### Объяснение"
   ]
  },
  {
   "cell_type": "markdown",
   "id": "a3e2b728-369d-4875-b1b7-bed9b59db8fa",
   "metadata": {},
   "source": [
    "- Загрузка и предобработка данных: аналогично предыдущему примеру.\n",
    "- Создание кодера:\n",
    "  - Создается входной слой с размерностью 3072 (32x32x3).\n",
    "  - Добавляются три полносвязных слоя с уменьшающимся количеством нейронов (128, 64, encoding_dim), чтобы сжать информацию в кодированное представление.\n",
    "- Создание декодера:\n",
    "  - Используются три полносвязных слоя с увеличивающимся количеством нейронов (64, 128, 3072), чтобы восстановить изображение из кодированного представления.\n",
    "- Создание и компиляция автоэнкодера:\n",
    "  - Создается модель keras.Model, объединяющая кодер и декодер.\n",
    "  - Компилируется с оптимизатором adam и функцией потерь binary_crossentropy.\n",
    "- Обучение автоэнкодера:\n",
    "  - Модель обучается на обучающей выборке (изображения сжимаются и восстанавливаются), используя тестовую выборку для валидации.\n",
    "- Сохранение автоэнкодера: Сохраняем обученную модель.\n",
    "- Получение кодированных и декодированных изображений:\n",
    "  - Создается отдельная модель encoder для получения кодированных изображений.\n",
    "  - Декодированные изображения получаются из полной модели autoencoder.\n",
    "- Визуализация результатов (опционально): отображаются исходные и восстановленные изображения для сравнения."
   ]
  },
  {
   "cell_type": "markdown",
   "id": "b8e33fdf-b567-4499-b820-dcfe94739b22",
   "metadata": {
    "jp-MarkdownHeadingCollapsed": true
   },
   "source": [
    "#### Реализация кода"
   ]
  },
  {
   "cell_type": "code",
   "execution_count": 3,
   "id": "0a1ad33a-bf00-45d2-9998-d0677d522c9e",
   "metadata": {},
   "outputs": [
    {
     "name": "stdout",
     "output_type": "stream",
     "text": [
      "Downloading data from https://www.cs.toronto.edu/~kriz/cifar-10-python.tar.gz\n",
      "\u001b[1m170498071/170498071\u001b[0m \u001b[32m━━━━━━━━━━━━━━━━━━━━\u001b[0m\u001b[37m\u001b[0m \u001b[1m8s\u001b[0m 0us/step \n",
      "Epoch 1/50\n",
      "\u001b[1m196/196\u001b[0m \u001b[32m━━━━━━━━━━━━━━━━━━━━\u001b[0m\u001b[37m\u001b[0m \u001b[1m5s\u001b[0m 16ms/step - loss: 0.6646 - val_loss: 0.6289\n",
      "Epoch 2/50\n",
      "\u001b[1m196/196\u001b[0m \u001b[32m━━━━━━━━━━━━━━━━━━━━\u001b[0m\u001b[37m\u001b[0m \u001b[1m3s\u001b[0m 15ms/step - loss: 0.6173 - val_loss: 0.6073\n",
      "Epoch 3/50\n",
      "\u001b[1m196/196\u001b[0m \u001b[32m━━━━━━━━━━━━━━━━━━━━\u001b[0m\u001b[37m\u001b[0m \u001b[1m3s\u001b[0m 15ms/step - loss: 0.6052 - val_loss: 0.6036\n",
      "Epoch 4/50\n",
      "\u001b[1m196/196\u001b[0m \u001b[32m━━━━━━━━━━━━━━━━━━━━\u001b[0m\u001b[37m\u001b[0m \u001b[1m3s\u001b[0m 15ms/step - loss: 0.6027 - val_loss: 0.6018\n",
      "Epoch 5/50\n",
      "\u001b[1m196/196\u001b[0m \u001b[32m━━━━━━━━━━━━━━━━━━━━\u001b[0m\u001b[37m\u001b[0m \u001b[1m3s\u001b[0m 15ms/step - loss: 0.6005 - val_loss: 0.5995\n",
      "Epoch 6/50\n",
      "\u001b[1m196/196\u001b[0m \u001b[32m━━━━━━━━━━━━━━━━━━━━\u001b[0m\u001b[37m\u001b[0m \u001b[1m3s\u001b[0m 15ms/step - loss: 0.5980 - val_loss: 0.5981\n",
      "Epoch 7/50\n",
      "\u001b[1m196/196\u001b[0m \u001b[32m━━━━━━━━━━━━━━━━━━━━\u001b[0m\u001b[37m\u001b[0m \u001b[1m3s\u001b[0m 15ms/step - loss: 0.5970 - val_loss: 0.5968\n",
      "Epoch 8/50\n",
      "\u001b[1m196/196\u001b[0m \u001b[32m━━━━━━━━━━━━━━━━━━━━\u001b[0m\u001b[37m\u001b[0m \u001b[1m3s\u001b[0m 15ms/step - loss: 0.5946 - val_loss: 0.5953\n",
      "Epoch 9/50\n",
      "\u001b[1m196/196\u001b[0m \u001b[32m━━━━━━━━━━━━━━━━━━━━\u001b[0m\u001b[37m\u001b[0m \u001b[1m3s\u001b[0m 15ms/step - loss: 0.5942 - val_loss: 0.5941\n",
      "Epoch 10/50\n",
      "\u001b[1m196/196\u001b[0m \u001b[32m━━━━━━━━━━━━━━━━━━━━\u001b[0m\u001b[37m\u001b[0m \u001b[1m3s\u001b[0m 15ms/step - loss: 0.5931 - val_loss: 0.5937\n",
      "Epoch 11/50\n",
      "\u001b[1m196/196\u001b[0m \u001b[32m━━━━━━━━━━━━━━━━━━━━\u001b[0m\u001b[37m\u001b[0m \u001b[1m3s\u001b[0m 15ms/step - loss: 0.5931 - val_loss: 0.5940\n",
      "Epoch 12/50\n",
      "\u001b[1m196/196\u001b[0m \u001b[32m━━━━━━━━━━━━━━━━━━━━\u001b[0m\u001b[37m\u001b[0m \u001b[1m3s\u001b[0m 15ms/step - loss: 0.5935 - val_loss: 0.5938\n",
      "Epoch 13/50\n",
      "\u001b[1m196/196\u001b[0m \u001b[32m━━━━━━━━━━━━━━━━━━━━\u001b[0m\u001b[37m\u001b[0m \u001b[1m3s\u001b[0m 15ms/step - loss: 0.5924 - val_loss: 0.5943\n",
      "Epoch 14/50\n",
      "\u001b[1m196/196\u001b[0m \u001b[32m━━━━━━━━━━━━━━━━━━━━\u001b[0m\u001b[37m\u001b[0m \u001b[1m3s\u001b[0m 15ms/step - loss: 0.5926 - val_loss: 0.5926\n",
      "Epoch 15/50\n",
      "\u001b[1m196/196\u001b[0m \u001b[32m━━━━━━━━━━━━━━━━━━━━\u001b[0m\u001b[37m\u001b[0m \u001b[1m3s\u001b[0m 15ms/step - loss: 0.5914 - val_loss: 0.5922\n",
      "Epoch 16/50\n",
      "\u001b[1m196/196\u001b[0m \u001b[32m━━━━━━━━━━━━━━━━━━━━\u001b[0m\u001b[37m\u001b[0m \u001b[1m3s\u001b[0m 15ms/step - loss: 0.5915 - val_loss: 0.5920\n",
      "Epoch 17/50\n",
      "\u001b[1m196/196\u001b[0m \u001b[32m━━━━━━━━━━━━━━━━━━━━\u001b[0m\u001b[37m\u001b[0m \u001b[1m3s\u001b[0m 15ms/step - loss: 0.5907 - val_loss: 0.5912\n",
      "Epoch 18/50\n",
      "\u001b[1m196/196\u001b[0m \u001b[32m━━━━━━━━━━━━━━━━━━━━\u001b[0m\u001b[37m\u001b[0m \u001b[1m3s\u001b[0m 15ms/step - loss: 0.5904 - val_loss: 0.5907\n",
      "Epoch 19/50\n",
      "\u001b[1m196/196\u001b[0m \u001b[32m━━━━━━━━━━━━━━━━━━━━\u001b[0m\u001b[37m\u001b[0m \u001b[1m3s\u001b[0m 15ms/step - loss: 0.5897 - val_loss: 0.5904\n",
      "Epoch 20/50\n",
      "\u001b[1m196/196\u001b[0m \u001b[32m━━━━━━━━━━━━━━━━━━━━\u001b[0m\u001b[37m\u001b[0m \u001b[1m3s\u001b[0m 15ms/step - loss: 0.5891 - val_loss: 0.5905\n",
      "Epoch 21/50\n",
      "\u001b[1m196/196\u001b[0m \u001b[32m━━━━━━━━━━━━━━━━━━━━\u001b[0m\u001b[37m\u001b[0m \u001b[1m3s\u001b[0m 15ms/step - loss: 0.5893 - val_loss: 0.5902\n",
      "Epoch 22/50\n",
      "\u001b[1m196/196\u001b[0m \u001b[32m━━━━━━━━━━━━━━━━━━━━\u001b[0m\u001b[37m\u001b[0m \u001b[1m3s\u001b[0m 15ms/step - loss: 0.5891 - val_loss: 0.5903\n",
      "Epoch 23/50\n",
      "\u001b[1m196/196\u001b[0m \u001b[32m━━━━━━━━━━━━━━━━━━━━\u001b[0m\u001b[37m\u001b[0m \u001b[1m3s\u001b[0m 15ms/step - loss: 0.5894 - val_loss: 0.5905\n",
      "Epoch 24/50\n",
      "\u001b[1m196/196\u001b[0m \u001b[32m━━━━━━━━━━━━━━━━━━━━\u001b[0m\u001b[37m\u001b[0m \u001b[1m3s\u001b[0m 15ms/step - loss: 0.5901 - val_loss: 0.5902\n",
      "Epoch 25/50\n",
      "\u001b[1m196/196\u001b[0m \u001b[32m━━━━━━━━━━━━━━━━━━━━\u001b[0m\u001b[37m\u001b[0m \u001b[1m3s\u001b[0m 15ms/step - loss: 0.5892 - val_loss: 0.5899\n",
      "Epoch 26/50\n",
      "\u001b[1m196/196\u001b[0m \u001b[32m━━━━━━━━━━━━━━━━━━━━\u001b[0m\u001b[37m\u001b[0m \u001b[1m3s\u001b[0m 15ms/step - loss: 0.5889 - val_loss: 0.5891\n",
      "Epoch 27/50\n",
      "\u001b[1m196/196\u001b[0m \u001b[32m━━━━━━━━━━━━━━━━━━━━\u001b[0m\u001b[37m\u001b[0m \u001b[1m3s\u001b[0m 15ms/step - loss: 0.5884 - val_loss: 0.5885\n",
      "Epoch 28/50\n",
      "\u001b[1m196/196\u001b[0m \u001b[32m━━━━━━━━━━━━━━━━━━━━\u001b[0m\u001b[37m\u001b[0m \u001b[1m3s\u001b[0m 15ms/step - loss: 0.5881 - val_loss: 0.5891\n",
      "Epoch 29/50\n",
      "\u001b[1m196/196\u001b[0m \u001b[32m━━━━━━━━━━━━━━━━━━━━\u001b[0m\u001b[37m\u001b[0m \u001b[1m3s\u001b[0m 15ms/step - loss: 0.5874 - val_loss: 0.5900\n",
      "Epoch 30/50\n",
      "\u001b[1m196/196\u001b[0m \u001b[32m━━━━━━━━━━━━━━━━━━━━\u001b[0m\u001b[37m\u001b[0m \u001b[1m3s\u001b[0m 15ms/step - loss: 0.5876 - val_loss: 0.5881\n",
      "Epoch 31/50\n",
      "\u001b[1m196/196\u001b[0m \u001b[32m━━━━━━━━━━━━━━━━━━━━\u001b[0m\u001b[37m\u001b[0m \u001b[1m3s\u001b[0m 15ms/step - loss: 0.5868 - val_loss: 0.5882\n",
      "Epoch 32/50\n",
      "\u001b[1m196/196\u001b[0m \u001b[32m━━━━━━━━━━━━━━━━━━━━\u001b[0m\u001b[37m\u001b[0m \u001b[1m3s\u001b[0m 15ms/step - loss: 0.5874 - val_loss: 0.5875\n",
      "Epoch 33/50\n",
      "\u001b[1m196/196\u001b[0m \u001b[32m━━━━━━━━━━━━━━━━━━━━\u001b[0m\u001b[37m\u001b[0m \u001b[1m3s\u001b[0m 15ms/step - loss: 0.5870 - val_loss: 0.5874\n",
      "Epoch 34/50\n",
      "\u001b[1m196/196\u001b[0m \u001b[32m━━━━━━━━━━━━━━━━━━━━\u001b[0m\u001b[37m\u001b[0m \u001b[1m3s\u001b[0m 15ms/step - loss: 0.5866 - val_loss: 0.5875\n",
      "Epoch 35/50\n",
      "\u001b[1m196/196\u001b[0m \u001b[32m━━━━━━━━━━━━━━━━━━━━\u001b[0m\u001b[37m\u001b[0m \u001b[1m3s\u001b[0m 15ms/step - loss: 0.5868 - val_loss: 0.5874\n",
      "Epoch 36/50\n",
      "\u001b[1m196/196\u001b[0m \u001b[32m━━━━━━━━━━━━━━━━━━━━\u001b[0m\u001b[37m\u001b[0m \u001b[1m3s\u001b[0m 15ms/step - loss: 0.5862 - val_loss: 0.5867\n",
      "Epoch 37/50\n",
      "\u001b[1m196/196\u001b[0m \u001b[32m━━━━━━━━━━━━━━━━━━━━\u001b[0m\u001b[37m\u001b[0m \u001b[1m3s\u001b[0m 15ms/step - loss: 0.5859 - val_loss: 0.5868\n",
      "Epoch 38/50\n",
      "\u001b[1m196/196\u001b[0m \u001b[32m━━━━━━━━━━━━━━━━━━━━\u001b[0m\u001b[37m\u001b[0m \u001b[1m3s\u001b[0m 15ms/step - loss: 0.5851 - val_loss: 0.5867\n",
      "Epoch 39/50\n",
      "\u001b[1m196/196\u001b[0m \u001b[32m━━━━━━━━━━━━━━━━━━━━\u001b[0m\u001b[37m\u001b[0m \u001b[1m3s\u001b[0m 15ms/step - loss: 0.5858 - val_loss: 0.5867\n",
      "Epoch 40/50\n",
      "\u001b[1m196/196\u001b[0m \u001b[32m━━━━━━━━━━━━━━━━━━━━\u001b[0m\u001b[37m\u001b[0m \u001b[1m3s\u001b[0m 15ms/step - loss: 0.5856 - val_loss: 0.5868\n",
      "Epoch 41/50\n",
      "\u001b[1m196/196\u001b[0m \u001b[32m━━━━━━━━━━━━━━━━━━━━\u001b[0m\u001b[37m\u001b[0m \u001b[1m3s\u001b[0m 15ms/step - loss: 0.5855 - val_loss: 0.5867\n",
      "Epoch 42/50\n",
      "\u001b[1m196/196\u001b[0m \u001b[32m━━━━━━━━━━━━━━━━━━━━\u001b[0m\u001b[37m\u001b[0m \u001b[1m3s\u001b[0m 15ms/step - loss: 0.5851 - val_loss: 0.5865\n",
      "Epoch 43/50\n",
      "\u001b[1m196/196\u001b[0m \u001b[32m━━━━━━━━━━━━━━━━━━━━\u001b[0m\u001b[37m\u001b[0m \u001b[1m3s\u001b[0m 15ms/step - loss: 0.5855 - val_loss: 0.5869\n",
      "Epoch 44/50\n",
      "\u001b[1m196/196\u001b[0m \u001b[32m━━━━━━━━━━━━━━━━━━━━\u001b[0m\u001b[37m\u001b[0m \u001b[1m3s\u001b[0m 16ms/step - loss: 0.5857 - val_loss: 0.5866\n",
      "Epoch 45/50\n",
      "\u001b[1m196/196\u001b[0m \u001b[32m━━━━━━━━━━━━━━━━━━━━\u001b[0m\u001b[37m\u001b[0m \u001b[1m3s\u001b[0m 15ms/step - loss: 0.5854 - val_loss: 0.5865\n",
      "Epoch 46/50\n",
      "\u001b[1m196/196\u001b[0m \u001b[32m━━━━━━━━━━━━━━━━━━━━\u001b[0m\u001b[37m\u001b[0m \u001b[1m3s\u001b[0m 15ms/step - loss: 0.5856 - val_loss: 0.5863\n",
      "Epoch 47/50\n",
      "\u001b[1m196/196\u001b[0m \u001b[32m━━━━━━━━━━━━━━━━━━━━\u001b[0m\u001b[37m\u001b[0m \u001b[1m3s\u001b[0m 15ms/step - loss: 0.5848 - val_loss: 0.5864\n",
      "Epoch 48/50\n",
      "\u001b[1m196/196\u001b[0m \u001b[32m━━━━━━━━━━━━━━━━━━━━\u001b[0m\u001b[37m\u001b[0m \u001b[1m3s\u001b[0m 15ms/step - loss: 0.5857 - val_loss: 0.5862\n",
      "Epoch 49/50\n",
      "\u001b[1m196/196\u001b[0m \u001b[32m━━━━━━━━━━━━━━━━━━━━\u001b[0m\u001b[37m\u001b[0m \u001b[1m3s\u001b[0m 15ms/step - loss: 0.5852 - val_loss: 0.5863\n",
      "Epoch 50/50\n",
      "\u001b[1m196/196\u001b[0m \u001b[32m━━━━━━━━━━━━━━━━━━━━\u001b[0m\u001b[37m\u001b[0m \u001b[1m3s\u001b[0m 15ms/step - loss: 0.5850 - val_loss: 0.5861\n"
     ]
    },
    {
     "name": "stderr",
     "output_type": "stream",
     "text": [
      "WARNING:absl:You are saving your model as an HDF5 file via `model.save()` or `keras.saving.save_model(model)`. This file format is considered legacy. We recommend using instead the native Keras format, e.g. `model.save('my_model.keras')` or `keras.saving.save_model(model, 'my_model.keras')`. \n"
     ]
    },
    {
     "name": "stdout",
     "output_type": "stream",
     "text": [
      "\u001b[1m313/313\u001b[0m \u001b[32m━━━━━━━━━━━━━━━━━━━━\u001b[0m\u001b[37m\u001b[0m \u001b[1m0s\u001b[0m 921us/step\n",
      "\u001b[1m313/313\u001b[0m \u001b[32m━━━━━━━━━━━━━━━━━━━━\u001b[0m\u001b[37m\u001b[0m \u001b[1m1s\u001b[0m 2ms/step  \n"
     ]
    },
    {
     "data": {
      "image/png": "[encoded data removed]",
      "text/plain": [
       "<Figure size 2000x400 with 20 Axes>"
      ]
     },
     "metadata": {},
     "output_type": "display_data"
    }
   ],
   "source": [
    "from tensorflow import keras\n",
    "from tensorflow.keras import layers\n",
    "from tensorflow.keras.datasets import cifar10\n",
    "\n",
    "# Загрузка набора данных CIFAR-10\n",
    "(x_train, _), (x_test, _) = cifar10.load_data()\n",
    "\n",
    "\n",
    "# Предобработка данных\n",
    "\n",
    "# Нормализация пикселей (от 0 до 1)\n",
    "x_train = x_train.astype('float32') / 255\n",
    "x_test = x_test.astype('float32') / 255\n",
    "\n",
    "# Преобразование данных в вектор\n",
    "x_train = x_train.reshape((len(x_train), 32 * 32 * 3))\n",
    "x_test = x_test.reshape((len(x_test), 32 * 32 * 3))\n",
    "\n",
    "\n",
    "# Размерность кодированного представления (бутылочное горлышко)\n",
    "encoding_dim = 32\n",
    "\n",
    "# Создание кодера\n",
    "input_img = keras.Input(shape=(32 * 32 * 3,))\n",
    "encoded = layers.Dense(128, activation='relu')(input_img)\n",
    "encoded = layers.Dense(64, activation='relu')(encoded)\n",
    "encoded = layers.Dense(encoding_dim, activation='relu')(encoded)\n",
    "\n",
    "# Создание декодера\n",
    "decoded = layers.Dense(64, activation='relu')(encoded)\n",
    "decoded = layers.Dense(128, activation='relu')(decoded)\n",
    "decoded = layers.Dense(32 * 32 * 3, activation='sigmoid')(decoded)\n",
    "\n",
    "# Создание автоэнкодера\n",
    "autoencoder = keras.Model(input_img, decoded)\n",
    "\n",
    "# Компиляция автоэнкодера\n",
    "autoencoder.compile(optimizer='adam', loss='binary_crossentropy')\n",
    "\n",
    "# Обучение автоэнкодера\n",
    "autoencoder.fit(x_train, x_train, epochs=50, batch_size=256, shuffle=True, validation_data=(x_test, x_test))\n",
    "\n",
    "# Сохранение автоэнкодера\n",
    "autoencoder.save('cifar10_autoencoder.h5')\n",
    "\n",
    "# Получение кодированных изображений (сжатие)\n",
    "encoder = keras.Model(input_img, encoded)\n",
    "encoded_imgs = encoder.predict(x_test)\n",
    "\n",
    "# Декодирование сжатых изображений (восстановление)\n",
    "decoded_imgs = autoencoder.predict(x_test)\n",
    "\n",
    "# Визуализация результатов (опционально)\n",
    "import matplotlib.pyplot as plt\n",
    "\n",
    "n = 10  # Количество изображений для отображения\n",
    "plt.figure(figsize=(20, 4))\n",
    "for i in range(n):\n",
    "    # Отображение исходного изображения\n",
    "    ax = plt.subplot(2, n, i + 1)\n",
    "    plt.imshow(x_test[i].reshape(32, 32, 3))\n",
    "    plt.gray()\n",
    "    ax.get_xaxis().set_visible(False)\n",
    "    ax.get_yaxis().set_visible(False)\n",
    "\n",
    "    # Отображение восстановленного изображения\n",
    "    ax = plt.subplot(2, n, i + 1 + n)\n",
    "    plt.imshow(decoded_imgs[i].reshape(32, 32, 3))\n",
    "    plt.gray()\n",
    "    ax.get_xaxis().set_visible(False)\n",
    "    ax.get_yaxis().set_visible(False)\n",
    "plt.show()"
   ]
  },
  {
   "cell_type": "markdown",
   "id": "05cf45a0-cff2-4c46-a71c-f213529f28b8",
   "metadata": {},
   "source": [
    "### Практика - Создание модели для генерации текста на основе LSTM, обученной на корпусе текстов "
   ]
  },
  {
   "cell_type": "markdown",
   "id": "c9e16d44-56cb-464f-9dab-27ac0aac5cbe",
   "metadata": {
    "jp-MarkdownHeadingCollapsed": true
   },
   "source": [
    "#### Пример кода"
   ]
  },
  {
   "cell_type": "markdown",
   "id": "49e9ca5f-217b-4003-a097-88d7ad9af868",
   "metadata": {},
   "source": [
    "```\n",
    "from tensorflow.keras.models import Sequential\n",
    "from tensorflow.keras.layers import LSTM, Dense, Embedding\n",
    "from tensorflow.keras.callbacks import EarlyStopping\n",
    "import numpy as np\n",
    "\n",
    "\n",
    "# Загрузка текстового корпуса (пример: произведения Шекспира)\n",
    "with open(\"shakespeare.txt\", \"r\", encoding=\"utf-8\") as f:\n",
    "    text = f.read().lower()\n",
    "\n",
    "# Создание словаря (все уникальные символы)\n",
    "chars = sorted(list(set(text)))\n",
    "char_to_int = {c: i for i, c in enumerate(chars)}\n",
    "int_to_char = {i: c for i, c in enumerate(chars)}\n",
    "\n",
    "# Создание обучающих данных\n",
    "seq_length = 100\n",
    "step = 3\n",
    "sentences = []\n",
    "next_chars = []\n",
    "for i in range(0, len(text) - seq_length, step):\n",
    "    sentences.append(text[i: i + seq_length])\n",
    "    next_chars.append(text[i + seq_length])\n",
    "\n",
    "# Преобразование текста в числовые данные\n",
    "x = np.zeros((len(sentences), seq_length, len(chars)), dtype=np.bool)\n",
    "y = np.zeros((len(sentences), len(chars)), dtype=np.bool)\n",
    "\n",
    "for i, sentence in enumerate(sentences):\n",
    "    for t, char in enumerate(sentence):\n",
    "        x[i, t, char_to_int[char]] = 1\n",
    "    y[i, char_to_int[next_chars[i]]] = 1\n",
    "\n",
    "# Создание модели LSTM\n",
    "model = Sequential()\n",
    "model.add(LSTM(128, input_shape=(seq_length, len(chars))))\n",
    "model.add(Dense(len(chars), activation=\"softmax\"))\n",
    "model.compile(loss=\"categorical_crossentropy\", optimizer=\"adam\")\n",
    "\n",
    "# Обучение модели\n",
    "early_stopping = EarlyStopping(monitor=\"loss\", patience=5)\n",
    "model.fit(x, y, epochs=50, batch_size=128, callbacks=[early_stopping])\n",
    "\n",
    "# Генерация текста\n",
    "def generate_text(start_index=np.random.randint(0, len(text) - seq_length), temperature=1.0):\n",
    "    generated_text = text[start_index: start_index + seq_length]\n",
    "    for i in range(400):\n",
    "        sampled = np.zeros((1, seq_length, len(chars)))\n",
    "        for t, char in enumerate(generated_text[-seq_length:]):\n",
    "            sampled[0, t, char_to_int[char]] = 1.\n",
    "        preds = model.predict(sampled, verbose=0)[0]\n",
    "        next_index = sample(preds, temperature)\n",
    "        next_char = int_to_char[next_index]\n",
    "        generated_text += next_char\n",
    "    return generated_text\n",
    "\n",
    "def sample(preds, temperature=1.0):\n",
    "    preds = np.asarray(preds).astype(\"float64\")\n",
    "    preds = np.log(preds) / temperature\n",
    "    exp_preds = np.exp(preds)\n",
    "    preds = exp_preds / np.sum(exp_preds)\n",
    "    probas = np.random.multinomial(1, preds, 1)\n",
    "    return np.argmax(probas)\n",
    "\n",
    "# Пример генерации текста\n",
    "print(generate_text())\n",
    "```"
   ]
  },
  {
   "cell_type": "markdown",
   "id": "f0f82bbf-3a45-4f22-b5c9-fc40d6ed6f48",
   "metadata": {
    "jp-MarkdownHeadingCollapsed": true
   },
   "source": [
    "#### Пояснение"
   ]
  },
  {
   "cell_type": "markdown",
   "id": "51d6fbca-6213-4077-99ce-fd8126aaca68",
   "metadata": {},
   "source": [
    "- Загрузка и подготовка данных:\n",
    "  - Загрузите текстовый корпус (в этом примере \"shakespeare.txt\").\n",
    "  - Создайте словарь символов, чтобы преобразовывать текст в числовые данные.\n",
    "  - Разделите текст на последовательности символов (предложения) и ожидаемые следующие символы.\n",
    "  - Преобразуйте текстовые данные в числовые, используя one-hot кодирование.\n",
    "- Создание и обучение модели:\n",
    "  - Создайте модель LSTM с помощью Keras.\n",
    "  - Скомпилируйте модель, указав функцию потерь, оптимизатор и метрики.\n",
    "  - Обучите модель на подготовленных данных, используя EarlyStopping для предотвращения переобучения.\n",
    "- Генерация текста:\n",
    "  - Функция generate_text принимает начальный текст и температуру в качестве входных данных.\n",
    "  - На основе начального текста модель предсказывает вероятности следующего символа.\n",
    "  - Используя температуру, выбирается следующий символ (более высокая температура - более случайный текст).\n",
    "  - Процесс повторяется, пока не будет сгенерирован текст нужной длины.\n",
    "\n",
    "Обратите внимание:\n",
    "- Вам нужно будет заменить \"shakespeare.txt\" на фактическое имя файла с текстовым корпусом.\n",
    "- Для достижения хороших результатов может потребоваться настроить параметры модели, такие как количество эпох, размер партии и архитектура модели.\n",
    "- Температура влияет на разнообразие генерируемого текста. Низкие значения температуры (ближе к 0) делают текст более предсказуемым, а высокие значения (больше 1) делают текст более случайным."
   ]
  },
  {
   "cell_type": "markdown",
   "id": "4e4dfcee-655f-447e-ae57-7563a6bcab71",
   "metadata": {},
   "source": [
    "#### Реализация кода"
   ]
  },
  {
   "cell_type": "code",
   "execution_count": 7,
   "id": "21c37484-fcd6-441a-a97b-84f171cd1989",
   "metadata": {},
   "outputs": [
    {
     "name": "stdout",
     "output_type": "stream",
     "text": [
      "Epoch 1/2\n",
      "\u001b[1m14158/14158\u001b[0m \u001b[32m━━━━━━━━━━━━━━━━━━━━\u001b[0m\u001b[37m\u001b[0m \u001b[1m1370s\u001b[0m 97ms/step - loss: 2.1321 \n",
      "Epoch 2/2\n",
      "\u001b[1m14158/14158\u001b[0m \u001b[32m━━━━━━━━━━━━━━━━━━━━\u001b[0m\u001b[37m\u001b[0m \u001b[1m1234s\u001b[0m 87ms/step - loss: 1.6009\n",
      "WARNING:tensorflow:5 out of the last 321 calls to <function TensorFlowTrainer.make_predict_function.<locals>.one_step_on_data_distributed at 0x000001E35B223C40> triggered tf.function retracing. Tracing is expensive and the excessive number of tracings could be due to (1) creating @tf.function repeatedly in a loop, (2) passing tensors with different shapes, (3) passing Python objects instead of tensors. For (1), please define your @tf.function outside of the loop. For (2), @tf.function has reduce_retracing=True option that can avoid unnecessary retracing. For (3), please refer to https://www.tensorflow.org/guide/function#controlling_retracing and https://www.tensorflow.org/api_docs/python/tf/function for  more details.\n"
     ]
    },
    {
     "name": "stderr",
     "output_type": "stream",
     "text": [
      "WARNING:tensorflow:5 out of the last 321 calls to <function TensorFlowTrainer.make_predict_function.<locals>.one_step_on_data_distributed at 0x000001E35B223C40> triggered tf.function retracing. Tracing is expensive and the excessive number of tracings could be due to (1) creating @tf.function repeatedly in a loop, (2) passing tensors with different shapes, (3) passing Python objects instead of tensors. For (1), please define your @tf.function outside of the loop. For (2), @tf.function has reduce_retracing=True option that can avoid unnecessary retracing. For (3), please refer to https://www.tensorflow.org/guide/function#controlling_retracing and https://www.tensorflow.org/api_docs/python/tf/function for  more details.\n"
     ]
    },
    {
     "name": "stdout",
     "output_type": "stream",
     "text": [
      "foreign royalty.\n",
      "    this inundation of mistemp'red humour\n",
      "    rests by you only to be qualified.\n",
      "    by noberside's shall some might.\n",
      "  eph. i may unhath some bod from you'blen\n",
      "    and play hive; deway come nasia feach of theight's ere for\n",
      "    think you kange begary ay with anque my dome looks his pray.\n",
      "  learus. we adain i shall be ney a days of minethort, ouf any\n",
      "    wordy great to your chaice of yoo ear me; indine refown part,\n",
      "                         yolk king, i fooling toak,\n",
      "  nor beatifn\n"
     ]
    }
   ],
   "source": [
    "from tensorflow.keras.models import Sequential\n",
    "from tensorflow.keras.layers import LSTM, Dense, Embedding\n",
    "from tensorflow.keras.callbacks import EarlyStopping\n",
    "import numpy as np\n",
    "\n",
    "\n",
    "# Загрузка текстового корпуса (пример: произведения Шекспира)\n",
    "with open(\"shakespeare.txt\", \"r\", encoding=\"utf-8\") as f:\n",
    "    text = f.read().lower()\n",
    "\n",
    "# Создание словаря (все уникальные символы)\n",
    "chars = sorted(list(set(text)))\n",
    "char_to_int = {c: i for i, c in enumerate(chars)}\n",
    "int_to_char = {i: c for i, c in enumerate(chars)}\n",
    "\n",
    "# Создание обучающих данных\n",
    "seq_length = 100\n",
    "step = 3\n",
    "sentences = []\n",
    "next_chars = []\n",
    "for i in range(0, len(text) - seq_length, step):\n",
    "    sentences.append(text[i: i + seq_length])\n",
    "    next_chars.append(text[i + seq_length])\n",
    "\n",
    "# Преобразование текста в числовые данные\n",
    "x = np.zeros((len(sentences), seq_length, len(chars)), dtype=np.bool)\n",
    "y = np.zeros((len(sentences), len(chars)), dtype=np.bool)\n",
    "\n",
    "for i, sentence in enumerate(sentences):\n",
    "    for t, char in enumerate(sentence):\n",
    "        x[i, t, char_to_int[char]] = 1\n",
    "    y[i, char_to_int[next_chars[i]]] = 1\n",
    "\n",
    "# Создание модели LSTM\n",
    "model = Sequential()\n",
    "model.add(LSTM(128, input_shape=(seq_length, len(chars))))\n",
    "model.add(Dense(len(chars), activation=\"softmax\"))\n",
    "model.compile(loss=\"categorical_crossentropy\", optimizer=\"adam\")\n",
    "\n",
    "# Обучение модели\n",
    "early_stopping = EarlyStopping(monitor=\"loss\", patience=5)\n",
    "model.fit(x, y, epochs=2, batch_size=128, callbacks=[early_stopping])\n",
    "\n",
    "# Генерация текста\n",
    "def generate_text(start_index=np.random.randint(0, len(text) - seq_length), temperature=1.0):\n",
    "    generated_text = text[start_index: start_index + seq_length]\n",
    "    for i in range(400):\n",
    "        sampled = np.zeros((1, seq_length, len(chars)))\n",
    "        for t, char in enumerate(generated_text[-seq_length:]):\n",
    "            sampled[0, t, char_to_int[char]] = 1.\n",
    "        preds = model.predict(sampled, verbose=0)[0]\n",
    "        next_index = sample(preds, temperature)\n",
    "        next_char = int_to_char[next_index]\n",
    "        generated_text += next_char\n",
    "    return generated_text\n",
    "\n",
    "def sample(preds, temperature=1.0):\n",
    "    preds = np.asarray(preds).astype(\"float64\")\n",
    "    preds = np.log(preds) / temperature\n",
    "    exp_preds = np.exp(preds)\n",
    "    preds = exp_preds / np.sum(exp_preds)\n",
    "    probas = np.random.multinomial(1, preds, 1)\n",
    "    return np.argmax(probas)\n",
    "\n",
    "# Пример генерации текста\n",
    "print(generate_text())"
   ]
  },
  {
   "cell_type": "markdown",
   "id": "b8f7e38a-ddcc-4c45-8031-1f18a9733e99",
   "metadata": {
    "jp-MarkdownHeadingCollapsed": true
   },
   "source": [
    "### Практика - Классификация изображений "
   ]
  },
  {
   "cell_type": "markdown",
   "id": "9df459cd-5df0-4c03-9d7e-489ebbbdf55a",
   "metadata": {},
   "source": [
    "#### Пример кода"
   ]
  },
  {
   "cell_type": "markdown",
   "id": "0df0a0d3-6fc2-49dc-ba2d-4057a5460efa",
   "metadata": {},
   "source": [
    "```\n",
    "import numpy as np\n",
    "import matplotlib.pyplot as plt\n",
    "from tensorflow import keras\n",
    "from tensorflow.keras import layers\n",
    "from sklearn.model_selection import train_test_split\n",
    "\n",
    "# Генерация данных: фигуры (круги, квадраты, треугольники)\n",
    "def generate_shape(shape, size=28, noise=0.1):\n",
    "    \"\"\"Генерирует изображение фигуры.\"\"\"\n",
    "    image = np.zeros((size, size))\n",
    "    center = size // 2\n",
    "    radius = size // 4\n",
    "    if shape == 'circle':\n",
    "        for i in range(size):\n",
    "            for j in range(size):\n",
    "                if np.sqrt((i - center)**2 + (j - center)**2) <= radius:\n",
    "                    image[i, j] = 1\n",
    "\n",
    "    elif shape == 'square':\n",
    "        image[center - radius:center + radius, center - radius:center + radius] = 1\n",
    "    elif shape == 'triangle':\n",
    "        for i in range(size):\n",
    "            for j in range(size):\n",
    "                if (i >= center and j >= center - (i - center) and j <= center + (i - center)):\n",
    "                    image[i, j] = 1\n",
    "    image += np.random.randn(size, size) * noise\n",
    "    return image\n",
    "\n",
    "# Создание набора данных\n",
    "n_samples = 1000\n",
    "shapes = ['circle', 'square', 'triangle']\n",
    "X = np.zeros((n_samples, 28, 28, 1))\n",
    "y = np.zeros(n_samples)\n",
    "\n",
    "for i in range(n_samples):\n",
    "    shape_idx = np.random.randint(0, len(shapes))\n",
    "    X[i, :, :, 0] = generate_shape(shapes[shape_idx])\n",
    "    y[i] = shape_idx\n",
    "\n",
    "# Разделение данных на обучающую и тестовую выборки\n",
    "X_train, X_test, y_train, y_test = train_test_split(X, y, test_size=0.2)\n",
    "\n",
    "# Создание модели CNN\n",
    "model = keras.Sequential([layers.Conv2D(32, kernel_size=(3, 3), activation='relu', input_shape=(28, 28, 1)),\n",
    "                          layers.MaxPooling2D(pool_size=(2, 2)),\n",
    "                          layers.Conv2D(64, kernel_size=(3, 3), activation='relu'),\n",
    "                          layers.MaxPooling2D(pool_size=(2, 2)),\n",
    "                          layers.Flatten(),\n",
    "                          layers.Dense(10, activation='relu'),\n",
    "                          layers.Dense(len(shapes), activation='softmax')])\n",
    "\n",
    "# Компиляция модели\n",
    "model.compile(optimizer='adam', loss='sparse_categorical_crossentropy', metrics=['accuracy'])\n",
    "\n",
    "# Обучение модели\n",
    "model.fit(X_train, y_train, epochs=10, validation_data=(X_test, y_test))\n",
    "\n",
    "# Оценка модели\n",
    "loss, accuracy = model.evaluate(X_test, y_test, verbose=0)\n",
    "print('Loss:', loss)\n",
    "print('Accuracy:', accuracy)\n",
    "\n",
    "# Визуализация предсказаний (опционально)\n",
    "predictions = model.predict(X_test)\n",
    "plt.figure(figsize=(10, 10))\n",
    "\n",
    "for i in range(25):\n",
    "    plt.subplot(5, 5, i+1)\n",
    "    plt.xticks([])\n",
    "    plt.yticks([])\n",
    "    plt.grid(False)\n",
    "    plt.imshow(X_test[i, :, :, 0], cmap=plt.cm.binary)\n",
    "    plt.xlabel(shapes[np.argmax(predictions[i])])\n",
    "\n",
    "plt.show()"
   ]
  },
  {
   "cell_type": "markdown",
   "id": "173c2191-faff-4bcb-9034-ff4096a5644b",
   "metadata": {},
   "source": [
    "#### Объяснение кода"
   ]
  },
  {
   "cell_type": "markdown",
   "id": "271e9003-2140-42d7-9ffd-0339d50b433a",
   "metadata": {},
   "source": [
    "- Генерация данных:\n",
    "  - Функция generate_shape создает изображение заданной фигуры (круг, квадрат, треугольник) с шумом.\n",
    "  - Создается набор данных из n_samples изображений с метками классов (0, 1, 2).\n",
    "- Создание модели CNN:\n",
    "  - Два сверточных слоя (Conv2D) с функцией активации ReLU.\n",
    "  - Два слоя пулинга (MaxPooling2D).\n",
    "  - Слой Flatten для преобразования многомерных данных в вектор.\n",
    "  - Полносвязный слой (Dense) с 10 нейронами и ReLU.\n",
    "  - Выходной слой (Dense) с количеством нейронов, равным количеству классов, и функцией активации softmax.\n",
    "- Компиляция модели:\n",
    "  - Оптимизатор: adam.\n",
    "  - Функция потерь: sparse_categorical_crossentropy (для целочисленных меток классов).\n",
    "  - Метрика: accuracy.\n",
    "- Обучение модели: Модель обучается на обучающей выборке с валидацией на тестовой выборке.\n",
    "- Оценка модели: Вычисляются значения потерь и точности на тестовой выборке.\n",
    "- Визуализация предсказаний: Отображаются изображения из тестовой выборки с предсказанными метками классов.\n",
    "\n",
    "\n",
    "Этот пример демонстрирует, как создать и обучить простую CNN для  классификации изображений фигур. Вы можете изменять  архитектуру модели, гиперпараметры и данные для решения других задач  классификации изображений."
   ]
  },
  {
   "cell_type": "markdown",
   "id": "b3c8cc7a-eab4-49ef-8c2b-a788c6a596a4",
   "metadata": {},
   "source": [
    "#### Реализация кода"
   ]
  },
  {
   "cell_type": "code",
   "execution_count": 6,
   "id": "03f875db-a690-42b9-b652-ff8367a6f72f",
   "metadata": {},
   "outputs": [
    {
     "name": "stdout",
     "output_type": "stream",
     "text": [
      "Epoch 1/10\n"
     ]
    },
    {
     "name": "stderr",
     "output_type": "stream",
     "text": [
      "C:\\Users\\Viki\\AppData\\Local\\Programs\\Python\\Python312\\Lib\\site-packages\\keras\\src\\layers\\convolutional\\base_conv.py:107: UserWarning: Do not pass an `input_shape`/`input_dim` argument to a layer. When using Sequential models, prefer using an `Input(shape)` object as the first layer in the model instead.\n",
      "  super().__init__(activity_regularizer=activity_regularizer, **kwargs)\n"
     ]
    },
    {
     "name": "stdout",
     "output_type": "stream",
     "text": [
      "\u001b[1m25/25\u001b[0m \u001b[32m━━━━━━━━━━━━━━━━━━━━\u001b[0m\u001b[37m\u001b[0m \u001b[1m1s\u001b[0m 15ms/step - accuracy: 0.9149 - loss: 0.8391 - val_accuracy: 1.0000 - val_loss: 0.0924\n",
      "Epoch 2/10\n",
      "\u001b[1m25/25\u001b[0m \u001b[32m━━━━━━━━━━━━━━━━━━━━\u001b[0m\u001b[37m\u001b[0m \u001b[1m0s\u001b[0m 8ms/step - accuracy: 1.0000 - loss: 0.0408 - val_accuracy: 1.0000 - val_loss: 0.0017\n",
      "Epoch 3/10\n",
      "\u001b[1m25/25\u001b[0m \u001b[32m━━━━━━━━━━━━━━━━━━━━\u001b[0m\u001b[37m\u001b[0m \u001b[1m0s\u001b[0m 8ms/step - accuracy: 1.0000 - loss: 0.0012 - val_accuracy: 1.0000 - val_loss: 6.3069e-04\n",
      "Epoch 4/10\n",
      "\u001b[1m25/25\u001b[0m \u001b[32m━━━━━━━━━━━━━━━━━━━━\u001b[0m\u001b[37m\u001b[0m \u001b[1m0s\u001b[0m 9ms/step - accuracy: 1.0000 - loss: 5.7281e-04 - val_accuracy: 1.0000 - val_loss: 4.6498e-04\n",
      "Epoch 5/10\n",
      "\u001b[1m25/25\u001b[0m \u001b[32m━━━━━━━━━━━━━━━━━━━━\u001b[0m\u001b[37m\u001b[0m \u001b[1m0s\u001b[0m 7ms/step - accuracy: 1.0000 - loss: 4.4336e-04 - val_accuracy: 1.0000 - val_loss: 3.7535e-04\n",
      "Epoch 6/10\n",
      "\u001b[1m25/25\u001b[0m \u001b[32m━━━━━━━━━━━━━━━━━━━━\u001b[0m\u001b[37m\u001b[0m \u001b[1m0s\u001b[0m 7ms/step - accuracy: 1.0000 - loss: 3.5229e-04 - val_accuracy: 1.0000 - val_loss: 3.1158e-04\n",
      "Epoch 7/10\n",
      "\u001b[1m25/25\u001b[0m \u001b[32m━━━━━━━━━━━━━━━━━━━━\u001b[0m\u001b[37m\u001b[0m \u001b[1m0s\u001b[0m 8ms/step - accuracy: 1.0000 - loss: 2.8682e-04 - val_accuracy: 1.0000 - val_loss: 2.6080e-04\n",
      "Epoch 8/10\n",
      "\u001b[1m25/25\u001b[0m \u001b[32m━━━━━━━━━━━━━━━━━━━━\u001b[0m\u001b[37m\u001b[0m \u001b[1m0s\u001b[0m 8ms/step - accuracy: 1.0000 - loss: 2.4366e-04 - val_accuracy: 1.0000 - val_loss: 2.2034e-04\n",
      "Epoch 9/10\n",
      "\u001b[1m25/25\u001b[0m \u001b[32m━━━━━━━━━━━━━━━━━━━━\u001b[0m\u001b[37m\u001b[0m \u001b[1m0s\u001b[0m 9ms/step - accuracy: 1.0000 - loss: 2.0978e-04 - val_accuracy: 1.0000 - val_loss: 1.8848e-04\n",
      "Epoch 10/10\n",
      "\u001b[1m25/25\u001b[0m \u001b[32m━━━━━━━━━━━━━━━━━━━━\u001b[0m\u001b[37m\u001b[0m \u001b[1m0s\u001b[0m 7ms/step - accuracy: 1.0000 - loss: 1.7847e-04 - val_accuracy: 1.0000 - val_loss: 1.6238e-04\n",
      "Loss: 0.00016237568343058228\n",
      "Accuracy: 1.0\n",
      "\u001b[1m7/7\u001b[0m \u001b[32m━━━━━━━━━━━━━━━━━━━━\u001b[0m\u001b[37m\u001b[0m \u001b[1m0s\u001b[0m 10ms/step\n"
     ]
    },
    {
     "data": {
      "image/png": "[encoded data removed]",
      "text/plain": [
       "<Figure size 1000x1000 with 25 Axes>"
      ]
     },
     "metadata": {},
     "output_type": "display_data"
    }
   ],
   "source": [
    "import numpy as np\n",
    "import matplotlib.pyplot as plt\n",
    "from tensorflow import keras\n",
    "from tensorflow.keras import layers\n",
    "from sklearn.model_selection import train_test_split\n",
    "\n",
    "# Генерация данных: фигуры (круги, квадраты, треугольники)\n",
    "def generate_shape(shape, size=28, noise=0.1):\n",
    "    \"\"\"Генерирует изображение фигуры.\"\"\"\n",
    "    image = np.zeros((size, size))\n",
    "    center = size // 2\n",
    "    radius = size // 4\n",
    "    if shape == 'circle':\n",
    "        for i in range(size):\n",
    "            for j in range(size):\n",
    "                if np.sqrt((i - center)**2 + (j - center)**2) <= radius:\n",
    "                    image[i, j] = 1\n",
    "\n",
    "    elif shape == 'square':\n",
    "        image[center - radius:center + radius, center - radius:center + radius] = 1\n",
    "    elif shape == 'triangle':\n",
    "        for i in range(size):\n",
    "            for j in range(size):\n",
    "                if (i >= center and j >= center - (i - center) and j <= center + (i - center)):\n",
    "                    image[i, j] = 1\n",
    "    image += np.random.randn(size, size) * noise\n",
    "    return image\n",
    "\n",
    "# Создание набора данных\n",
    "n_samples = 1000\n",
    "shapes = ['circle', 'square', 'triangle']\n",
    "X = np.zeros((n_samples, 28, 28, 1))\n",
    "y = np.zeros(n_samples)\n",
    "\n",
    "for i in range(n_samples):\n",
    "    shape_idx = np.random.randint(0, len(shapes))\n",
    "    X[i, :, :, 0] = generate_shape(shapes[shape_idx])\n",
    "    y[i] = shape_idx\n",
    "\n",
    "# Разделение данных на обучающую и тестовую выборки\n",
    "X_train, X_test, y_train, y_test = train_test_split(X, y, test_size=0.2)\n",
    "\n",
    "# Создание модели CNN\n",
    "model = keras.Sequential([layers.Conv2D(32, kernel_size=(3, 3), activation='relu', input_shape=(28, 28, 1)),\n",
    "                          layers.MaxPooling2D(pool_size=(2, 2)),\n",
    "                          layers.Conv2D(64, kernel_size=(3, 3), activation='relu'),\n",
    "                          layers.MaxPooling2D(pool_size=(2, 2)),\n",
    "                          layers.Flatten(),\n",
    "                          layers.Dense(10, activation='relu'),\n",
    "                          layers.Dense(len(shapes), activation='softmax')])\n",
    "\n",
    "# Компиляция модели\n",
    "model.compile(optimizer='adam', loss='sparse_categorical_crossentropy', metrics=['accuracy'])\n",
    "\n",
    "# Обучение модели\n",
    "model.fit(X_train, y_train, epochs=10, validation_data=(X_test, y_test))\n",
    "\n",
    "# Оценка модели\n",
    "loss, accuracy = model.evaluate(X_test, y_test, verbose=0)\n",
    "print('Loss:', loss)\n",
    "print('Accuracy:', accuracy)\n",
    "\n",
    "# Визуализация предсказаний (опционально)\n",
    "predictions = model.predict(X_test)\n",
    "plt.figure(figsize=(10, 10))\n",
    "\n",
    "for i in range(25):\n",
    "    plt.subplot(5, 5, i+1)\n",
    "    plt.xticks([])\n",
    "    plt.yticks([])\n",
    "    plt.grid(False)\n",
    "    plt.imshow(X_test[i, :, :, 0], cmap=plt.cm.binary)\n",
    "    plt.xlabel(shapes[np.argmax(predictions[i])])\n",
    "\n",
    "plt.show()"
   ]
  }
 ],
 "metadata": {
  "kernelspec": {
   "display_name": "Python 3 (ipykernel)",
   "language": "python",
   "name": "python3"
  },
  "language_info": {
   "codemirror_mode": {
    "name": "ipython",
    "version": 3
   },
   "file_extension": ".py",
   "mimetype": "text/x-python",
   "name": "python",
   "nbconvert_exporter": "python",
   "pygments_lexer": "ipython3",
   "version": "3.12.9"
  }
 },
 "nbformat": 4,
 "nbformat_minor": 5
}
