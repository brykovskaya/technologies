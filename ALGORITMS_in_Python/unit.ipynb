{
 "cells": [
  {
   "cell_type": "markdown",
   "id": "903ab5c7-3e94-40ec-9a7f-c063049bd96a",
   "metadata": {},
   "source": [
    "new "
   ]
  }
 ],
 "metadata": {
  "kernelspec": {
   "display_name": "Python 3 (ipykernel)",
   "language": "python",
   "name": "python3"
  },
  "language_info": {
   "codemirror_mode": {
    "name": "ipython",
    "version": 3
   },
   "file_extension": ".py",
   "mimetype": "text/x-python",
   "name": "python",
   "nbconvert_exporter": "python",
   "pygments_lexer": "ipython3",
   "version": "3.12.7"
  }
 },
 "nbformat": 4,
 "nbformat_minor": 5
}
