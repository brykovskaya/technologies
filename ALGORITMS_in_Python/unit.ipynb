{
 "cells": [
  {
   "cell_type": "markdown",
   "id": "903ab5c7-3e94-40ec-9a7f-c063049bd96a",
   "metadata": {},
   "source": [
    "## Сортировка Шелла\n",
    "В случае с полностью неотсортированным списком размера N алгоритм должен совершить N – 1 полных проходов.\n",
    "\n",
    "Алгоритм сортировки Шелла доступным языком можно описать так:\n",
    "1. Массив делится на подмассивы, каждый из которых состоит из элементов с определённым расстоянием между ними. Обычно это расстояние равно длине массива, делённой на 2.\n",
    "2. Массив сортируется с помощью сортировки вставками.\n",
    "3. После завершения сортировки промежуток уменьшается вдвое и процесс повторяется.\n",
    "4. Этот процесс повторяется до тех пор, пока расстояние не станет равным 1, и массив будет отсортирован.\n",
    "\n",
    "### Сложность\n",
    "- Временная сложность алгоритма сортировки Шелла зависит от выбора шагов. В худшем случае может достигать O(n2), но обычно работает значительно быстрее.  лучшая временна́я сложность достигает O(n log2 n)\n",
    "- Пространственная сложность — O(1), так как сортировка выполняется на месте"
   ]
  },
  {
   "cell_type": "code",
   "execution_count": null,
   "id": "8914e1d5-2279-4596-9632-c2a5ab43e566",
   "metadata": {},
   "outputs": [],
   "source": [
    "# из поисковика\n",
    "def shell_sort(data: list[int]) -> list[int]:\n",
    "    last_index = len(data)\n",
    "    step = len(data)//2\n",
    "    while step > 0:\n",
    "        for i in range(step, last_index, 1):\n",
    "            j = i\n",
    "            delta = j - step\n",
    "            while delta >= 0 and data[delta] > data[j]:\n",
    "                data[delta], data[j] = data[j], data[delta]\n",
    "                j = delta\n",
    "                delta = j - step\n",
    "        step //= 2\n",
    "    return data"
   ]
  },
  {
   "cell_type": "code",
   "execution_count": 9,
   "id": "78d40d18-584f-4eb6-8648-baf9b01a2c92",
   "metadata": {},
   "outputs": [],
   "source": [
    "# алгоритма сортировки Шелла выглядит \n",
    "def shellSort(list):\n",
    "    distance = len(list) // 2\n",
    "    while distance > 0:\n",
    "        for i in range(distance, len(list)):\n",
    "            temp = list[i]\n",
    "            j = i\n",
    "    # Сортировка подсписка для текущего значения дистанции\n",
    "            while j >= distance and list[j - distance] > temp:\n",
    "                list[j] = list[j - distance]\n",
    "                j = j-distance\n",
    "            list[j] = temp\n",
    "    # Уменьшаем расстояние до следующего элемента\n",
    "        distance = distance//2\n",
    "    return list"
   ]
  },
  {
   "cell_type": "code",
   "execution_count": 12,
   "id": "8361dac4-e599-4a17-94b1-3572efef61a0",
   "metadata": {},
   "outputs": [
    {
     "name": "stdout",
     "output_type": "stream",
     "text": [
      "Sorted array is:\n",
      " [11, 12, 13, 14, 15, 16, 17, 18, 19, 20, 21, 22, 23, 24, 25, 26]\n"
     ]
    }
   ],
   "source": [
    "list = [26,17,20,11,23,21,13,18,24,14,12,22,16,15,19,25]\n",
    "shellSort(list)\n",
    "print(\"Sorted array is:\\n\", list)"
   ]
  },
  {
   "cell_type": "code",
   "execution_count": null,
   "id": "494ddb01-66ab-4c75-89e7-7536fc43ecc2",
   "metadata": {},
   "outputs": [],
   "source": []
  }
 ],
 "metadata": {
  "kernelspec": {
   "display_name": "Python 3 (ipykernel)",
   "language": "python",
   "name": "python3"
  },
  "language_info": {
   "codemirror_mode": {
    "name": "ipython",
    "version": 3
   },
   "file_extension": ".py",
   "mimetype": "text/x-python",
   "name": "python",
   "nbconvert_exporter": "python",
   "pygments_lexer": "ipython3",
   "version": "3.12.7"
  }
 },
 "nbformat": 4,
 "nbformat_minor": 5
}
